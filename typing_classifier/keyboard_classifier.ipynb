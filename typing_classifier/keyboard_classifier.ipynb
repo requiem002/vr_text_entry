{
 "cells": [
  {
   "cell_type": "code",
   "execution_count": 3,
   "id": "06a06b5d",
   "metadata": {},
   "outputs": [],
   "source": [
    "import pandas as pd\n",
    "import numpy as np\n",
    "import os\n",
    "import glob\n",
    "import re # Using regular expressions for robust sorting\n",
    "import random\n",
    "import tensorflow as tf\n",
    "\n",
    "data_folder = \"keyboard_training_data/\""
   ]
  },
  {
   "cell_type": "code",
   "execution_count": null,
   "id": "0649eb8c",
   "metadata": {},
   "outputs": [
    {
     "name": "stdout",
     "output_type": "stream",
     "text": [
      "Found 1 participant folders to process.\n",
      "\n",
      "--- Processing Participant: p_10 ---\n"
     ]
    }
   ],
   "source": [
    "# --- Seeding for reproducibility ---\n",
    "random.seed(42)\n",
    "np.random.seed(42)\n",
    "tf.random.set_seed(42)\n",
    "\n",
    "needed_cols = [\n",
    "    'TimeStamp',\n",
    "    'Meta_R_Index_Distal_GLOBAL_X',\n",
    "    'Meta_R_Index_Distal_GLOBAL_Y',\n",
    "    'Meta_R_Index_Distal_GLOBAL_Z',\n",
    "\n",
    "    'Meta_R_Index_End_GLOBAL_X',\n",
    "    'Meta_R_Index_End_GLOBAL_Y',\n",
    "    'Meta_R_Index_End_GLOBAL_Z',\n",
    "    'Pressed_Letter'\n",
    "]\n",
    "\n",
    "\n",
    "\n",
    "\n",
    "# --- This list will hold the final, clean DataFrames for each session ---\n",
    "all_session_dfs = []\n",
    "\n",
    "\n",
    "\n",
    "# --- Discover Participant Folders ---\n",
    "try:\n",
    "    participant_folders = [f.path for f in os.scandir(data_folder) if f.is_dir()]\n",
    "except FileNotFoundError:\n",
    "    print(f\"ERROR: The directory '{data_folder}' was not found. Please check the path.\")\n",
    "    participant_folders = []\n",
    "\n",
    "print(f\"Found {len(participant_folders)} participant folders to process.\\n\")\n",
    "\n",
    "# --- Main Processing Loop (Iterating through each participant) ---\n",
    "for folder_path in participant_folders:\n",
    "    participant_id = os.path.basename(folder_path)\n",
    "    print(f\"--- Processing Participant: {participant_id} ---\")\n",
    "\n",
    "    search_pattern = os.path.join(folder_path, '*.csv')\n",
    "    csv_files = glob.glob(search_pattern)\n",
    "\n",
    "    if not csv_files:\n",
    "        print(\"  -> No CSV files found, skipping.\\n\")\n",
    "        continue\n",
    "\n",
    "    # --- Sort files chronologically using the timestamp in the filename ---\n",
    "    def get_sort_key(filepath):\n",
    "        matches = re.findall(r'(\\d+\\.\\d+)\\.csv', os.path.basename(filepath))\n",
    "        return float(matches[-1]) if matches else 0\n",
    "\n",
    "    csv_files.sort(key=get_sort_key)\n",
    "\n",
    "    # Concatenate all files FOR THIS PARTICIPANT ONLY\n",
    "    session_dfs = [pd.read_csv(file,  low_memory=False) for file in csv_files]\n",
    "    if session_dfs:\n",
    "        session_df = pd.concat(session_dfs, ignore_index=True)\n",
    "        all_session_dfs.append(session_df)\n",
    "        print(f\"  -> Success! Created a session DataFrame with shape: {session_df.shape}\")\n",
    "\n",
    "\n",
    "print(\"\\n--- Smart Concatenation Complete ---\")\n",
    "print(f\"Processed {len(all_session_dfs)} total sessions.\")"
   ]
  },
  {
   "cell_type": "code",
   "execution_count": null,
   "id": "a9c1b44e",
   "metadata": {},
   "outputs": [],
   "source": [
    "def process_quest_file(file_path):\n",
    "    \"\"\"\n",
    "    Loads a single data file, filters empty files, downsamples it,\n",
    "    and calculates features.\n",
    "    \"\"\"\n",
    "    df = pd.read_csv(file_path, low_memory=False)\n",
    "    \n",
    "    # --- NEW: Add this block to skip files with no taps ---\n",
    "    if 'KeyPressFlag' not in df.columns or df['KeyPressFlag'].sum() == 0:\n",
    "        print(f\"  -> Skipping {os.path.basename(file_path)}: No tap events found.\")\n",
    "        return None\n",
    "    # --- END OF NEW BLOCK ---\n",
    "    "
   ]
  },
  {
   "cell_type": "code",
   "execution_count": null,
   "id": "50b84781",
   "metadata": {},
   "outputs": [
    {
     "name": "stdout",
     "output_type": "stream",
     "text": [
      "--- Starting Advanced Feature Engineering ---\n",
      "Processing session 1/1...\n",
      "\n",
      "--- Feature Engineering Complete ---\n",
      "Shape of the final featured DataFrame: (19609, 93)\n",
      "\n",
      "Example of new feature columns created:\n",
      "   pos_R_Index_x  vel_R_Index_x  accel_R_Index_x\n",
      "0       0.137068       0.017703        -1.093732\n",
      "1       0.137149       0.011419        -1.166647\n",
      "2       0.137194       0.004730        -1.239563\n",
      "3       0.137201      -0.002365        -1.312478\n",
      "4       0.137167      -0.009865        -1.385394\n"
     ]
    }
   ],
   "source": [
    "from scipy.signal import savgol_filter\n",
    "import numpy as np\n",
    "import pandas as pd\n",
    "\n",
    "print(\"--- Starting Advanced Feature Engineering ---\")\n",
    "\n",
    "# A list to hold the newly processed DataFrames from each session\n",
    "processed_sessions = []\n",
    "\n",
    "# Define all the fingertips we want to process\n",
    "fingers = [\n",
    "    'Thumb', 'Index', 'Middle', 'Ring', 'Little'\n",
    "]\n",
    "hands = ['L', 'R']\n",
    "axes = ['X', 'Y', 'Z']\n",
    "\n",
    "# Create a list of all the position columns we'll need and generate feature names\n",
    "position_columns = ['TimeStamp', 'KeyPressFlag', 'Pressed_Letter']\n",
    "feature_names = []\n",
    "# Iterating through all the hands and fingers and axes to get the position columns\n",
    "for hand in hands:\n",
    "    for finger in fingers:\n",
    "        for axis in axes:\n",
    "            col_name = f'Meta_{hand}_{finger}_Distal_GLOBAL_{axis}'\n",
    "            position_columns.append(col_name)\n",
    "            \n",
    "            # Also define names for the new features we will create\n",
    "            feature_names.extend([\n",
    "                f'pos_{hand}_{finger}_{axis.lower()}',\n",
    "                f'vel_{hand}_{finger}_{axis.lower()}',\n",
    "                f'accel_{hand}_{finger}_{axis.lower()}'\n",
    "            ])\n",
    "\n",
    "\n",
    "# --- Main Feature Engineering Loop ---\n",
    "# This will iterate through each participant's session data from your previous step\n",
    "for i, session_df in enumerate(all_session_dfs):\n",
    "    print(f\"Processing session {i+1}/{len(all_session_dfs)}...\")\n",
    "    \n",
    "    # Make sure all required columns exist in this session's data\n",
    "    if not all(col in session_df.columns for col in position_columns):\n",
    "        print(f\"  -> Skipping session {i+1} due to missing columns.\")\n",
    "        continue\n",
    "        \n",
    "    # Create a new dataframe for the processed features\n",
    "    processed_df = session_df[['TimeStamp', 'KeyPressFlag', 'Pressed_Letter']].copy()\n",
    "\n",
    "    # Calculate features for each finger individually\n",
    "    for hand in hands:\n",
    "        for finger in fingers:\n",
    "            # Savitzky-Golay filter parameters (you can tune these)\n",
    "            window_length = 11  # Must be an odd number\n",
    "            polyorder = 3\n",
    "            \n",
    "            # Ensure window_length is not larger than the data\n",
    "            if len(session_df) < window_length:\n",
    "                continue\n",
    "\n",
    "            # Calculate the time delta 'dt' for this session\n",
    "            dt = session_df['TimeStamp'].diff().median()\n",
    "            if pd.isna(dt) or dt <= 0:\n",
    "                dt = 1/90.0 # Fallback to 90Hz\n",
    "\n",
    "            for axis in axes:\n",
    "                pos_col = f'Meta_{hand}_{finger}_Distal_GLOBAL_{axis}'\n",
    "                \n",
    "                # Get the raw position data as a numpy array\n",
    "                pos_raw = session_df[pos_col].to_numpy()\n",
    "                \n",
    "                # Apply the Savitzky-Golay filter to smooth and calculate derivatives\n",
    "                pos_smooth = savgol_filter(pos_raw, window_length, polyorder, deriv=0, delta=dt)\n",
    "                vel_smooth = savgol_filter(pos_raw, window_length, polyorder, deriv=1, delta=dt)\n",
    "                accel_smooth = savgol_filter(pos_raw, window_length, polyorder, deriv=2, delta=dt)\n",
    "                \n",
    "                # Add the new, clean features to our processed dataframe\n",
    "                processed_df[f'pos_{hand}_{finger}_{axis.lower()}'] = pos_smooth\n",
    "                processed_df[f'vel_{hand}_{finger}_{axis.lower()}'] = vel_smooth\n",
    "                processed_df[f'accel_{hand}_{finger}_{axis.lower()}'] = accel_smooth\n",
    "    \n",
    "    # Clean up any potential NaN/Infinity values and add the processed data to our list\n",
    "    processed_df.replace([np.inf, -np.inf], np.nan, inplace=True)\n",
    "    processed_df.dropna(inplace=True)\n",
    "    processed_sessions.append(processed_df)\n",
    "\n",
    "# --- Final Combination ---\n",
    "if processed_sessions:\n",
    "    master_df_featured = pd.concat(processed_sessions, ignore_index=True)\n",
    "    print(\"\\n--- Feature Engineering Complete ---\")\n",
    "    print(\"Shape of the final featured DataFrame:\", master_df_featured.shape)\n",
    "    print(\"\\nExample of new feature columns created:\")\n",
    "    print(master_df_featured[['pos_R_Index_x', 'vel_R_Index_x', 'accel_R_Index_x']].head())\n",
    "else:\n",
    "    print(\"\\nNo data was processed. Check your input dataframes.\")\n"
   ]
  },
  {
   "cell_type": "code",
   "execution_count": null,
   "id": "57c9fdc5",
   "metadata": {},
   "outputs": [
    {
     "name": "stdout",
     "output_type": "stream",
     "text": [
      "--- Creating Visualization of Tap Locations ---\n",
      "Found 118 distinct tap events to visualize.\n"
     ]
    },
    {
     "data": {
      "image/png": "[encoded data removed]",
      "text/plain": [
       "<Figure size 1200x600 with 1 Axes>"
      ]
     },
     "metadata": {},
     "output_type": "display_data"
    }
   ],
   "source": [
    "import matplotlib.pyplot as plt\n",
    "import seaborn as sns\n",
    "\n",
    "print(\"--- Creating Visualization of Tap Locations ---\")\n",
    "\n",
    "# First, create a smaller dataframe that only contains the rows where a tap occurred.\n",
    "# We also select only the columns we need for this plot.\n",
    "tap_events_df = master_df_featured[master_df_featured['KeyPressFlag'] == 1][[\n",
    "    'pos_R_Index_x', \n",
    "    'pos_R_Index_z', \n",
    "    'Pressed_Letter'\n",
    "]].copy()\n",
    "\n",
    "print(f\"Found {len(tap_events_df)} distinct tap events to visualize.\")\n",
    "\n",
    "# Create the 2D scatter plot\n",
    "plt.figure(figsize=(12, 6))\n",
    "sns.scatterplot(\n",
    "    data=tap_events_df,\n",
    "    x='pos_R_Index_x',\n",
    "    y='pos_R_Index_z',\n",
    "    hue='Pressed_Letter', # Color each point by the letter that was pressed\n",
    "    palette='viridis',    # A nice color map\n",
    "    s=80,                 # Size of the points\n",
    "    alpha=0.7,            # Transparency\n",
    "    legend=False          # Turn off the legend for clarity\n",
    ")\n",
    "\n",
    "plt.title('2D Visualization of Right Index Finger Tap Locations')\n",
    "plt.xlabel('X Coordinate (Left/Right)')\n",
    "plt.ylabel('Z Coordinate (Forward/Backward)')\n",
    "plt.grid(True)\n",
    "plt.axis('equal') # Ensure the scaling of X and Z axes is the same\n",
    "plt.show()"
   ]
  },
  {
   "cell_type": "code",
   "execution_count": 14,
   "id": "4595b80c",
   "metadata": {},
   "outputs": [
    {
     "name": "stdout",
     "output_type": "stream",
     "text": [
      "--- Preparing Data for Time-Series Windowing ---\n",
      "Data prepared with 90 features.\n",
      "\n",
      "Creating time-series windows with a size of 25 frames...\n",
      "\n",
      "--- Windowing Complete ---\n",
      "Shape of X_windowed: (19584, 25, 90)\n",
      "Shape of y_windowed: (19584,)\n"
     ]
    }
   ],
   "source": [
    "import numpy as np\n",
    "\n",
    "print(\"--- Preparing Data for Time-Series Windowing ---\")\n",
    "\n",
    "# --- Step 1: Define the full list of features for all 10 fingers ---\n",
    "feature_columns = []\n",
    "fingers = ['Thumb', 'Index', 'Middle', 'Ring', 'Little']\n",
    "hands = ['L', 'R']\n",
    "feature_types = ['pos', 'vel', 'accel']\n",
    "axes = ['x', 'y', 'z']\n",
    "\n",
    "for hand in hands:\n",
    "    for finger in fingers:\n",
    "        for feature in feature_types:\n",
    "            for axis in axes:\n",
    "                feature_columns.append(f'{feature}_{hand}_{finger}_{axis}')\n",
    "\n",
    "# --- Step 2: Prepare the data array for the windowing function ---\n",
    "# The function expects the label ('KeyPressFlag') in the first column\n",
    "timeseries_data = master_df_featured[['KeyPressFlag'] + feature_columns].to_numpy()\n",
    "\n",
    "print(f\"Data prepared with {timeseries_data.shape[1] - 1} features.\")\n",
    "\n",
    "\n",
    "# --- Step 3: Use the windowing function ---\n",
    "def make_timeseries_instances(time_series, window_size):\n",
    "    \"\"\"Chops the data into overlapping windows.\"\"\"\n",
    "    X = []\n",
    "    y = []\n",
    "    # We start from window_size to have enough data for the first window\n",
    "    for i in range(window_size, time_series.shape[0]):\n",
    "        # The window consists of the previous 'window_size' frames of feature data\n",
    "        X.append(time_series[i-window_size:i, 1:]) # Features start from column 1\n",
    "        # The label is the KeyPressFlag at the end of that window\n",
    "        y.append(time_series[i, 0])\n",
    "    return np.array(X), np.array(y).astype(int)\n",
    "\n",
    "# You can tune this window size. 20-30 is a good starting point.\n",
    "window_size = 25 \n",
    "\n",
    "print(f\"\\nCreating time-series windows with a size of {window_size} frames...\")\n",
    "X_windowed, y_windowed = make_timeseries_instances(timeseries_data, window_size)\n",
    "\n",
    "# --- Step 4: Verify the result ---\n",
    "# The shape of X should be (number_of_samples, window_size, number_of_features)\n",
    "print(\"\\n--- Windowing Complete ---\")\n",
    "print(\"Shape of X_windowed:\", X_windowed.shape)\n",
    "print(\"Shape of y_windowed:\", y_windowed.shape)\n",
    "\n"
   ]
  },
  {
   "cell_type": "code",
   "execution_count": null,
   "id": "d8fa337f",
   "metadata": {},
   "outputs": [
    {
     "name": "stdout",
     "output_type": "stream",
     "text": [
      "--- Starting Model Training & Evaluation ---\n",
      "Data split into 15667 training samples and 3917 testing samples.\n",
      "Feature data has been successfully scaled.\n",
      "\n",
      "Building the BiLSTM model...\n"
     ]
    },
    {
     "name": "stderr",
     "output_type": "stream",
     "text": [
      "c:\\Users\\saad_\\anaconda3\\envs\\tf_env\\Lib\\site-packages\\keras\\src\\layers\\rnn\\rnn.py:199: UserWarning: Do not pass an `input_shape`/`input_dim` argument to a layer. When using Sequential models, prefer using an `Input(shape)` object as the first layer in the model instead.\n",
      "  super().__init__(**kwargs)\n"
     ]
    },
    {
     "data": {
      "text/html": [
       "<pre style=\"white-space:pre;overflow-x:auto;line-height:normal;font-family:Menlo,'DejaVu Sans Mono',consolas,'Courier New',monospace\"><span style=\"font-weight: bold\">Model: \"sequential\"</span>\n",
       "</pre>\n"
      ],
      "text/plain": [
       "\u001b[1mModel: \"sequential\"\u001b[0m\n"
      ]
     },
     "metadata": {},
     "output_type": "display_data"
    },
    {
     "data": {
      "text/html": [
       "<pre style=\"white-space:pre;overflow-x:auto;line-height:normal;font-family:Menlo,'DejaVu Sans Mono',consolas,'Courier New',monospace\">┏━━━━━━━━━━━━━━━━━━━━━━━━━━━━━━━━━┳━━━━━━━━━━━━━━━━━━━━━━━━┳━━━━━━━━━━━━━━━┓\n",
       "┃<span style=\"font-weight: bold\"> Layer (type)                    </span>┃<span style=\"font-weight: bold\"> Output Shape           </span>┃<span style=\"font-weight: bold\">       Param # </span>┃\n",
       "┡━━━━━━━━━━━━━━━━━━━━━━━━━━━━━━━━━╇━━━━━━━━━━━━━━━━━━━━━━━━╇━━━━━━━━━━━━━━━┩\n",
       "│ bidirectional (<span style=\"color: #0087ff; text-decoration-color: #0087ff\">Bidirectional</span>)   │ ?                      │   <span style=\"color: #00af00; text-decoration-color: #00af00\">0</span> (unbuilt) │\n",
       "├─────────────────────────────────┼────────────────────────┼───────────────┤\n",
       "│ dropout (<span style=\"color: #0087ff; text-decoration-color: #0087ff\">Dropout</span>)               │ ?                      │             <span style=\"color: #00af00; text-decoration-color: #00af00\">0</span> │\n",
       "├─────────────────────────────────┼────────────────────────┼───────────────┤\n",
       "│ dense (<span style=\"color: #0087ff; text-decoration-color: #0087ff\">Dense</span>)                   │ ?                      │   <span style=\"color: #00af00; text-decoration-color: #00af00\">0</span> (unbuilt) │\n",
       "├─────────────────────────────────┼────────────────────────┼───────────────┤\n",
       "│ dense_1 (<span style=\"color: #0087ff; text-decoration-color: #0087ff\">Dense</span>)                 │ ?                      │   <span style=\"color: #00af00; text-decoration-color: #00af00\">0</span> (unbuilt) │\n",
       "└─────────────────────────────────┴────────────────────────┴───────────────┘\n",
       "</pre>\n"
      ],
      "text/plain": [
       "┏━━━━━━━━━━━━━━━━━━━━━━━━━━━━━━━━━┳━━━━━━━━━━━━━━━━━━━━━━━━┳━━━━━━━━━━━━━━━┓\n",
       "┃\u001b[1m \u001b[0m\u001b[1mLayer (type)                   \u001b[0m\u001b[1m \u001b[0m┃\u001b[1m \u001b[0m\u001b[1mOutput Shape          \u001b[0m\u001b[1m \u001b[0m┃\u001b[1m \u001b[0m\u001b[1m      Param #\u001b[0m\u001b[1m \u001b[0m┃\n",
       "┡━━━━━━━━━━━━━━━━━━━━━━━━━━━━━━━━━╇━━━━━━━━━━━━━━━━━━━━━━━━╇━━━━━━━━━━━━━━━┩\n",
       "│ bidirectional (\u001b[38;5;33mBidirectional\u001b[0m)   │ ?                      │   \u001b[38;5;34m0\u001b[0m (unbuilt) │\n",
       "├─────────────────────────────────┼────────────────────────┼───────────────┤\n",
       "│ dropout (\u001b[38;5;33mDropout\u001b[0m)               │ ?                      │             \u001b[38;5;34m0\u001b[0m │\n",
       "├─────────────────────────────────┼────────────────────────┼───────────────┤\n",
       "│ dense (\u001b[38;5;33mDense\u001b[0m)                   │ ?                      │   \u001b[38;5;34m0\u001b[0m (unbuilt) │\n",
       "├─────────────────────────────────┼────────────────────────┼───────────────┤\n",
       "│ dense_1 (\u001b[38;5;33mDense\u001b[0m)                 │ ?                      │   \u001b[38;5;34m0\u001b[0m (unbuilt) │\n",
       "└─────────────────────────────────┴────────────────────────┴───────────────┘\n"
      ]
     },
     "metadata": {},
     "output_type": "display_data"
    },
    {
     "data": {
      "text/html": [
       "<pre style=\"white-space:pre;overflow-x:auto;line-height:normal;font-family:Menlo,'DejaVu Sans Mono',consolas,'Courier New',monospace\"><span style=\"font-weight: bold\"> Total params: </span><span style=\"color: #00af00; text-decoration-color: #00af00\">0</span> (0.00 B)\n",
       "</pre>\n"
      ],
      "text/plain": [
       "\u001b[1m Total params: \u001b[0m\u001b[38;5;34m0\u001b[0m (0.00 B)\n"
      ]
     },
     "metadata": {},
     "output_type": "display_data"
    },
    {
     "data": {
      "text/html": [
       "<pre style=\"white-space:pre;overflow-x:auto;line-height:normal;font-family:Menlo,'DejaVu Sans Mono',consolas,'Courier New',monospace\"><span style=\"font-weight: bold\"> Trainable params: </span><span style=\"color: #00af00; text-decoration-color: #00af00\">0</span> (0.00 B)\n",
       "</pre>\n"
      ],
      "text/plain": [
       "\u001b[1m Trainable params: \u001b[0m\u001b[38;5;34m0\u001b[0m (0.00 B)\n"
      ]
     },
     "metadata": {},
     "output_type": "display_data"
    },
    {
     "data": {
      "text/html": [
       "<pre style=\"white-space:pre;overflow-x:auto;line-height:normal;font-family:Menlo,'DejaVu Sans Mono',consolas,'Courier New',monospace\"><span style=\"font-weight: bold\"> Non-trainable params: </span><span style=\"color: #00af00; text-decoration-color: #00af00\">0</span> (0.00 B)\n",
       "</pre>\n"
      ],
      "text/plain": [
       "\u001b[1m Non-trainable params: \u001b[0m\u001b[38;5;34m0\u001b[0m (0.00 B)\n"
      ]
     },
     "metadata": {},
     "output_type": "display_data"
    },
    {
     "name": "stdout",
     "output_type": "stream",
     "text": [
      "\n",
      "Training the BiLSTM model... (This may take some time)\n",
      "Epoch 1/20\n",
      "\u001b[1m49/49\u001b[0m \u001b[32m━━━━━━━━━━━━━━━━━━━━\u001b[0m\u001b[37m\u001b[0m \u001b[1m5s\u001b[0m 45ms/step - accuracy: 0.9146 - loss: 0.7459 - val_accuracy: 0.9145 - val_loss: 0.4412\n",
      "Epoch 2/20\n",
      "\u001b[1m49/49\u001b[0m \u001b[32m━━━━━━━━━━━━━━━━━━━━\u001b[0m\u001b[37m\u001b[0m \u001b[1m2s\u001b[0m 40ms/step - accuracy: 0.8911 - loss: 0.4189 - val_accuracy: 0.9043 - val_loss: 0.3310\n",
      "Epoch 3/20\n",
      "\u001b[1m49/49\u001b[0m \u001b[32m━━━━━━━━━━━━━━━━━━━━\u001b[0m\u001b[37m\u001b[0m \u001b[1m2s\u001b[0m 41ms/step - accuracy: 0.9150 - loss: 0.2714 - val_accuracy: 0.9352 - val_loss: 0.2027\n",
      "Epoch 4/20\n",
      "\u001b[1m49/49\u001b[0m \u001b[32m━━━━━━━━━━━━━━━━━━━━\u001b[0m\u001b[37m\u001b[0m \u001b[1m2s\u001b[0m 41ms/step - accuracy: 0.9409 - loss: 0.1503 - val_accuracy: 0.9496 - val_loss: 0.1474\n",
      "Epoch 5/20\n",
      "\u001b[1m49/49\u001b[0m \u001b[32m━━━━━━━━━━━━━━━━━━━━\u001b[0m\u001b[37m\u001b[0m \u001b[1m2s\u001b[0m 40ms/step - accuracy: 0.9473 - loss: 0.1452 - val_accuracy: 0.9595 - val_loss: 0.1125\n",
      "Epoch 6/20\n",
      "\u001b[1m49/49\u001b[0m \u001b[32m━━━━━━━━━━━━━━━━━━━━\u001b[0m\u001b[37m\u001b[0m \u001b[1m2s\u001b[0m 41ms/step - accuracy: 0.9629 - loss: 0.1150 - val_accuracy: 0.9608 - val_loss: 0.1101\n",
      "Epoch 7/20\n",
      "\u001b[1m49/49\u001b[0m \u001b[32m━━━━━━━━━━━━━━━━━━━━\u001b[0m\u001b[37m\u001b[0m \u001b[1m2s\u001b[0m 42ms/step - accuracy: 0.9631 - loss: 0.0875 - val_accuracy: 0.9662 - val_loss: 0.0950\n",
      "Epoch 8/20\n",
      "\u001b[1m49/49\u001b[0m \u001b[32m━━━━━━━━━━━━━━━━━━━━\u001b[0m\u001b[37m\u001b[0m \u001b[1m2s\u001b[0m 39ms/step - accuracy: 0.9708 - loss: 0.0573 - val_accuracy: 0.9703 - val_loss: 0.0849\n",
      "Epoch 9/20\n",
      "\u001b[1m49/49\u001b[0m \u001b[32m━━━━━━━━━━━━━━━━━━━━\u001b[0m\u001b[37m\u001b[0m \u001b[1m2s\u001b[0m 38ms/step - accuracy: 0.9675 - loss: 0.0812 - val_accuracy: 0.9713 - val_loss: 0.0821\n",
      "Epoch 10/20\n",
      "\u001b[1m49/49\u001b[0m \u001b[32m━━━━━━━━━━━━━━━━━━━━\u001b[0m\u001b[37m\u001b[0m \u001b[1m2s\u001b[0m 39ms/step - accuracy: 0.9713 - loss: 0.0634 - val_accuracy: 0.9694 - val_loss: 0.0897\n",
      "Epoch 11/20\n",
      "\u001b[1m49/49\u001b[0m \u001b[32m━━━━━━━━━━━━━━━━━━━━\u001b[0m\u001b[37m\u001b[0m \u001b[1m2s\u001b[0m 41ms/step - accuracy: 0.9754 - loss: 0.0486 - val_accuracy: 0.9745 - val_loss: 0.0749\n",
      "Epoch 12/20\n",
      "\u001b[1m49/49\u001b[0m \u001b[32m━━━━━━━━━━━━━━━━━━━━\u001b[0m\u001b[37m\u001b[0m \u001b[1m2s\u001b[0m 40ms/step - accuracy: 0.9740 - loss: 0.0584 - val_accuracy: 0.9716 - val_loss: 0.0842\n",
      "Epoch 13/20\n",
      "\u001b[1m49/49\u001b[0m \u001b[32m━━━━━━━━━━━━━━━━━━━━\u001b[0m\u001b[37m\u001b[0m \u001b[1m2s\u001b[0m 38ms/step - accuracy: 0.9757 - loss: 0.0526 - val_accuracy: 0.9767 - val_loss: 0.0686\n",
      "Epoch 14/20\n",
      "\u001b[1m49/49\u001b[0m \u001b[32m━━━━━━━━━━━━━━━━━━━━\u001b[0m\u001b[37m\u001b[0m \u001b[1m2s\u001b[0m 44ms/step - accuracy: 0.9779 - loss: 0.0604 - val_accuracy: 0.9722 - val_loss: 0.0878\n",
      "Epoch 15/20\n",
      "\u001b[1m49/49\u001b[0m \u001b[32m━━━━━━━━━━━━━━━━━━━━\u001b[0m\u001b[37m\u001b[0m \u001b[1m3s\u001b[0m 51ms/step - accuracy: 0.9761 - loss: 0.0576 - val_accuracy: 0.9665 - val_loss: 0.1074\n",
      "Epoch 16/20\n",
      "\u001b[1m49/49\u001b[0m \u001b[32m━━━━━━━━━━━━━━━━━━━━\u001b[0m\u001b[37m\u001b[0m \u001b[1m2s\u001b[0m 39ms/step - accuracy: 0.9739 - loss: 0.0458 - val_accuracy: 0.9735 - val_loss: 0.0815\n",
      "\n",
      "--- Evaluating the final model on the test set ---\n",
      "\u001b[1m123/123\u001b[0m \u001b[32m━━━━━━━━━━━━━━━━━━━━\u001b[0m\u001b[37m\u001b[0m \u001b[1m1s\u001b[0m 5ms/step\n",
      "\n",
      "Final BiLSTM Model Confusion Matrix:\n",
      "[[3809   84]\n",
      " [   7   17]]\n",
      "\n",
      "Classification Report:\n",
      "              precision    recall  f1-score   support\n",
      "\n",
      "  No Tap (0)       1.00      0.98      0.99      3893\n",
      "     Tap (1)       0.17      0.71      0.27        24\n",
      "\n",
      "    accuracy                           0.98      3917\n",
      "   macro avg       0.58      0.84      0.63      3917\n",
      "weighted avg       0.99      0.98      0.98      3917\n",
      "\n"
     ]
    }
   ],
   "source": [
    "import numpy as np\n",
    "from sklearn.model_selection import train_test_split\n",
    "from sklearn.preprocessing import StandardScaler\n",
    "from sklearn.metrics import confusion_matrix, classification_report\n",
    "from sklearn.utils import class_weight\n",
    "import tensorflow as tf\n",
    "from tensorflow.keras.models import Sequential\n",
    "from tensorflow.keras.layers import Bidirectional, LSTM, Dense, Dropout\n",
    "from tensorflow.keras.callbacks import EarlyStopping\n",
    "\n",
    "print(\"--- Starting Model Training & Evaluation ---\")\n",
    "\n",
    "# --- Step 1: Split the Data into Training and Testing Sets ---\n",
    "# We use stratify=y_windowed to ensure both sets have a representative number of tap events.\n",
    "X_train, X_test, y_train, y_test = train_test_split(\n",
    "    X_windowed, y_windowed, test_size=0.2, random_state=42, stratify=y_windowed\n",
    ")\n",
    "\n",
    "print(f\"Data split into {len(X_train)} training samples and {len(X_test)} testing samples.\")\n",
    "\n",
    "# --- Step 2: Scale the Feature Data ---\n",
    "# Neural networks perform best when input data is scaled to have a mean of 0 and a standard deviation of 1.\n",
    "# We must fit the scaler ONLY on the training data to avoid data leakage from the test set.\n",
    "scaler = StandardScaler()\n",
    "\n",
    "# Reshape the 3D data to 2D for scaling\n",
    "X_train_reshaped = X_train.reshape(-1, X_train.shape[-1])\n",
    "X_test_reshaped = X_test.reshape(-1, X_test.shape[-1])\n",
    "\n",
    "# Fit on training data and transform both sets\n",
    "X_train_scaled_reshaped = scaler.fit_transform(X_train_reshaped)\n",
    "X_test_scaled_reshaped = scaler.transform(X_test_reshaped)\n",
    "\n",
    "# Reshape the data back to its original 3D shape for the LSTM\n",
    "X_train_scaled = X_train_scaled_reshaped.reshape(X_train.shape)\n",
    "X_test_scaled = X_test_scaled_reshaped.reshape(X_test.shape)\n",
    "\n",
    "print(\"Feature data has been successfully scaled.\")\n",
    "\n",
    "# --- Step 3: Build the Bidirectional LSTM Model ---\n",
    "print(\"\\nBuilding the BiLSTM model...\")\n",
    "model = Sequential([\n",
    "    # The Bidirectional wrapper allows the LSTM to process the sequence forwards and backwards.\n",
    "    Bidirectional(LSTM(64, input_shape=(X_train_scaled.shape[1], X_train_scaled.shape[2]), unroll=True)),\n",
    "    Dropout(0.5), # Dropout helps prevent the model from overfitting.\n",
    "    Dense(32, activation='relu'),\n",
    "    # The final Dense layer with a 'sigmoid' activation outputs a single probability (0 to 1).\n",
    "    Dense(1, activation='sigmoid') \n",
    "])\n",
    "\n",
    "# Compile the model with an optimizer, loss function, and metrics to track.\n",
    "model.compile(optimizer='adam', loss='binary_crossentropy', metrics=['accuracy'])\n",
    "model.summary()\n",
    "\n",
    "# --- Step 4: Train the Model ---\n",
    "# Calculate class weights to handle the imbalanced dataset (very few 'tap' events).\n",
    "# This tells the model to pay much more attention to the rare 'tap' class.\n",
    "weights = class_weight.compute_class_weight('balanced', classes=np.unique(y_train), y=y_train)\n",
    "class_weights = {i : weights[i] for i in range(len(weights))}\n",
    "\n",
    "print(\"\\nTraining the BiLSTM model... (This may take some time)\")\n",
    "# EarlyStopping will stop the training if the validation loss doesn't improve after 3 epochs.\n",
    "early_stopping = EarlyStopping(monitor='val_loss', patience=3, restore_best_weights=True)\n",
    "\n",
    "history = model.fit(\n",
    "    X_train_scaled,\n",
    "    y_train,\n",
    "    epochs=20, # Set a max number of epochs\n",
    "    batch_size=256,\n",
    "    validation_split=0.2, # Use 20% of training data for validation\n",
    "    class_weight=class_weights,\n",
    "    callbacks=[early_stopping]\n",
    ")\n",
    "\n",
    "# --- Step 5: Evaluate the Final Model ---\n",
    "print(\"\\n--- Evaluating the final model on the test set ---\")\n",
    "# Predict probabilities on the test set\n",
    "y_pred_probs = model.predict(X_test_scaled)\n",
    "# Use a 0.5 threshold to convert probabilities to binary predictions (0 or 1)\n",
    "y_pred = (y_pred_probs > 0.5).astype(int)\n",
    "\n",
    "print(\"\\nFinal BiLSTM Model Confusion Matrix:\")\n",
    "print(confusion_matrix(y_test, y_pred))\n",
    "\n",
    "print(\"\\nClassification Report:\")\n",
    "print(classification_report(y_test, y_pred, target_names=['No Tap (0)', 'Tap (1)']))\n"
   ]
  },
  {
   "cell_type": "code",
   "execution_count": 16,
   "id": "b49f1140",
   "metadata": {},
   "outputs": [],
   "source": [
    "model.save('keyboard_classifier_models/keyboard_tap.keras')  # Save the model for later use"
   ]
  },
  {
   "cell_type": "code",
   "execution_count": 17,
   "id": "31074965",
   "metadata": {},
   "outputs": [
    {
     "name": "stdout",
     "output_type": "stream",
     "text": [
      "INFO:tensorflow:Assets written to: keyboard_classifier_models/keyboard_tap\\assets\n"
     ]
    },
    {
     "name": "stderr",
     "output_type": "stream",
     "text": [
      "INFO:tensorflow:Assets written to: keyboard_classifier_models/keyboard_tap\\assets\n"
     ]
    },
    {
     "name": "stdout",
     "output_type": "stream",
     "text": [
      "Saved artifact at 'keyboard_classifier_models/keyboard_tap'. The following endpoints are available:\n",
      "\n",
      "* Endpoint 'serve'\n",
      "  args_0 (POSITIONAL_ONLY): TensorSpec(shape=(None, 25, 90), dtype=tf.float32, name='input_layer')\n",
      "Output Type:\n",
      "  TensorSpec(shape=(None, 1), dtype=tf.float32, name=None)\n",
      "Captures:\n",
      "  2474396689680: TensorSpec(shape=(), dtype=tf.resource, name=None)\n",
      "  2474396688144: TensorSpec(shape=(), dtype=tf.resource, name=None)\n",
      "  2474396687376: TensorSpec(shape=(), dtype=tf.resource, name=None)\n",
      "  2474396682960: TensorSpec(shape=(), dtype=tf.resource, name=None)\n",
      "  2474396690448: TensorSpec(shape=(), dtype=tf.resource, name=None)\n",
      "  2474396687568: TensorSpec(shape=(), dtype=tf.resource, name=None)\n",
      "  2474396686416: TensorSpec(shape=(), dtype=tf.resource, name=None)\n",
      "  2474396690256: TensorSpec(shape=(), dtype=tf.resource, name=None)\n",
      "  2474577298064: TensorSpec(shape=(), dtype=tf.resource, name=None)\n",
      "  2474577297872: TensorSpec(shape=(), dtype=tf.resource, name=None)\n"
     ]
    }
   ],
   "source": [
    "model = tf.keras.models.load_model('keyboard_classifier_models/keyboard_tap.keras')\n",
    "\n",
    "# Export it to a new directory\n",
    "model.export('keyboard_classifier_models/keyboard_tap')"
   ]
  },
  {
   "cell_type": "code",
   "execution_count": 2,
   "id": "74e79fc3",
   "metadata": {},
   "outputs": [
    {
     "name": "stderr",
     "output_type": "stream",
     "text": [
      "WARNING:tensorflow:From c:\\Users\\SyMoN\\.conda\\envs\\saad_classifier_312\\Lib\\site-packages\\tf2onnx\\tf_loader.py:68: The name tf.reset_default_graph is deprecated. Please use tf.compat.v1.reset_default_graph instead.\n",
      "\n",
      "WARNING:tensorflow:From c:\\Users\\SyMoN\\.conda\\envs\\saad_classifier_312\\Lib\\site-packages\\tf2onnx\\tf_loader.py:72: The name tf.train.import_meta_graph is deprecated. Please use tf.compat.v1.train.import_meta_graph instead.\n",
      "\n",
      "<frozen runpy>:128: RuntimeWarning: 'tf2onnx.convert' found in sys.modules after import of package 'tf2onnx', but prior to execution of 'tf2onnx.convert'; this may result in unpredictable behaviour\n",
      "2025-08-19 11:32:09,010 - WARNING - ***IMPORTANT*** Installed protobuf is not cpp accelerated. Conversion will be extremely slow. See https://github.com/onnx/tensorflow-onnx/issues/1557\n",
      "2025-08-19 11:32:09,019 - WARNING - '--tag' not specified for saved_model. Using --tag serve\n",
      "2025-08-19 11:32:10,528 - INFO - Signatures found in model: [serve,serving_default].\n",
      "2025-08-19 11:32:10,528 - WARNING - '--signature_def' not specified, using first signature: serve\n",
      "2025-08-19 11:32:10,529 - INFO - Output names: ['output_0']\n",
      "WARNING: All log messages before absl::InitializeLog() is called are written to STDERR\n",
      "I0000 00:00:1755599530.712309   18380 devices.cc:76] Number of eligible GPUs (core count >= 8, compute capability >= 0.0): 0 (Note: TensorFlow was not compiled with CUDA or ROCm support)\n",
      "I0000 00:00:1755599530.712627   18380 single_machine.cc:374] Starting new session\n",
      "I0000 00:00:1755599531.743907   18380 devices.cc:76] Number of eligible GPUs (core count >= 8, compute capability >= 0.0): 0 (Note: TensorFlow was not compiled with CUDA or ROCm support)\n",
      "I0000 00:00:1755599531.744922   18380 single_machine.cc:374] Starting new session\n",
      "2025-08-19 11:32:11,939 - INFO - Using tensorflow=2.19.0, onnx=1.17.0, tf2onnx=1.16.1/15c810\n",
      "2025-08-19 11:32:11,939 - INFO - Using opset <onnx, 13>\n",
      "2025-08-19 11:32:12,183 - INFO - Computed 0 values for constant folding\n",
      "2025-08-19 11:32:12,198 - INFO - Computed 0 values for constant folding\n",
      "2025-08-19 11:32:12,231 - INFO - Computed 0 values for constant folding\n",
      "2025-08-19 11:32:12,262 - INFO - Computed 0 values for constant folding\n",
      "I0000 00:00:1755599532.296929   18380 mlir_graph_optimization_pass.cc:425] MLIR V1 optimization pass is not enabled\n",
      "2025-08-19 11:32:12,311 - INFO - Computed 0 values for constant folding\n",
      "2025-08-19 11:32:13,013 - INFO - Optimizing ONNX model\n",
      "2025-08-19 11:32:17,651 - INFO - After optimization: And -1 (4->3), Cast -16 (22->6), Concat -3 (5->2), Const -55 (80->25), Expand -3 (5->2), Identity -52 (54->2), Less -3 (8->5), Placeholder -2 (19->17), Shape -2 (4->2), Slice -1 (4->3), Squeeze -2 (4->2), Transpose -1 (2->1), Unsqueeze -8 (8->0)\n",
      "2025-08-19 11:32:17,699 - INFO - \n",
      "2025-08-19 11:32:17,699 - INFO - Successfully converted TensorFlow model C:\\Users\\SyMoN\\Documents\\Project\\text_entry_saad\\vr_text_entry\\typing_classifier\\keyboard_classifier_models\\keyboard_tap to ONNX\n",
      "2025-08-19 11:32:17,699 - INFO - Model inputs: ['input_layer']\n",
      "2025-08-19 11:32:17,699 - INFO - Model outputs: ['output_0']\n",
      "2025-08-19 11:32:17,699 - INFO - ONNX model is saved at C:\\Users\\SyMoN\\Documents\\Project\\text_entry_saad\\vr_text_entry\\typing_classifier\\keyboard_classifier_models\\keyboard_tap.onnx\n"
     ]
    }
   ],
   "source": [
    "import tf2onnx\n",
    "\n",
    "!python -m tf2onnx.convert \\\n",
    "  --saved-model \"C:\\Users\\SyMoN\\Documents\\Project\\text_entry_saad\\vr_text_entry\\typing_classifier\\keyboard_classifier_models\\keyboard_tap\" \\\n",
    "  --output \"C:\\Users\\SyMoN\\Documents\\Project\\text_entry_saad\\vr_text_entry\\typing_classifier\\keyboard_classifier_models\\keyboard_tap.onnx\" \\\n",
    "  --opset 13"
   ]
  },
  {
   "cell_type": "code",
   "execution_count": 19,
   "id": "82e96a9f",
   "metadata": {},
   "outputs": [
    {
     "name": "stdout",
     "output_type": "stream",
     "text": [
      "WARNING:tensorflow:From c:\\Users\\saad_\\anaconda3\\envs\\tf_env\\Lib\\site-packages\\tf2onnx\\tf_loader.py:68: The name tf.reset_default_graph is deprecated. Please use tf.compat.v1.reset_default_graph instead.\n",
      "\n"
     ]
    },
    {
     "name": "stderr",
     "output_type": "stream",
     "text": [
      "WARNING:tensorflow:From c:\\Users\\saad_\\anaconda3\\envs\\tf_env\\Lib\\site-packages\\tf2onnx\\tf_loader.py:68: The name tf.reset_default_graph is deprecated. Please use tf.compat.v1.reset_default_graph instead.\n",
      "\n"
     ]
    },
    {
     "name": "stdout",
     "output_type": "stream",
     "text": [
      "WARNING:tensorflow:From c:\\Users\\saad_\\anaconda3\\envs\\tf_env\\Lib\\site-packages\\tf2onnx\\tf_loader.py:72: The name tf.train.import_meta_graph is deprecated. Please use tf.compat.v1.train.import_meta_graph instead.\n",
      "\n"
     ]
    },
    {
     "name": "stderr",
     "output_type": "stream",
     "text": [
      "WARNING:tensorflow:From c:\\Users\\saad_\\anaconda3\\envs\\tf_env\\Lib\\site-packages\\tf2onnx\\tf_loader.py:72: The name tf.train.import_meta_graph is deprecated. Please use tf.compat.v1.train.import_meta_graph instead.\n",
      "\n"
     ]
    },
    {
     "ename": "OSError",
     "evalue": "SavedModel file does not exist at: C:\\Users\\SyMoN\\Documents\\Project\\text_entry_saad\\vr_text_entry\\typing_classifier\\keyboard_classifier_models\\keyboard_tap\\{saved_model.pbtxt|saved_model.pb}",
     "output_type": "error",
     "traceback": [
      "\u001b[31m---------------------------------------------------------------------------\u001b[39m",
      "\u001b[31mOSError\u001b[39m                                   Traceback (most recent call last)",
      "\u001b[36mCell\u001b[39m\u001b[36m \u001b[39m\u001b[32mIn[19]\u001b[39m\u001b[32m, line 8\u001b[39m\n\u001b[32m      5\u001b[39m output_path = \u001b[33mr\u001b[39m\u001b[33m\"\u001b[39m\u001b[33mC:\u001b[39m\u001b[33m\\\u001b[39m\u001b[33mUsers\u001b[39m\u001b[33m\\\u001b[39m\u001b[33mSyMoN\u001b[39m\u001b[33m\\\u001b[39m\u001b[33mDocuments\u001b[39m\u001b[33m\\\u001b[39m\u001b[33mProject\u001b[39m\u001b[33m\\\u001b[39m\u001b[33mtext_entry_saad\u001b[39m\u001b[33m\\\u001b[39m\u001b[33mvr_text_entry\u001b[39m\u001b[33m\\\u001b[39m\u001b[33mtyping_classifier\u001b[39m\u001b[33m\\\u001b[39m\u001b[33mModels\u001b[39m\u001b[33m\\\u001b[39m\u001b[33mkeyboard.onnx\u001b[39m\u001b[33m\"\u001b[39m\n\u001b[32m      7\u001b[39m \u001b[38;5;66;03m# Load the TensorFlow model\u001b[39;00m\n\u001b[32m----> \u001b[39m\u001b[32m8\u001b[39m model = \u001b[43mtf\u001b[49m\u001b[43m.\u001b[49m\u001b[43msaved_model\u001b[49m\u001b[43m.\u001b[49m\u001b[43mload\u001b[49m\u001b[43m(\u001b[49m\u001b[43msaved_model_dir\u001b[49m\u001b[43m)\u001b[49m\n\u001b[32m     10\u001b[39m \u001b[38;5;66;03m# Convert to ONNX\u001b[39;00m\n\u001b[32m     11\u001b[39m spec = (tf.TensorSpec((\u001b[38;5;28;01mNone\u001b[39;00m, \u001b[32m100\u001b[39m, \u001b[32m6\u001b[39m), tf.float32, name=\u001b[33m\"\u001b[39m\u001b[33minput\u001b[39m\u001b[33m\"\u001b[39m),)  \u001b[38;5;66;03m# adjust shape if needed\u001b[39;00m\n",
      "\u001b[36mFile \u001b[39m\u001b[32mc:\\Users\\saad_\\anaconda3\\envs\\tf_env\\Lib\\site-packages\\tensorflow\\python\\saved_model\\load.py:912\u001b[39m, in \u001b[36mload\u001b[39m\u001b[34m(export_dir, tags, options)\u001b[39m\n\u001b[32m    910\u001b[39m \u001b[38;5;28;01mif\u001b[39;00m \u001b[38;5;28misinstance\u001b[39m(export_dir, os.PathLike):\n\u001b[32m    911\u001b[39m   export_dir = os.fspath(export_dir)\n\u001b[32m--> \u001b[39m\u001b[32m912\u001b[39m result = \u001b[43mload_partial\u001b[49m\u001b[43m(\u001b[49m\u001b[43mexport_dir\u001b[49m\u001b[43m,\u001b[49m\u001b[43m \u001b[49m\u001b[38;5;28;43;01mNone\u001b[39;49;00m\u001b[43m,\u001b[49m\u001b[43m \u001b[49m\u001b[43mtags\u001b[49m\u001b[43m,\u001b[49m\u001b[43m \u001b[49m\u001b[43moptions\u001b[49m\u001b[43m)\u001b[49m[\u001b[33m\"\u001b[39m\u001b[33mroot\u001b[39m\u001b[33m\"\u001b[39m]\n\u001b[32m    913\u001b[39m \u001b[38;5;28;01mreturn\u001b[39;00m result\n",
      "\u001b[36mFile \u001b[39m\u001b[32mc:\\Users\\saad_\\anaconda3\\envs\\tf_env\\Lib\\site-packages\\tensorflow\\python\\saved_model\\load.py:1016\u001b[39m, in \u001b[36mload_partial\u001b[39m\u001b[34m(export_dir, filters, tags, options)\u001b[39m\n\u001b[32m   1011\u001b[39m \u001b[38;5;28;01mif\u001b[39;00m tags \u001b[38;5;129;01mis\u001b[39;00m \u001b[38;5;129;01mnot\u001b[39;00m \u001b[38;5;28;01mNone\u001b[39;00m \u001b[38;5;129;01mand\u001b[39;00m \u001b[38;5;129;01mnot\u001b[39;00m \u001b[38;5;28misinstance\u001b[39m(tags, \u001b[38;5;28mset\u001b[39m):\n\u001b[32m   1012\u001b[39m   \u001b[38;5;66;03m# Supports e.g. tags=SERVING and tags=[SERVING]. Sets aren't considered\u001b[39;00m\n\u001b[32m   1013\u001b[39m   \u001b[38;5;66;03m# sequences for nest.flatten, so we put those through as-is.\u001b[39;00m\n\u001b[32m   1014\u001b[39m   tags = nest.flatten(tags)\n\u001b[32m   1015\u001b[39m saved_model_proto, debug_info = (\n\u001b[32m-> \u001b[39m\u001b[32m1016\u001b[39m     \u001b[43mloader_impl\u001b[49m\u001b[43m.\u001b[49m\u001b[43mparse_saved_model_with_debug_info\u001b[49m\u001b[43m(\u001b[49m\u001b[43mexport_dir\u001b[49m\u001b[43m)\u001b[49m)\n\u001b[32m   1018\u001b[39m loader = \u001b[38;5;28;01mNone\u001b[39;00m\n\u001b[32m   1019\u001b[39m \u001b[38;5;28;01mif\u001b[39;00m (\u001b[38;5;28mlen\u001b[39m(saved_model_proto.meta_graphs) == \u001b[32m1\u001b[39m \u001b[38;5;129;01mand\u001b[39;00m\n\u001b[32m   1020\u001b[39m     saved_model_proto.meta_graphs[\u001b[32m0\u001b[39m].HasField(\u001b[33m\"\u001b[39m\u001b[33mobject_graph_def\u001b[39m\u001b[33m\"\u001b[39m)):\n",
      "\u001b[36mFile \u001b[39m\u001b[32mc:\\Users\\saad_\\anaconda3\\envs\\tf_env\\Lib\\site-packages\\tensorflow\\python\\saved_model\\loader_impl.py:59\u001b[39m, in \u001b[36mparse_saved_model_with_debug_info\u001b[39m\u001b[34m(export_dir)\u001b[39m\n\u001b[32m     46\u001b[39m \u001b[38;5;28;01mdef\u001b[39;00m\u001b[38;5;250m \u001b[39m\u001b[34mparse_saved_model_with_debug_info\u001b[39m(export_dir):\n\u001b[32m     47\u001b[39m \u001b[38;5;250m  \u001b[39m\u001b[33;03m\"\"\"Reads the savedmodel as well as the graph debug info.\u001b[39;00m\n\u001b[32m     48\u001b[39m \n\u001b[32m     49\u001b[39m \u001b[33;03m  Args:\u001b[39;00m\n\u001b[32m   (...)\u001b[39m\u001b[32m     57\u001b[39m \u001b[33;03m    parsed. Missing graph debug info file is fine.\u001b[39;00m\n\u001b[32m     58\u001b[39m \u001b[33;03m  \"\"\"\u001b[39;00m\n\u001b[32m---> \u001b[39m\u001b[32m59\u001b[39m   saved_model = \u001b[43mparse_saved_model\u001b[49m\u001b[43m(\u001b[49m\u001b[43mexport_dir\u001b[49m\u001b[43m)\u001b[49m\n\u001b[32m     61\u001b[39m   debug_info_path = file_io.join(\n\u001b[32m     62\u001b[39m       path_helpers.get_debug_dir(export_dir),\n\u001b[32m     63\u001b[39m       constants.DEBUG_INFO_FILENAME_PB)\n\u001b[32m     64\u001b[39m   debug_info = graph_debug_info_pb2.GraphDebugInfo()\n",
      "\u001b[36mFile \u001b[39m\u001b[32mc:\\Users\\saad_\\anaconda3\\envs\\tf_env\\Lib\\site-packages\\tensorflow\\python\\saved_model\\loader_impl.py:119\u001b[39m, in \u001b[36mparse_saved_model\u001b[39m\u001b[34m(export_dir)\u001b[39m\n\u001b[32m    117\u001b[39m     \u001b[38;5;28;01mraise\u001b[39;00m \u001b[38;5;167;01mIOError\u001b[39;00m(\u001b[33mf\u001b[39m\u001b[33m\"\u001b[39m\u001b[33mCannot parse file \u001b[39m\u001b[38;5;132;01m{\u001b[39;00mpath_to_pbtxt\u001b[38;5;132;01m}\u001b[39;00m\u001b[33m: \u001b[39m\u001b[38;5;132;01m{\u001b[39;00m\u001b[38;5;28mstr\u001b[39m(e)\u001b[38;5;132;01m}\u001b[39;00m\u001b[33m.\u001b[39m\u001b[33m\"\u001b[39m) \u001b[38;5;28;01mfrom\u001b[39;00m\u001b[38;5;250m \u001b[39m\u001b[34;01me\u001b[39;00m\n\u001b[32m    118\u001b[39m \u001b[38;5;28;01melse\u001b[39;00m:\n\u001b[32m--> \u001b[39m\u001b[32m119\u001b[39m   \u001b[38;5;28;01mraise\u001b[39;00m \u001b[38;5;167;01mIOError\u001b[39;00m(\n\u001b[32m    120\u001b[39m       \u001b[33mf\u001b[39m\u001b[33m\"\u001b[39m\u001b[33mSavedModel file does not exist at: \u001b[39m\u001b[38;5;132;01m{\u001b[39;00mexport_dir\u001b[38;5;132;01m}\u001b[39;00m\u001b[38;5;132;01m{\u001b[39;00mos.path.sep\u001b[38;5;132;01m}\u001b[39;00m\u001b[33m\"\u001b[39m\n\u001b[32m    121\u001b[39m       \u001b[33mf\u001b[39m\u001b[33m\"\u001b[39m\u001b[38;5;130;01m{{\u001b[39;00m\u001b[38;5;132;01m{\u001b[39;00mconstants.SAVED_MODEL_FILENAME_PBTXT\u001b[38;5;132;01m}\u001b[39;00m\u001b[33m|\u001b[39m\u001b[33m\"\u001b[39m\n\u001b[32m    122\u001b[39m       \u001b[33mf\u001b[39m\u001b[33m\"\u001b[39m\u001b[38;5;132;01m{\u001b[39;00mconstants.SAVED_MODEL_FILENAME_PB\u001b[38;5;132;01m}\u001b[39;00m\u001b[38;5;130;01m}}\u001b[39;00m\u001b[33m\"\u001b[39m)\n\u001b[32m    123\u001b[39m \u001b[38;5;28;01mreturn\u001b[39;00m saved_model\n",
      "\u001b[31mOSError\u001b[39m: SavedModel file does not exist at: C:\\Users\\SyMoN\\Documents\\Project\\text_entry_saad\\vr_text_entry\\typing_classifier\\keyboard_classifier_models\\keyboard_tap\\{saved_model.pbtxt|saved_model.pb}"
     ]
    }
   ],
   "source": [
    "import tf2onnx\n",
    "import tensorflow as tf\n",
    "\n",
    "saved_model_dir = r\"C:\\Users\\SyMoN\\Documents\\Project\\text_entry_saad\\vr_text_entry\\typing_classifier\\keyboard_classifier_models\\keyboard_tap\"\n",
    "output_path = r\"C:\\Users\\SyMoN\\Documents\\Project\\text_entry_saad\\vr_text_entry\\typing_classifier\\Models\\keyboard.onnx\"\n",
    "\n",
    "# Load the TensorFlow model\n",
    "model = tf.saved_model.load(saved_model_dir)\n",
    "\n",
    "# Convert to ONNX\n",
    "spec = (tf.TensorSpec((None, 100, 6), tf.float32, name=\"input\"),)  # adjust shape if needed\n",
    "onnx_model, _ = tf2onnx.convert.from_function(\n",
    "    model.signatures[\"serving_default\"],\n",
    "    input_signature=spec,\n",
    "    opset=13,\n",
    "    output_path=output_path\n",
    ")\n",
    "\n",
    "print(f\"ONNX model saved to: {output_path}\")"
   ]
  }
 ],
 "metadata": {
  "kernelspec": {
   "display_name": "saad_classifier_312",
   "language": "python",
   "name": "python3"
  },
  "language_info": {
   "codemirror_mode": {
    "name": "ipython",
    "version": 3
   },
   "file_extension": ".py",
   "mimetype": "text/x-python",
   "name": "python",
   "nbconvert_exporter": "python",
   "pygments_lexer": "ipython3",
   "version": "3.12.11"
  }
 },
 "nbformat": 4,
 "nbformat_minor": 5
}

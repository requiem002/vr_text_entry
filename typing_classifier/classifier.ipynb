{
 "cells": [
  {
   "cell_type": "code",
   "execution_count": null,
   "id": "195a1623",
   "metadata": {},
   "outputs": [
    {
     "name": "stdout",
     "output_type": "stream",
     "text": [
      "c:\\Users\\saad_\\OneDrive - University of Bath\\BSURE\\vr_text_entry_project\\typing_classifier\n"
     ]
    }
   ],
   "source": [
    "\n",
    "\n",
    "file_path = \"training_data/915322_sentences_mocap_matched.csv\"\n",
    "\n",
    "print(os.getcwd())"
   ]
  },
  {
   "cell_type": "code",
   "execution_count": 2,
   "id": "1ee31e91",
   "metadata": {},
   "outputs": [
    {
     "ename": "ModuleNotFoundError",
     "evalue": "No module named 'matplotlib'",
     "output_type": "error",
     "traceback": [
      "\u001b[31m---------------------------------------------------------------------------\u001b[39m",
      "\u001b[31mModuleNotFoundError\u001b[39m                       Traceback (most recent call last)",
      "\u001b[36mCell\u001b[39m\u001b[36m \u001b[39m\u001b[32mIn[2]\u001b[39m\u001b[32m, line 2\u001b[39m\n\u001b[32m      1\u001b[39m \u001b[38;5;28;01mimport\u001b[39;00m\u001b[38;5;250m \u001b[39m\u001b[34;01mpandas\u001b[39;00m\u001b[38;5;250m \u001b[39m\u001b[38;5;28;01mas\u001b[39;00m\u001b[38;5;250m \u001b[39m\u001b[34;01mpd\u001b[39;00m\n\u001b[32m----> \u001b[39m\u001b[32m2\u001b[39m \u001b[38;5;28;01mimport\u001b[39;00m\u001b[38;5;250m \u001b[39m\u001b[34;01mmatplotlib\u001b[39;00m\u001b[34;01m.\u001b[39;00m\u001b[34;01mpyplot\u001b[39;00m\u001b[38;5;250m \u001b[39m\u001b[38;5;28;01mas\u001b[39;00m\u001b[38;5;250m \u001b[39m\u001b[34;01mplt\u001b[39;00m\n\u001b[32m      3\u001b[39m \u001b[38;5;28;01mimport\u001b[39;00m\u001b[38;5;250m \u001b[39m\u001b[34;01mos\u001b[39;00m\n",
      "\u001b[31mModuleNotFoundError\u001b[39m: No module named 'matplotlib'"
     ]
    }
   ],
   "source": [
    "import pandas as pd\n",
    "import matplotlib.pyplot as plt\n",
    "import os"
   ]
  },
  {
   "cell_type": "code",
   "execution_count": 19,
   "id": "4380ce5b",
   "metadata": {},
   "outputs": [
    {
     "name": "stdout",
     "output_type": "stream",
     "text": [
      "Found 30 files to process...\n",
      "Processing training_data/005307_sentences_mocap_matched.csv...\n",
      "Processing training_data/068349_sentences_mocap_matched.csv...\n",
      "Processing training_data/096115_sentences_mocap_matched.csv...\n",
      "Processing training_data/106194_sentences_mocap_matched.csv...\n",
      "Processing training_data/120778_sentences_mocap_matched.csv...\n"
     ]
    },
    {
     "name": "stderr",
     "output_type": "stream",
     "text": [
      "C:\\Users\\saad_\\AppData\\Local\\Temp\\ipykernel_13524\\3495022993.py:7: DtypeWarning: Columns (6,7,10) have mixed types. Specify dtype option on import or set low_memory=False.\n",
      "  df = pd.read_csv(file_path, delimiter='\\t', skiprows=2, nrows=50000)\n"
     ]
    },
    {
     "name": "stdout",
     "output_type": "stream",
     "text": [
      "Processing training_data/173269_sentences_mocap_matched.csv...\n",
      "Processing training_data/216367_sentences_mocap_matched.csv...\n",
      "Processing training_data/221357_sentences_mocap_matched.csv...\n",
      "Processing training_data/250694_sentences_mocap_matched.csv...\n",
      "Processing training_data/267678_sentences_mocap_matched.csv...\n",
      "Processing training_data/270221_sentences_mocap_matched.csv...\n",
      "Processing training_data/287951_sentences_mocap_matched.csv...\n",
      "Processing training_data/301816_sentences_mocap_matched.csv...\n",
      "Processing training_data/364976_sentences_mocap_matched.csv...\n",
      "Processing training_data/372392_sentences_mocap_matched.csv...\n",
      "Processing training_data/376930_sentences_mocap_matched.csv...\n",
      "Processing training_data/379044_sentences_mocap_matched.csv...\n",
      "Processing training_data/398591_sentences_mocap_matched.csv...\n",
      "Processing training_data/419655_sentences_mocap_matched.csv...\n",
      "Processing training_data/431334_sentences_mocap_matched.csv...\n",
      "Processing training_data/438454_sentences_mocap_matched.csv...\n",
      "Processing training_data/497021_sentences_mocap_matched.csv...\n",
      "Processing training_data/535385_sentences_mocap_matched.csv...\n",
      "Processing training_data/549687_sentences_mocap_matched.csv...\n",
      "Processing training_data/554712_sentences_mocap_matched.csv...\n",
      "Processing training_data/760858_sentences_mocap_matched.csv...\n",
      "Processing training_data/823773_sentences_mocap_matched.csv...\n",
      "Processing training_data/851866_sentences_mocap_matched.csv...\n",
      "Processing training_data/915322_sentences_mocap_matched.csv...\n",
      "Processing training_data/934313_sentences_mocap_matched.csv...\n",
      "\n",
      "Processing complete!\n",
      "Shape of the final master DataFrame: (1499970, 9)\n",
      "           time key_symbol  Hands_R_I4_x  Hands_R_I4_y  Hands_R_I4_z    vel_x  \\\n",
      "0  1.438008e+09        NaN      0.345881     -0.019491     -0.159690  0.00450   \n",
      "1  1.438008e+09        NaN      0.345871     -0.019492     -0.159691 -0.00250   \n",
      "2  1.438008e+09        NaN      0.345860     -0.019484     -0.159694 -0.00275   \n",
      "3  1.438008e+09        NaN      0.345880     -0.019495     -0.159686  0.00500   \n",
      "4  1.438008e+09        NaN      0.345915     -0.019410     -0.159615  0.00700   \n",
      "\n",
      "     vel_y    vel_z  Is_Tap  \n",
      "0 -0.00125  0.00250       0  \n",
      "1 -0.00025 -0.00025       0  \n",
      "2  0.00200 -0.00075       0  \n",
      "3 -0.00275  0.00200       0  \n",
      "4  0.01700  0.01420       0  \n"
     ]
    }
   ],
   "source": [
    "\n",
    "def process_typing_file(file_path):\n",
    "    \"\"\"\n",
    "    This function takes a file path, loads the data, calculates velocity,\n",
    "    and returns a cleaned-up DataFrame.\n",
    "    \"\"\"\n",
    "    # Load a sample of the data to keep it manageable\n",
    "    df = pd.read_csv(file_path, delimiter='\\t', skiprows=2, nrows=50000)\n",
    "    \n",
    "    # Select the columns we need\n",
    "    processed_df = df[['time', 'key_symbol', 'Hands_R_I4_x', 'Hands_R_I4_y', 'Hands_R_I4_z']].copy()\n",
    "    \n",
    "    # Calculate velocity features\n",
    "    delta_time = processed_df['time'].diff()\n",
    "    processed_df['vel_x'] = processed_df['Hands_R_I4_x'].diff() / delta_time\n",
    "    processed_df['vel_y'] = processed_df['Hands_R_I4_y'].diff() / delta_time\n",
    "    processed_df['vel_z'] = processed_df['Hands_R_I4_z'].diff() / delta_time\n",
    "    \n",
    "    # Create the target label\n",
    "    processed_df['Is_Tap'] = processed_df['key_symbol'].notna().astype(int)\n",
    "    \n",
    "    # Drop rows with NaN values (especially the first row)\n",
    "    processed_df.dropna(subset=['vel_x', 'vel_y', 'vel_z'], inplace=True)\n",
    "    \n",
    "    return processed_df\n",
    "\n",
    "# --- Now, let's process all files in your 'data' folder ---\n",
    "\n",
    "data_folder = 'training_data/'\n",
    "all_files = [os.path.join(data_folder, f) for f in os.listdir(data_folder) if f.endswith('.csv')]\n",
    "\n",
    "# Create a list to hold all the processed DataFrames\n",
    "list_of_dfs = []\n",
    "\n",
    "print(f\"Found {len(all_files)} files to process...\")\n",
    "\n",
    "for file in all_files:\n",
    "    print(f\"Processing {file}...\")\n",
    "    processed_df = process_typing_file(file)\n",
    "    list_of_dfs.append(processed_df)\n",
    "\n",
    "# Combine all the individual DataFrames into one big master DataFrame\n",
    "master_df = pd.concat(list_of_dfs, ignore_index=True)\n",
    "\n",
    "print(\"\\nProcessing complete!\")\n",
    "print(\"Shape of the final master DataFrame:\", master_df.shape)\n",
    "print(master_df.head())"
   ]
  },
  {
   "cell_type": "code",
   "execution_count": 20,
   "id": "054be1e7",
   "metadata": {},
   "outputs": [
    {
     "name": "stdout",
     "output_type": "stream",
     "text": [
      "Features (X) and Labels (y) are now defined with velocity.\n"
     ]
    }
   ],
   "source": [
    "# The label (y) is still the 'Is_Tap' column\n",
    "y = master_df['Is_Tap']\n",
    "\n",
    "# The features (X) now include the original position AND the new velocities.\n",
    "# We'll use all three velocity components plus the most important position (Y-axis).\n",
    "X = master_df[[\n",
    "    'Hands_R_I4_y',\n",
    "    'vel_x',\n",
    "    'vel_y',\n",
    "    'vel_z'\n",
    "]]\n",
    "\n",
    "print(\"Features (X) and Labels (y) are now defined with velocity.\")"
   ]
  },
  {
   "cell_type": "code",
   "execution_count": 21,
   "id": "98160bac",
   "metadata": {},
   "outputs": [
    {
     "name": "stdout",
     "output_type": "stream",
     "text": [
      "Data split into new training and testing sets.\n"
     ]
    }
   ],
   "source": [
    "from sklearn.model_selection import train_test_split\n",
    "\n",
    "# Split the new data: 80% for training, 20% for testing\n",
    "X_train, X_test, y_train, y_test = train_test_split(X, y, test_size=0.2, random_state=42)\n",
    "\n",
    "print(\"Data split into new training and testing sets.\")"
   ]
  },
  {
   "cell_type": "code",
   "execution_count": 22,
   "id": "8ec04105",
   "metadata": {},
   "outputs": [
    {
     "name": "stdout",
     "output_type": "stream",
     "text": [
      "Training the new model with velocity features...\n",
      "Model training complete!\n"
     ]
    }
   ],
   "source": [
    "from sklearn.ensemble import RandomForestClassifier\n",
    "\n",
    "# Create a new instance of the model\n",
    "velocity_model = RandomForestClassifier(random_state=42)\n",
    "\n",
    "# Train the new model on the new training data\n",
    "print(\"Training the new model with velocity features...\")\n",
    "velocity_model.fit(X_train, y_train)\n",
    "print(\"Model training complete!\")"
   ]
  },
  {
   "cell_type": "code",
   "execution_count": 23,
   "id": "6d931165",
   "metadata": {},
   "outputs": [
    {
     "name": "stdout",
     "output_type": "stream",
     "text": [
      "New Model Accuracy: 98.25%\n",
      "\n",
      "New Confusion Matrix (with Velocity Features):\n",
      "[[294743      0]\n",
      " [  5251      0]]\n"
     ]
    }
   ],
   "source": [
    "from sklearn.metrics import accuracy_score, confusion_matrix\n",
    "\n",
    "# Use the new model to make predictions on the test set\n",
    "y_pred_new = velocity_model.predict(X_test)\n",
    "\n",
    "# Calculate the new accuracy\n",
    "accuracy_new = accuracy_score(y_test, y_pred_new)\n",
    "print(f\"New Model Accuracy: {accuracy_new * 100:.2f}%\")\n",
    "\n",
    "# Print the new confusion matrix\n",
    "print(\"\\nNew Confusion Matrix (with Velocity Features):\")\n",
    "print(confusion_matrix(y_test, y_pred_new))"
   ]
  },
  {
   "cell_type": "code",
   "execution_count": 24,
   "id": "5b13f8e6",
   "metadata": {},
   "outputs": [
    {
     "name": "stdout",
     "output_type": "stream",
     "text": [
      "Checking the contents of the master DataFrame:\n",
      "----------------------------------------\n",
      "Number of 'No-Tap' (0) and 'Tap' (1) rows:\n",
      "Is_Tap\n",
      "0    1473673\n",
      "1      26297\n",
      "Name: count, dtype: int64\n",
      "----------------------------------------\n",
      "Proportion of 'No-Tap' (0) and 'Tap' (1) rows:\n",
      "Is_Tap\n",
      "0    0.982468\n",
      "1    0.017532\n",
      "Name: proportion, dtype: float64\n"
     ]
    }
   ],
   "source": [
    "# Check the distribution of the 'Is_Tap' column\n",
    "tap_counts = master_df['Is_Tap'].value_counts()\n",
    "\n",
    "print(\"Checking the contents of the master DataFrame:\")\n",
    "print(\"-\" * 40)\n",
    "print(\"Number of 'No-Tap' (0) and 'Tap' (1) rows:\")\n",
    "print(tap_counts)\n",
    "print(\"-\" * 40)\n",
    "\n",
    "# Also, let's look at it as a percentage\n",
    "print(\"Proportion of 'No-Tap' (0) and 'Tap' (1) rows:\")\n",
    "print(master_df['Is_Tap'].value_counts(normalize=True))"
   ]
  },
  {
   "cell_type": "code",
   "execution_count": 25,
   "id": "b461b74a",
   "metadata": {},
   "outputs": [
    {
     "name": "stdout",
     "output_type": "stream",
     "text": [
      "Training the balanced model...\n",
      "Training complete!\n",
      "------------------------------\n",
      "Final Balanced Model Accuracy: 98.25%\n",
      "\n",
      "Final Balanced Confusion Matrix:\n",
      "[[294734      1]\n",
      " [  5259      0]]\n"
     ]
    }
   ],
   "source": [
    "from sklearn.model_selection import train_test_split\n",
    "from sklearn.ensemble import RandomForestClassifier\n",
    "from sklearn.metrics import accuracy_score, confusion_matrix\n",
    "\n",
    "# 1. Define your features (X) and labels (y)\n",
    "y = master_df['Is_Tap']\n",
    "X = master_df[['Hands_R_I4_y', 'vel_x', 'vel_y', 'vel_z']]\n",
    "\n",
    "# 2. Split the data using stratification\n",
    "X_train, X_test, y_train, y_test = train_test_split(X, y,\n",
    "                                                    test_size=0.2,\n",
    "                                                    random_state=42,\n",
    "                                                    stratify=y)\n",
    "\n",
    "# 3. Create the model with the class_weight fix\n",
    "# This is the key change\n",
    "model_balanced = RandomForestClassifier(random_state=42, class_weight='balanced')\n",
    "\n",
    "# 4. Train the new model\n",
    "print(\"Training the balanced model...\")\n",
    "model_balanced.fit(X_train, y_train)\n",
    "print(\"Training complete!\")\n",
    "\n",
    "# 5. Evaluate the balanced model\n",
    "print(\"-\" * 30)\n",
    "y_pred_balanced = model_balanced.predict(X_test)\n",
    "accuracy_balanced = accuracy_score(y_test, y_pred_balanced)\n",
    "\n",
    "print(f\"Final Balanced Model Accuracy: {accuracy_balanced * 100:.2f}%\")\n",
    "print(\"\\nFinal Balanced Confusion Matrix:\")\n",
    "print(confusion_matrix(y_test, y_pred_balanced))"
   ]
  },
  {
   "cell_type": "code",
   "execution_count": 4,
   "id": "6441469b",
   "metadata": {},
   "outputs": [
    {
     "name": "stdout",
     "output_type": "stream",
     "text": [
      "Correct average time between frames (after downsampling): 0.0222 seconds\n",
      "Correct estimated window duration: 2.22 seconds\n"
     ]
    }
   ],
   "source": [
    "# Choose any one of your raw data files\n",
    "single_file_path = 'quest_training_data/ptx_01/0_Master_ptx_01_0deg_6_boxing_n_13_166.80.csv'\n",
    "\n",
    "# Load the raw file\n",
    "df_sample = pd.read_csv(single_file_path, low_memory=False)\n",
    "\n",
    "# Downsample it just like in your script\n",
    "df_sample_downsampled = df_sample.iloc[::4, :].copy()\n",
    "\n",
    "# Calculate the true average time delta on the downsampled data\n",
    "true_avg_delta = df_sample_downsampled['TimeStamp'].diff().mean()\n",
    "\n",
    "# Calculate the true window duration\n",
    "window_size = 100\n",
    "true_window_duration = true_avg_delta * window_size\n",
    "\n",
    "print(f\"Correct average time between frames (after downsampling): {true_avg_delta:.4f} seconds\")\n",
    "print(f\"Correct estimated window duration: {true_window_duration:.2f} seconds\")"
   ]
  },
  {
   "cell_type": "code",
   "execution_count": 1,
   "id": "1cd2fa89",
   "metadata": {},
   "outputs": [
    {
     "ename": "NameError",
     "evalue": "name 'model' is not defined",
     "output_type": "error",
     "traceback": [
      "\u001b[31m---------------------------------------------------------------------------\u001b[39m",
      "\u001b[31mNameError\u001b[39m                                 Traceback (most recent call last)",
      "\u001b[36mCell\u001b[39m\u001b[36m \u001b[39m\u001b[32mIn[1]\u001b[39m\u001b[32m, line 1\u001b[39m\n\u001b[32m----> \u001b[39m\u001b[32m1\u001b[39m \u001b[43mmodel\u001b[49m.save(\u001b[33m'\u001b[39m\u001b[33mltsm_tap_detector\u001b[39m\u001b[33m'\u001b[39m)\n",
      "\u001b[31mNameError\u001b[39m: name 'model' is not defined"
     ]
    }
   ],
   "source": [
    "model.save('ltsm_tap_detector')"
   ]
  }
 ],
 "metadata": {
  "kernelspec": {
   "display_name": "tf",
   "language": "python",
   "name": "python3"
  },
  "language_info": {
   "codemirror_mode": {
    "name": "ipython",
    "version": 3
   },
   "file_extension": ".py",
   "mimetype": "text/x-python",
   "name": "python",
   "nbconvert_exporter": "python",
   "pygments_lexer": "ipython3",
   "version": "3.12.11"
  }
 },
 "nbformat": 4,
 "nbformat_minor": 5
}

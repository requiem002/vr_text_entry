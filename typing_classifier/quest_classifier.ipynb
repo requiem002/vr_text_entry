{
 "cells": [
  {
   "cell_type": "markdown",
   "id": "cbe278b3",
   "metadata": {},
   "source": []
  },
  {
   "cell_type": "code",
   "execution_count": 1,
   "id": "6764e3d7",
   "metadata": {},
   "outputs": [],
   "source": [
    "data_folder = \"quest_training_data/\""
   ]
  },
  {
   "cell_type": "code",
   "execution_count": null,
   "id": "3909ede2",
   "metadata": {},
   "outputs": [],
   "source": [
    "import tensorflow as tf\n",
    "print(\"GPUs available:\", tf.config.list_physical_devices('GPU'))"
   ]
  },
  {
   "cell_type": "code",
   "execution_count": 2,
   "id": "abcb4a33",
   "metadata": {},
   "outputs": [
    {
     "name": "stdout",
     "output_type": "stream",
     "text": [
      "Found 11167 files to process...\n",
      "\n",
      "--- Processing subfolder: ptx_06---\n",
      "\n",
      "--- Processing subfolder: ptx_03---\n",
      "\n",
      "--- Processing subfolder: ptx_01---\n",
      "\n",
      "--- Processing subfolder: ptx_999---\n",
      "\n",
      "--- Processing subfolder: ptx_02---\n",
      "\n",
      "--- Processing Complete ---\n",
      "Shape of the final master DataFrame: (598965, 11)\n",
      "\n",
      "Class Distribution ('1' is a Tap):\n",
      "KeyPressFlag\n",
      "0    0.539741\n",
      "1    0.460259\n",
      "Name: proportion, dtype: float64\n"
     ]
    }
   ],
   "source": [
    "import pandas as pd\n",
    "import numpy as np\n",
    "import os\n",
    "import glob # Library for finding files that match a pattern\n",
    "\n",
    "def process_quest_file(file_path):\n",
    "    \"\"\"\n",
    "    Loads a single data file, downsamples it, and calculates\n",
    "    velocity and acceleration features.\n",
    "    \"\"\"\n",
    "    # low_memory=False helps prevent data type warnings\n",
    "    df = pd.read_csv(file_path, low_memory=False)\n",
    "    \n",
    "    # Downsample by a factor of 4 to speed up processing\n",
    "    df = df.iloc[::2, :].copy()\n",
    "\n",
    "    feature_cols = [\n",
    "        'TimeStamp',\n",
    "        'Meta_R_Index_Distal_GLOBAL_X',\n",
    "        'Meta_R_Index_Distal_GLOBAL_Y',\n",
    "        'Meta_R_Index_Distal_GLOBAL_Z'\n",
    "    ]\n",
    "    label_col = 'KeyPressFlag'\n",
    "    \n",
    "    # It's safer to check if columns exist before using them\n",
    "    required_cols = feature_cols + [label_col]\n",
    "    if not all(col in df.columns for col in required_cols):\n",
    "        print(f\"  -> Skipping {os.path.basename(file_path)}: missing required columns.\")\n",
    "        return None # Return nothing if a file is missing columns\n",
    "        \n",
    "    processed_df = df[required_cols].copy()\n",
    "    \n",
    "    delta_time = processed_df['TimeStamp'].diff()\n",
    "    \n",
    "    # Calculate Velocity\n",
    "    processed_df['vel_x'] = processed_df['Meta_R_Index_Distal_GLOBAL_X'].diff() / delta_time\n",
    "    processed_df['vel_y'] = processed_df['Meta_R_Index_Distal_GLOBAL_Y'].diff() / delta_time\n",
    "    processed_df['vel_z'] = processed_df['Meta_R_Index_Distal_GLOBAL_Z'].diff() / delta_time\n",
    "    \n",
    "    # Calculate Acceleration\n",
    "    processed_df['accel_x'] = processed_df['vel_x'].diff() / delta_time\n",
    "    processed_df['accel_y'] = processed_df['vel_y'].diff() / delta_time\n",
    "    processed_df['accel_z'] = processed_df['vel_z'].diff() / delta_time\n",
    "    \n",
    "    processed_df.dropna(inplace=True)\n",
    "    \n",
    "    return processed_df\n",
    "\n",
    "\n",
    "\n",
    "\n",
    "# Use glob to find all .csv files recursively\n",
    "# The '**' tells glob to search in all subdirectories\n",
    "search_pattern = os.path.join(data_folder, '**', '*.csv')\n",
    "all_files = glob.glob(search_pattern, recursive=True)\n",
    "\n",
    "# A list to hold the processed data from each file\n",
    "list_of_dfs = []\n",
    "\n",
    "print(f\"Found {len(all_files)} files to process...\")\n",
    "\n",
    "current_subfolder = None\n",
    "\n",
    "for file in all_files:\n",
    "    # We'll just print the filename, not the full path, to keep the log clean\n",
    "    subfolder_name = os.path.basename(os.path.dirname(file))\n",
    "\n",
    "    if subfolder_name != current_subfolder:\n",
    "        current_subfolder = subfolder_name\n",
    "        print(f\"\\n--- Processing subfolder: {current_subfolder}---\")\n",
    "    #print(f\"Processing {os.path.basename(file)}...\")\n",
    "    try:\n",
    "        processed_df = process_quest_file(file)\n",
    "        if processed_df is not None:\n",
    "            list_of_dfs.append(processed_df)\n",
    "    except Exception as e:\n",
    "        print(f\"  -> ERROR processing {os.path.basename(file)}. Error: {e}\")\n",
    "\n",
    "# Combine all the processed data into one master DataFrame\n",
    "if list_of_dfs:\n",
    "    master_df = pd.concat(list_of_dfs, ignore_index=True)\n",
    "\n",
    "    print(\"\\n--- Processing Complete ---\")\n",
    "    print(\"Shape of the final master DataFrame:\", master_df.shape)\n",
    "    \n",
    "    print(\"\\nClass Distribution ('1' is a Tap):\")\n",
    "    # We check if 'KeyPressFlag' exists before trying to access it\n",
    "    if 'KeyPressFlag' in master_df.columns:\n",
    "        print(master_df['KeyPressFlag'].value_counts(normalize=True))\n",
    "    else:\n",
    "        print(\"Column 'KeyPressFlag' not found in the final DataFrame.\")\n",
    "else:\n",
    "    print(\"\\nNo files were processed. Please check your data_folder path and file contents.\")"
   ]
  },
  {
   "cell_type": "code",
   "execution_count": 5,
   "id": "69d4cf21",
   "metadata": {},
   "outputs": [
    {
     "name": "stdout",
     "output_type": "stream",
     "text": [
      "Correct average time between frames (after downsampling): 0.0111 seconds\n",
      "Correct estimated window duration: 1.11 seconds\n"
     ]
    }
   ],
   "source": [
    "# Choose any one of your raw data files\n",
    "single_file_path = 'quest_training_data/ptx_01/0_Master_ptx_01_0deg_6_boxing_n_13_166.80.csv'\n",
    "\n",
    "# Load the raw file\n",
    "df_sample = pd.read_csv(single_file_path, low_memory=False)\n",
    "\n",
    "# Downsample it just like in your script\n",
    "df_sample_downsampled = df_sample.iloc[::2, :].copy()\n",
    "\n",
    "# Calculate the true average time delta on the downsampled data\n",
    "true_avg_delta = df_sample_downsampled['TimeStamp'].diff().mean()\n",
    "\n",
    "# Calculate the true window duration\n",
    "window_size = 100\n",
    "true_window_duration = true_avg_delta * window_size\n",
    "\n",
    "print(f\"Correct average time between frames (after downsampling): {true_avg_delta:.4f} seconds\")\n",
    "print(f\"Correct estimated window duration: {true_window_duration:.2f} seconds\")"
   ]
  },
  {
   "cell_type": "code",
   "execution_count": 6,
   "id": "c9febd91",
   "metadata": {},
   "outputs": [
    {
     "name": "stdout",
     "output_type": "stream",
     "text": [
      " Before windowing: Each window covers ~0.003 seconds, average delta: 0.000030933 seconds\n",
      "Creating time-series windows...\n",
      "Shape of X_windowed (samples, timesteps, features): (598865, 100, 3)\n",
      "Shape of y_windowed: (598865,)\n",
      "Each window covers ~0.003 seconds, average delta: 0.000030933 seconds\n"
     ]
    }
   ],
   "source": [
    "import numpy as np\n",
    "import pandas as pd\n",
    "\n",
    "from sklearn.model_selection import train_test_split\n",
    "from sklearn.preprocessing import StandardScaler\n",
    "\n",
    "from sklearn.metrics import confusion_matrix\n",
    "\n",
    "# --- Step 1: Prepare Data for Windowing ---\n",
    "\n",
    "# Define the features you want to use in your model\n",
    "# We'll use position, velocity, and acceleration for the Z-axis (vertical)\n",
    "feature_columns = [\n",
    "    'Meta_R_Index_Distal_GLOBAL_Z',\n",
    "    'vel_z',\n",
    "    'accel_z'\n",
    "]\n",
    "\n",
    "# Create the final array with the label in the FIRST column\n",
    "# This is the format the windowing function expects\n",
    "timeseries_data = master_df[['KeyPressFlag'] + feature_columns].to_numpy()\n",
    "\n",
    "avg_delta = master_df['TimeStamp'].diff().mean()\n",
    "window_duration = avg_delta * window_size\n",
    "print(f\" Before windowing: Each window covers ~{window_duration:.3f} seconds, average delta: {avg_delta:.9f} seconds\")\n",
    "\n",
    "# --- Step 2: Create Time-Series Windows ---\n",
    "\n",
    "def make_timeseries_instances(time_series, window_size):\n",
    "    \"\"\"Chops the data into overlapping windows.\"\"\"\n",
    "    X = []\n",
    "    y = []\n",
    "    for i in range(window_size, time_series.shape[0]):\n",
    "        # The window is the sequence of features from the past\n",
    "        X.append(time_series[i-window_size:i, 1:])\n",
    "        # The label is the KeyPressFlag at the end of the window\n",
    "        y.append(time_series[i, 0])\n",
    "    return np.array(X), np.array(y).astype(int)\n",
    "\n",
    "# Define how many past frames the model should see\n",
    "window_size = 100\n",
    "\n",
    "print(\"Creating time-series windows...\")\n",
    "X_windowed, y_windowed = make_timeseries_instances(timeseries_data, window_size)\n",
    "print(\"Shape of X_windowed (samples, timesteps, features):\", X_windowed.shape)\n",
    "print(\"Shape of y_windowed:\", y_windowed.shape)\n",
    "\n",
    "\n",
    "# --- Step 3: Split and Scale the Data ---\n",
    "\n",
    "# Stratified split is crucial for imbalanced data\n",
    "X_train, X_test, y_train, y_test = train_test_split(\n",
    "    X_windowed, y_windowed, test_size=0.2, random_state=42, stratify=y_windowed\n",
    ")\n",
    "\n",
    "# Feature Scaling: Neural networks work best when input values are small.\n",
    "# We need to reshape the 3D data to 2D to scale it, then reshape back.\n",
    "scaler = StandardScaler()\n",
    "X_train_scaled = scaler.fit_transform(X_train.reshape(-1, X_train.shape[-1])).reshape(X_train.shape)\n",
    "X_test_scaled = scaler.transform(X_test.reshape(-1, X_test.shape[-1])).reshape(X_test.shape)\n",
    "\n",
    "avg_delta = master_df['TimeStamp'].diff().mean()\n",
    "window_duration = avg_delta * window_size\n",
    "print(f\"Each window covers ~{window_duration:.3f} seconds, average delta: {avg_delta:.9f} seconds\")\n"
   ]
  },
  {
   "cell_type": "code",
   "execution_count": null,
   "id": "fee0d784",
   "metadata": {},
   "outputs": [],
   "source": []
  },
  {
   "cell_type": "code",
   "execution_count": 4,
   "id": "0017235c",
   "metadata": {},
   "outputs": [
    {
     "name": "stderr",
     "output_type": "stream",
     "text": [
      "2025-07-29 18:01:20.041751: I external/local_xla/xla/tsl/cuda/cudart_stub.cc:32] Could not find cuda drivers on your machine, GPU will not be used.\n",
      "2025-07-29 18:01:20.182519: I external/local_xla/xla/tsl/cuda/cudart_stub.cc:32] Could not find cuda drivers on your machine, GPU will not be used.\n",
      "2025-07-29 18:01:20.291186: E external/local_xla/xla/stream_executor/cuda/cuda_fft.cc:467] Unable to register cuFFT factory: Attempting to register factory for plugin cuFFT when one has already been registered\n",
      "WARNING: All log messages before absl::InitializeLog() is called are written to STDERR\n",
      "E0000 00:00:1753808480.388660  760272 cuda_dnn.cc:8579] Unable to register cuDNN factory: Attempting to register factory for plugin cuDNN when one has already been registered\n",
      "E0000 00:00:1753808480.412201  760272 cuda_blas.cc:1407] Unable to register cuBLAS factory: Attempting to register factory for plugin cuBLAS when one has already been registered\n",
      "W0000 00:00:1753808480.614675  760272 computation_placer.cc:177] computation placer already registered. Please check linkage and avoid linking the same target more than once.\n",
      "W0000 00:00:1753808480.614692  760272 computation_placer.cc:177] computation placer already registered. Please check linkage and avoid linking the same target more than once.\n",
      "W0000 00:00:1753808480.614696  760272 computation_placer.cc:177] computation placer already registered. Please check linkage and avoid linking the same target more than once.\n",
      "W0000 00:00:1753808480.614698  760272 computation_placer.cc:177] computation placer already registered. Please check linkage and avoid linking the same target more than once.\n",
      "2025-07-29 18:01:20.636986: I tensorflow/core/platform/cpu_feature_guard.cc:210] This TensorFlow binary is optimized to use available CPU instructions in performance-critical operations.\n",
      "To enable the following instructions: AVX2 FMA, in other operations, rebuild TensorFlow with the appropriate compiler flags.\n"
     ]
    },
    {
     "name": "stdout",
     "output_type": "stream",
     "text": [
      "\n",
      "Building the LSTM model...\n"
     ]
    },
    {
     "name": "stderr",
     "output_type": "stream",
     "text": [
      "2025-07-29 18:01:22.855920: E external/local_xla/xla/stream_executor/cuda/cuda_platform.cc:51] failed call to cuInit: INTERNAL: CUDA error: Failed call to cuInit: UNKNOWN ERROR (303)\n",
      "/data/transient/ahmedszz/miniconda3/envs/tf/lib/python3.12/site-packages/keras/src/layers/rnn/rnn.py:199: UserWarning: Do not pass an `input_shape`/`input_dim` argument to a layer. When using Sequential models, prefer using an `Input(shape)` object as the first layer in the model instead.\n",
      "  super().__init__(**kwargs)\n"
     ]
    },
    {
     "data": {
      "text/html": [
       "<pre style=\"white-space:pre;overflow-x:auto;line-height:normal;font-family:Menlo,'DejaVu Sans Mono',consolas,'Courier New',monospace\"><span style=\"font-weight: bold\">Model: \"sequential\"</span>\n",
       "</pre>\n"
      ],
      "text/plain": [
       "\u001b[1mModel: \"sequential\"\u001b[0m\n"
      ]
     },
     "metadata": {},
     "output_type": "display_data"
    },
    {
     "data": {
      "text/html": [
       "<pre style=\"white-space:pre;overflow-x:auto;line-height:normal;font-family:Menlo,'DejaVu Sans Mono',consolas,'Courier New',monospace\">┏━━━━━━━━━━━━━━━━━━━━━━━━━━━━━━━━━┳━━━━━━━━━━━━━━━━━━━━━━━━┳━━━━━━━━━━━━━━━┓\n",
       "┃<span style=\"font-weight: bold\"> Layer (type)                    </span>┃<span style=\"font-weight: bold\"> Output Shape           </span>┃<span style=\"font-weight: bold\">       Param # </span>┃\n",
       "┡━━━━━━━━━━━━━━━━━━━━━━━━━━━━━━━━━╇━━━━━━━━━━━━━━━━━━━━━━━━╇━━━━━━━━━━━━━━━┩\n",
       "│ lstm (<span style=\"color: #0087ff; text-decoration-color: #0087ff\">LSTM</span>)                     │ (<span style=\"color: #00d7ff; text-decoration-color: #00d7ff\">None</span>, <span style=\"color: #00af00; text-decoration-color: #00af00\">64</span>)             │        <span style=\"color: #00af00; text-decoration-color: #00af00\">17,408</span> │\n",
       "├─────────────────────────────────┼────────────────────────┼───────────────┤\n",
       "│ dropout (<span style=\"color: #0087ff; text-decoration-color: #0087ff\">Dropout</span>)               │ (<span style=\"color: #00d7ff; text-decoration-color: #00d7ff\">None</span>, <span style=\"color: #00af00; text-decoration-color: #00af00\">64</span>)             │             <span style=\"color: #00af00; text-decoration-color: #00af00\">0</span> │\n",
       "├─────────────────────────────────┼────────────────────────┼───────────────┤\n",
       "│ dense (<span style=\"color: #0087ff; text-decoration-color: #0087ff\">Dense</span>)                   │ (<span style=\"color: #00d7ff; text-decoration-color: #00d7ff\">None</span>, <span style=\"color: #00af00; text-decoration-color: #00af00\">1</span>)              │            <span style=\"color: #00af00; text-decoration-color: #00af00\">65</span> │\n",
       "└─────────────────────────────────┴────────────────────────┴───────────────┘\n",
       "</pre>\n"
      ],
      "text/plain": [
       "┏━━━━━━━━━━━━━━━━━━━━━━━━━━━━━━━━━┳━━━━━━━━━━━━━━━━━━━━━━━━┳━━━━━━━━━━━━━━━┓\n",
       "┃\u001b[1m \u001b[0m\u001b[1mLayer (type)                   \u001b[0m\u001b[1m \u001b[0m┃\u001b[1m \u001b[0m\u001b[1mOutput Shape          \u001b[0m\u001b[1m \u001b[0m┃\u001b[1m \u001b[0m\u001b[1m      Param #\u001b[0m\u001b[1m \u001b[0m┃\n",
       "┡━━━━━━━━━━━━━━━━━━━━━━━━━━━━━━━━━╇━━━━━━━━━━━━━━━━━━━━━━━━╇━━━━━━━━━━━━━━━┩\n",
       "│ lstm (\u001b[38;5;33mLSTM\u001b[0m)                     │ (\u001b[38;5;45mNone\u001b[0m, \u001b[38;5;34m64\u001b[0m)             │        \u001b[38;5;34m17,408\u001b[0m │\n",
       "├─────────────────────────────────┼────────────────────────┼───────────────┤\n",
       "│ dropout (\u001b[38;5;33mDropout\u001b[0m)               │ (\u001b[38;5;45mNone\u001b[0m, \u001b[38;5;34m64\u001b[0m)             │             \u001b[38;5;34m0\u001b[0m │\n",
       "├─────────────────────────────────┼────────────────────────┼───────────────┤\n",
       "│ dense (\u001b[38;5;33mDense\u001b[0m)                   │ (\u001b[38;5;45mNone\u001b[0m, \u001b[38;5;34m1\u001b[0m)              │            \u001b[38;5;34m65\u001b[0m │\n",
       "└─────────────────────────────────┴────────────────────────┴───────────────┘\n"
      ]
     },
     "metadata": {},
     "output_type": "display_data"
    },
    {
     "data": {
      "text/html": [
       "<pre style=\"white-space:pre;overflow-x:auto;line-height:normal;font-family:Menlo,'DejaVu Sans Mono',consolas,'Courier New',monospace\"><span style=\"font-weight: bold\"> Total params: </span><span style=\"color: #00af00; text-decoration-color: #00af00\">17,473</span> (68.25 KB)\n",
       "</pre>\n"
      ],
      "text/plain": [
       "\u001b[1m Total params: \u001b[0m\u001b[38;5;34m17,473\u001b[0m (68.25 KB)\n"
      ]
     },
     "metadata": {},
     "output_type": "display_data"
    },
    {
     "data": {
      "text/html": [
       "<pre style=\"white-space:pre;overflow-x:auto;line-height:normal;font-family:Menlo,'DejaVu Sans Mono',consolas,'Courier New',monospace\"><span style=\"font-weight: bold\"> Trainable params: </span><span style=\"color: #00af00; text-decoration-color: #00af00\">17,473</span> (68.25 KB)\n",
       "</pre>\n"
      ],
      "text/plain": [
       "\u001b[1m Trainable params: \u001b[0m\u001b[38;5;34m17,473\u001b[0m (68.25 KB)\n"
      ]
     },
     "metadata": {},
     "output_type": "display_data"
    },
    {
     "data": {
      "text/html": [
       "<pre style=\"white-space:pre;overflow-x:auto;line-height:normal;font-family:Menlo,'DejaVu Sans Mono',consolas,'Courier New',monospace\"><span style=\"font-weight: bold\"> Non-trainable params: </span><span style=\"color: #00af00; text-decoration-color: #00af00\">0</span> (0.00 B)\n",
       "</pre>\n"
      ],
      "text/plain": [
       "\u001b[1m Non-trainable params: \u001b[0m\u001b[38;5;34m0\u001b[0m (0.00 B)\n"
      ]
     },
     "metadata": {},
     "output_type": "display_data"
    },
    {
     "name": "stdout",
     "output_type": "stream",
     "text": [
      "\n",
      "Training the LSTM model... (This may take a long time)\n",
      "Epoch 1/15\n"
     ]
    },
    {
     "name": "stderr",
     "output_type": "stream",
     "text": [
      "2025-07-29 18:01:26.133442: W external/local_xla/xla/tsl/framework/cpu_allocator_impl.cc:83] Allocation of 459927600 exceeds 10% of free system memory.\n"
     ]
    },
    {
     "name": "stdout",
     "output_type": "stream",
     "text": [
      "\u001b[1m1497/1498\u001b[0m \u001b[32m━━━━━━━━━━━━━━━━━━━\u001b[0m\u001b[37m━\u001b[0m \u001b[1m0s\u001b[0m 50ms/step - accuracy: 0.5875 - loss: 0.6725"
     ]
    },
    {
     "name": "stderr",
     "output_type": "stream",
     "text": [
      "2025-07-29 18:02:43.357013: W external/local_xla/xla/tsl/framework/cpu_allocator_impl.cc:83] Allocation of 114982800 exceeds 10% of free system memory.\n"
     ]
    },
    {
     "name": "stdout",
     "output_type": "stream",
     "text": [
      "\u001b[1m1498/1498\u001b[0m \u001b[32m━━━━━━━━━━━━━━━━━━━━\u001b[0m\u001b[37m\u001b[0m \u001b[1m85s\u001b[0m 56ms/step - accuracy: 0.5875 - loss: 0.6725 - val_accuracy: 0.6097 - val_loss: 0.6546\n",
      "Epoch 2/15\n",
      "\u001b[1m1498/1498\u001b[0m \u001b[32m━━━━━━━━━━━━━━━━━━━━\u001b[0m\u001b[37m\u001b[0m \u001b[1m85s\u001b[0m 57ms/step - accuracy: 0.6104 - loss: 0.6542 - val_accuracy: 0.6214 - val_loss: 0.6437\n",
      "Epoch 3/15\n",
      "\u001b[1m1498/1498\u001b[0m \u001b[32m━━━━━━━━━━━━━━━━━━━━\u001b[0m\u001b[37m\u001b[0m \u001b[1m89s\u001b[0m 60ms/step - accuracy: 0.6220 - loss: 0.6455 - val_accuracy: 0.6347 - val_loss: 0.6349\n",
      "Epoch 4/15\n",
      "\u001b[1m1498/1498\u001b[0m \u001b[32m━━━━━━━━━━━━━━━━━━━━\u001b[0m\u001b[37m\u001b[0m \u001b[1m92s\u001b[0m 62ms/step - accuracy: 0.6327 - loss: 0.6372 - val_accuracy: 0.6432 - val_loss: 0.6305\n",
      "Epoch 5/15\n",
      "\u001b[1m1498/1498\u001b[0m \u001b[32m━━━━━━━━━━━━━━━━━━━━\u001b[0m\u001b[37m\u001b[0m \u001b[1m89s\u001b[0m 59ms/step - accuracy: 0.6433 - loss: 0.6295 - val_accuracy: 0.6491 - val_loss: 0.6227\n",
      "Epoch 6/15\n",
      "\u001b[1m1498/1498\u001b[0m \u001b[32m━━━━━━━━━━━━━━━━━━━━\u001b[0m\u001b[37m\u001b[0m \u001b[1m90s\u001b[0m 60ms/step - accuracy: 0.6468 - loss: 0.6242 - val_accuracy: 0.6574 - val_loss: 0.6148\n",
      "Epoch 7/15\n",
      "\u001b[1m1498/1498\u001b[0m \u001b[32m━━━━━━━━━━━━━━━━━━━━\u001b[0m\u001b[37m\u001b[0m \u001b[1m91s\u001b[0m 60ms/step - accuracy: 0.6551 - loss: 0.6176 - val_accuracy: 0.6628 - val_loss: 0.6092\n",
      "Epoch 8/15\n",
      "\u001b[1m1498/1498\u001b[0m \u001b[32m━━━━━━━━━━━━━━━━━━━━\u001b[0m\u001b[37m\u001b[0m \u001b[1m87s\u001b[0m 58ms/step - accuracy: 0.6592 - loss: 0.6139 - val_accuracy: 0.6688 - val_loss: 0.6053\n",
      "Epoch 9/15\n",
      "\u001b[1m1498/1498\u001b[0m \u001b[32m━━━━━━━━━━━━━━━━━━━━\u001b[0m\u001b[37m\u001b[0m \u001b[1m89s\u001b[0m 59ms/step - accuracy: 0.6657 - loss: 0.6086 - val_accuracy: 0.6688 - val_loss: 0.6032\n",
      "Epoch 10/15\n",
      "\u001b[1m1498/1498\u001b[0m \u001b[32m━━━━━━━━━━━━━━━━━━━━\u001b[0m\u001b[37m\u001b[0m \u001b[1m93s\u001b[0m 62ms/step - accuracy: 0.6704 - loss: 0.6033 - val_accuracy: 0.6781 - val_loss: 0.5966\n",
      "Epoch 11/15\n",
      "\u001b[1m1498/1498\u001b[0m \u001b[32m━━━━━━━━━━━━━━━━━━━━\u001b[0m\u001b[37m\u001b[0m \u001b[1m93s\u001b[0m 62ms/step - accuracy: 0.6764 - loss: 0.5971 - val_accuracy: 0.6852 - val_loss: 0.5874\n",
      "Epoch 12/15\n",
      "\u001b[1m1498/1498\u001b[0m \u001b[32m━━━━━━━━━━━━━━━━━━━━\u001b[0m\u001b[37m\u001b[0m \u001b[1m93s\u001b[0m 62ms/step - accuracy: 0.6820 - loss: 0.5917 - val_accuracy: 0.6839 - val_loss: 0.5898\n",
      "Epoch 13/15\n",
      "\u001b[1m1498/1498\u001b[0m \u001b[32m━━━━━━━━━━━━━━━━━━━━\u001b[0m\u001b[37m\u001b[0m \u001b[1m93s\u001b[0m 62ms/step - accuracy: 0.6858 - loss: 0.5866 - val_accuracy: 0.6834 - val_loss: 0.5878\n",
      "Epoch 14/15\n",
      "\u001b[1m1498/1498\u001b[0m \u001b[32m━━━━━━━━━━━━━━━━━━━━\u001b[0m\u001b[37m\u001b[0m \u001b[1m93s\u001b[0m 62ms/step - accuracy: 0.6904 - loss: 0.5836 - val_accuracy: 0.6925 - val_loss: 0.5793\n",
      "Epoch 15/15\n",
      "\u001b[1m1498/1498\u001b[0m \u001b[32m━━━━━━━━━━━━━━━━━━━━\u001b[0m\u001b[37m\u001b[0m \u001b[1m93s\u001b[0m 62ms/step - accuracy: 0.6948 - loss: 0.5788 - val_accuracy: 0.6966 - val_loss: 0.5750\n",
      "\n",
      "Evaluating the final model on the test set...\n",
      "\u001b[1m   1/3743\u001b[0m \u001b[37m━━━━━━━━━━━━━━━━━━━━\u001b[0m \u001b[1m8:40\u001b[0m 139ms/step"
     ]
    },
    {
     "name": "stderr",
     "output_type": "stream",
     "text": [
      "2025-07-29 18:24:02.655487: W external/local_xla/xla/tsl/framework/cpu_allocator_impl.cc:83] Allocation of 143727600 exceeds 10% of free system memory.\n"
     ]
    },
    {
     "name": "stdout",
     "output_type": "stream",
     "text": [
      "\u001b[1m3743/3743\u001b[0m \u001b[32m━━━━━━━━━━━━━━━━━━━━\u001b[0m\u001b[37m\u001b[0m \u001b[1m23s\u001b[0m 6ms/step\n",
      "\n",
      "Final LSTM Model Confusion Matrix:\n",
      "[[45857 18787]\n",
      " [18041 37088]]\n"
     ]
    }
   ],
   "source": [
    "from tensorflow.keras.models import Sequential\n",
    "from tensorflow.keras.layers import LSTM, Dense, Dropout\n",
    "from tensorflow.keras.callbacks import EarlyStopping\n",
    "\n",
    "# --- Step 4: Build and Train the LSTM Model ---\n",
    "\n",
    "print(\"\\nBuilding the LSTM model...\")\n",
    "model = Sequential([\n",
    "    # The LSTM layer processes the sequence. input_shape is (window_size, num_features)\n",
    "    LSTM(64, input_shape=(X_train_scaled.shape[1], X_train_scaled.shape[2])),\n",
    "    Dropout(0.5), # Dropout helps prevent overfitting\n",
    "    # The final Dense layer gives a single output (tap or no-tap)\n",
    "    Dense(1, activation='sigmoid') \n",
    "])\n",
    "\n",
    "# Compile the model\n",
    "model.compile(optimizer='adam', loss='binary_crossentropy', metrics=['accuracy'])\n",
    "model.summary()\n",
    "\n",
    "# To handle the class imbalance, we calculate class weights\n",
    "# This penalizes the model more for missing the rare 'tap' events\n",
    "from sklearn.utils import class_weight\n",
    "weights = class_weight.compute_class_weight('balanced', classes=np.unique(y_train), y=y_train)\n",
    "class_weights = {i : weights[i] for i in range(len(weights))}\n",
    "\n",
    "print(\"\\nTraining the LSTM model... (This may take a long time)\")\n",
    "# EarlyStopping will stop training if the model isn't improving\n",
    "early_stopping = EarlyStopping(monitor='val_loss', patience=3, restore_best_weights=True)\n",
    "\n",
    "history = model.fit(\n",
    "    X_train_scaled,\n",
    "    y_train,\n",
    "    epochs=15,\n",
    "    batch_size=256,\n",
    "    validation_split=0.2, # Use part of the training data for validation\n",
    "    class_weight=class_weights,\n",
    "    callbacks=[early_stopping]\n",
    ")\n",
    "\n",
    "\n",
    "# --- Step 5: Evaluate the Final Model ---\n",
    "\n",
    "print(\"\\nEvaluating the final model on the test set...\")\n",
    "# We predict probabilities and use a threshold of 0.5 to get 0s and 1s\n",
    "y_pred_probs = model.predict(X_test_scaled)\n",
    "y_pred = (y_pred_probs > 0.5).astype(int)\n",
    "\n",
    "print(\"\\nFinal LSTM Model Confusion Matrix:\")\n",
    "print(confusion_matrix(y_test, y_pred))"
   ]
  }
 ],
 "metadata": {
  "kernelspec": {
   "display_name": "tf",
   "language": "python",
   "name": "python3"
  },
  "language_info": {
   "codemirror_mode": {
    "name": "ipython",
    "version": 3
   },
   "file_extension": ".py",
   "mimetype": "text/x-python",
   "name": "python",
   "nbconvert_exporter": "python",
   "pygments_lexer": "ipython3",
   "version": "3.12.11"
  }
 },
 "nbformat": 4,
 "nbformat_minor": 5
}

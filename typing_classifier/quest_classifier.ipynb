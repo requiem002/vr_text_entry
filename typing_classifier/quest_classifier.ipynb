{
 "cells": [
  {
   "cell_type": "code",
   "execution_count": 1,
   "id": "6764e3d7",
   "metadata": {},
   "outputs": [],
   "source": [
    "data_folder = \"quest_training_data/\""
   ]
  },
  {
   "cell_type": "code",
   "execution_count": 2,
   "id": "3909ede2",
   "metadata": {},
   "outputs": [
    {
     "name": "stdout",
     "output_type": "stream",
     "text": [
      "['/device:CPU:0']\n"
     ]
    }
   ],
   "source": [
    "#Wanna do a quick check to see if TensorFlow can access the GPU\n",
    "from tensorflow.python.client import device_lib\n",
    "\n",
    "def get_available_devices():\n",
    "    local_device_protos = device_lib.list_local_devices()\n",
    "    return [x.name for x in local_device_protos]\n",
    "\n",
    "print(get_available_devices())"
   ]
  },
  {
   "cell_type": "code",
   "execution_count": 4,
   "id": "abcb4a33",
   "metadata": {},
   "outputs": [
    {
     "name": "stdout",
     "output_type": "stream",
     "text": [
      "Found 10 files to process...\n",
      "\n",
      "--- Processing subfolder: flap---\n",
      "\n",
      "--- Processing subfolder: while---\n",
      "\n",
      "--- Processing Complete ---\n",
      "Shape of the final master DataFrame: (424, 11)\n",
      "\n",
      "Class Distribution ('1' is a Tap):\n",
      "KeyPressFlag\n",
      "0    0.568396\n",
      "1    0.431604\n",
      "Name: proportion, dtype: float64\n"
     ]
    }
   ],
   "source": [
    "import pandas as pd\n",
    "import numpy as np\n",
    "import os\n",
    "import glob # Library for finding files that match a pattern\n",
    "\n",
    "\n",
    "import random\n",
    "import tensorflow as tf\n",
    "\n",
    "random.seed(42)\n",
    "np.random.seed(42)\n",
    "tf.random.set_seed(42)\n",
    "\n",
    "\n",
    "# Function to process a single quest data file\n",
    "# This function loads the data, downsamples it, and calculates velocity and acceleration features\n",
    "# It returns a DataFrame with the processed data\n",
    "# If the file is missing required columns, it returns None\n",
    "def process_quest_file(file_path):\n",
    "    \"\"\"\n",
    "    Loads a single data file, downsamples it, and calculates\n",
    "    velocity and acceleration features.\n",
    "    \"\"\"\n",
    "    # low_memory=False helps prevent data type warnings\n",
    "    df = pd.read_csv(file_path, low_memory=False)\n",
    "    \n",
    "    # Downsample by a factor of 2 to speed up processing... maybe not optimal, but quick\n",
    "    # This assumes the data is evenly spaced; if not, this could introduce bias\n",
    "    # Adjust the step size as needed; here we take every 2nd row\n",
    "    df = df.iloc[::2, :].copy()\n",
    "\n",
    "    feature_cols = [\n",
    "        'TimeStamp',\n",
    "        'Meta_R_Index_Distal_GLOBAL_X',\n",
    "        'Meta_R_Index_Distal_GLOBAL_Y',\n",
    "        'Meta_R_Index_Distal_GLOBAL_Z'\n",
    "    ]\n",
    "    label_col = 'KeyPressFlag'\n",
    "    \n",
    "    # It's safer to check if columns exist before using them\n",
    "    required_cols = feature_cols + [label_col]\n",
    "    if not all(col in df.columns for col in required_cols):\n",
    "        print(f\"  -> Skipping {os.path.basename(file_path)}: missing required columns.\")\n",
    "        return None # Return nothing if a file is missing columns\n",
    "        \n",
    "    processed_df = df[required_cols].copy()\n",
    "    \n",
    "    delta_time = processed_df['TimeStamp'].diff()\n",
    "    \n",
    "    # Calculate Velocity\n",
    "    processed_df['vel_x'] = processed_df['Meta_R_Index_Distal_GLOBAL_X'].diff() / delta_time\n",
    "    processed_df['vel_y'] = processed_df['Meta_R_Index_Distal_GLOBAL_Y'].diff() / delta_time\n",
    "    processed_df['vel_z'] = processed_df['Meta_R_Index_Distal_GLOBAL_Z'].diff() / delta_time\n",
    "    \n",
    "    # Calculate Acceleration\n",
    "    processed_df['accel_x'] = processed_df['vel_x'].diff() / delta_time\n",
    "    processed_df['accel_y'] = processed_df['vel_y'].diff() / delta_time\n",
    "    processed_df['accel_z'] = processed_df['vel_z'].diff() / delta_time\n",
    "    \n",
    "    processed_df.dropna(inplace=True)\n",
    "    \n",
    "    return processed_df\n",
    "\n",
    "\n",
    "\n",
    "\n",
    "# Use glob to find all .csv files recursively\n",
    "search_pattern = os.path.join(data_folder, '**', '*.csv')\n",
    "\n",
    "\n",
    "all_files = glob.glob(search_pattern, recursive=True)\n",
    "\n",
    "all_files = [f for f in all_files if \"_0deg_\" in os.path.basename(f)]\n",
    "\n",
    "\n",
    "# A list to hold the processed data from each file\n",
    "list_of_dfs = []\n",
    "\n",
    "print(f\"Found {len(all_files)} files to process...\")\n",
    "\n",
    "current_subfolder = None\n",
    "\n",
    "for file in all_files:\n",
    "    # We'll just print the filename, not the full path, to keep the log clean\n",
    "    subfolder_name = os.path.basename(os.path.dirname(file))\n",
    "\n",
    "    if subfolder_name != current_subfolder:\n",
    "        current_subfolder = subfolder_name\n",
    "        print(f\"\\n--- Processing subfolder: {current_subfolder}---\")\n",
    "    #print(f\"Processing {os.path.basename(file)}...\")\n",
    "    try:\n",
    "        processed_df = process_quest_file(file)\n",
    "        if processed_df is not None:\n",
    "            list_of_dfs.append(processed_df)\n",
    "    except Exception as e:\n",
    "        print(f\"  -> ERROR processing {os.path.basename(file)}. Error: {e}\")\n",
    "\n",
    "# Combine all the processed data into one master DataFrame\n",
    "if list_of_dfs:\n",
    "    master_df = pd.concat(list_of_dfs, ignore_index=True)\n",
    "\n",
    "    print(\"\\n--- Processing Complete ---\")\n",
    "    print(\"Shape of the final master DataFrame:\", master_df.shape)\n",
    "    \n",
    "    print(\"\\nClass Distribution ('1' is a Tap):\")\n",
    "    # We check if 'KeyPressFlag' exists before trying to access it\n",
    "    if 'KeyPressFlag' in master_df.columns:\n",
    "        print(master_df['KeyPressFlag'].value_counts(normalize=True))\n",
    "    else:\n",
    "        print(\"Column 'KeyPressFlag' not found in the final DataFrame.\")\n",
    "else:\n",
    "    print(\"\\nNo files were processed. Please check your data_folder path and file contents.\")"
   ]
  },
  {
   "cell_type": "code",
   "execution_count": 7,
   "id": "c9febd91",
   "metadata": {},
   "outputs": [
    {
     "name": "stdout",
     "output_type": "stream",
     "text": [
      "Creating time-series windows...\n",
      "Shape of X_windowed (samples, timesteps, features): (324, 100, 6)\n",
      "Shape of y_windowed: (324,)\n",
      "\n",
      "Data successfully prepared with Y and Z-axis features.\n"
     ]
    }
   ],
   "source": [
    "import numpy as np\n",
    "import pandas as pd\n",
    "from sklearn.model_selection import train_test_split\n",
    "from sklearn.preprocessing import StandardScaler\n",
    "from sklearn.metrics import confusion_matrix\n",
    "\n",
    "# --- Step 1: Prepare Data for Windowing ---\n",
    "# --- MODIFIED: We now include Y-axis features alongside Z-axis ---\n",
    "feature_columns = [\n",
    "    'Meta_R_Index_Distal_GLOBAL_Y', # Position Y\n",
    "    'vel_y',                        # Velocity Y\n",
    "    'accel_y',                      # Acceleration Y\n",
    "    'Meta_R_Index_Distal_GLOBAL_Z', # Position Z\n",
    "    'vel_z',                        # Velocity Z\n",
    "    'accel_z'                       # Acceleration Z\n",
    "]\n",
    "\n",
    "# The rest of the script adapts automatically to the new feature count\n",
    "timeseries_data = master_df[['KeyPressFlag'] + feature_columns].to_numpy()\n",
    "\n",
    "window_size = 100\n",
    "\n",
    "# --- Step 2: Create Time-Series Windows ---\n",
    "def make_timeseries_instances(time_series, window_size):\n",
    "    \"\"\"Chops the data into overlapping windows.\"\"\"\n",
    "    X = []\n",
    "    y = []\n",
    "    for i in range(window_size, time_series.shape[0]):\n",
    "        X.append(time_series[i-window_size:i, 1:])\n",
    "        y.append(time_series[i, 0])\n",
    "    return np.array(X), np.array(y).astype(int)\n",
    "\n",
    "print(\"Creating time-series windows...\")\n",
    "X_windowed, y_windowed = make_timeseries_instances(timeseries_data, window_size)\n",
    "print(\"Shape of X_windowed (samples, timesteps, features):\", X_windowed.shape)\n",
    "print(\"Shape of y_windowed:\", y_windowed.shape)\n",
    "\n",
    "# --- Step 3: Split and Scale the Data ---\n",
    "X_train, X_test, y_train, y_test = train_test_split(\n",
    "    X_windowed, y_windowed, test_size=0.2, random_state=42, stratify=y_windowed\n",
    ")\n",
    "\n",
    "scaler = StandardScaler()\n",
    "X_train_scaled = scaler.fit_transform(X_train.reshape(-1, X_train.shape[-1])).reshape(X_train.shape)\n",
    "X_test_scaled = scaler.transform(X_test.reshape(-1, X_test.shape[-1])).reshape(X_test.shape)\n",
    "\n",
    "print(\"\\nData successfully prepared with Y and Z-axis features.\")"
   ]
  },
  {
   "cell_type": "code",
   "execution_count": null,
   "id": "fee0d784",
   "metadata": {},
   "outputs": [],
   "source": []
  },
  {
   "cell_type": "code",
   "execution_count": 8,
   "id": "0017235c",
   "metadata": {},
   "outputs": [
    {
     "name": "stdout",
     "output_type": "stream",
     "text": [
      "\n",
      "Building the LSTM model...\n"
     ]
    },
    {
     "name": "stderr",
     "output_type": "stream",
     "text": [
      "c:\\Users\\SyMoN\\.conda\\envs\\saad_classifier_312\\Lib\\site-packages\\keras\\src\\layers\\rnn\\rnn.py:199: UserWarning: Do not pass an `input_shape`/`input_dim` argument to a layer. When using Sequential models, prefer using an `Input(shape)` object as the first layer in the model instead.\n",
      "  super().__init__(**kwargs)\n"
     ]
    },
    {
     "data": {
      "text/html": [
       "<pre style=\"white-space:pre;overflow-x:auto;line-height:normal;font-family:Menlo,'DejaVu Sans Mono',consolas,'Courier New',monospace\"><span style=\"font-weight: bold\">Model: \"sequential\"</span>\n",
       "</pre>\n"
      ],
      "text/plain": [
       "\u001b[1mModel: \"sequential\"\u001b[0m\n"
      ]
     },
     "metadata": {},
     "output_type": "display_data"
    },
    {
     "data": {
      "text/html": [
       "<pre style=\"white-space:pre;overflow-x:auto;line-height:normal;font-family:Menlo,'DejaVu Sans Mono',consolas,'Courier New',monospace\">┏━━━━━━━━━━━━━━━━━━━━━━━━━━━━━━━━━┳━━━━━━━━━━━━━━━━━━━━━━━━┳━━━━━━━━━━━━━━━┓\n",
       "┃<span style=\"font-weight: bold\"> Layer (type)                    </span>┃<span style=\"font-weight: bold\"> Output Shape           </span>┃<span style=\"font-weight: bold\">       Param # </span>┃\n",
       "┡━━━━━━━━━━━━━━━━━━━━━━━━━━━━━━━━━╇━━━━━━━━━━━━━━━━━━━━━━━━╇━━━━━━━━━━━━━━━┩\n",
       "│ lstm (<span style=\"color: #0087ff; text-decoration-color: #0087ff\">LSTM</span>)                     │ (<span style=\"color: #00d7ff; text-decoration-color: #00d7ff\">None</span>, <span style=\"color: #00af00; text-decoration-color: #00af00\">64</span>)             │        <span style=\"color: #00af00; text-decoration-color: #00af00\">18,176</span> │\n",
       "├─────────────────────────────────┼────────────────────────┼───────────────┤\n",
       "│ dropout (<span style=\"color: #0087ff; text-decoration-color: #0087ff\">Dropout</span>)               │ (<span style=\"color: #00d7ff; text-decoration-color: #00d7ff\">None</span>, <span style=\"color: #00af00; text-decoration-color: #00af00\">64</span>)             │             <span style=\"color: #00af00; text-decoration-color: #00af00\">0</span> │\n",
       "├─────────────────────────────────┼────────────────────────┼───────────────┤\n",
       "│ dense (<span style=\"color: #0087ff; text-decoration-color: #0087ff\">Dense</span>)                   │ (<span style=\"color: #00d7ff; text-decoration-color: #00d7ff\">None</span>, <span style=\"color: #00af00; text-decoration-color: #00af00\">1</span>)              │            <span style=\"color: #00af00; text-decoration-color: #00af00\">65</span> │\n",
       "└─────────────────────────────────┴────────────────────────┴───────────────┘\n",
       "</pre>\n"
      ],
      "text/plain": [
       "┏━━━━━━━━━━━━━━━━━━━━━━━━━━━━━━━━━┳━━━━━━━━━━━━━━━━━━━━━━━━┳━━━━━━━━━━━━━━━┓\n",
       "┃\u001b[1m \u001b[0m\u001b[1mLayer (type)                   \u001b[0m\u001b[1m \u001b[0m┃\u001b[1m \u001b[0m\u001b[1mOutput Shape          \u001b[0m\u001b[1m \u001b[0m┃\u001b[1m \u001b[0m\u001b[1m      Param #\u001b[0m\u001b[1m \u001b[0m┃\n",
       "┡━━━━━━━━━━━━━━━━━━━━━━━━━━━━━━━━━╇━━━━━━━━━━━━━━━━━━━━━━━━╇━━━━━━━━━━━━━━━┩\n",
       "│ lstm (\u001b[38;5;33mLSTM\u001b[0m)                     │ (\u001b[38;5;45mNone\u001b[0m, \u001b[38;5;34m64\u001b[0m)             │        \u001b[38;5;34m18,176\u001b[0m │\n",
       "├─────────────────────────────────┼────────────────────────┼───────────────┤\n",
       "│ dropout (\u001b[38;5;33mDropout\u001b[0m)               │ (\u001b[38;5;45mNone\u001b[0m, \u001b[38;5;34m64\u001b[0m)             │             \u001b[38;5;34m0\u001b[0m │\n",
       "├─────────────────────────────────┼────────────────────────┼───────────────┤\n",
       "│ dense (\u001b[38;5;33mDense\u001b[0m)                   │ (\u001b[38;5;45mNone\u001b[0m, \u001b[38;5;34m1\u001b[0m)              │            \u001b[38;5;34m65\u001b[0m │\n",
       "└─────────────────────────────────┴────────────────────────┴───────────────┘\n"
      ]
     },
     "metadata": {},
     "output_type": "display_data"
    },
    {
     "data": {
      "text/html": [
       "<pre style=\"white-space:pre;overflow-x:auto;line-height:normal;font-family:Menlo,'DejaVu Sans Mono',consolas,'Courier New',monospace\"><span style=\"font-weight: bold\"> Total params: </span><span style=\"color: #00af00; text-decoration-color: #00af00\">18,241</span> (71.25 KB)\n",
       "</pre>\n"
      ],
      "text/plain": [
       "\u001b[1m Total params: \u001b[0m\u001b[38;5;34m18,241\u001b[0m (71.25 KB)\n"
      ]
     },
     "metadata": {},
     "output_type": "display_data"
    },
    {
     "data": {
      "text/html": [
       "<pre style=\"white-space:pre;overflow-x:auto;line-height:normal;font-family:Menlo,'DejaVu Sans Mono',consolas,'Courier New',monospace\"><span style=\"font-weight: bold\"> Trainable params: </span><span style=\"color: #00af00; text-decoration-color: #00af00\">18,241</span> (71.25 KB)\n",
       "</pre>\n"
      ],
      "text/plain": [
       "\u001b[1m Trainable params: \u001b[0m\u001b[38;5;34m18,241\u001b[0m (71.25 KB)\n"
      ]
     },
     "metadata": {},
     "output_type": "display_data"
    },
    {
     "data": {
      "text/html": [
       "<pre style=\"white-space:pre;overflow-x:auto;line-height:normal;font-family:Menlo,'DejaVu Sans Mono',consolas,'Courier New',monospace\"><span style=\"font-weight: bold\"> Non-trainable params: </span><span style=\"color: #00af00; text-decoration-color: #00af00\">0</span> (0.00 B)\n",
       "</pre>\n"
      ],
      "text/plain": [
       "\u001b[1m Non-trainable params: \u001b[0m\u001b[38;5;34m0\u001b[0m (0.00 B)\n"
      ]
     },
     "metadata": {},
     "output_type": "display_data"
    },
    {
     "name": "stdout",
     "output_type": "stream",
     "text": [
      "\n",
      "Training the LSTM model... (This may take a long time)\n",
      "Epoch 1/10\n",
      "\u001b[1m1/1\u001b[0m \u001b[32m━━━━━━━━━━━━━━━━━━━━\u001b[0m\u001b[37m\u001b[0m \u001b[1m74s\u001b[0m 74s/step - accuracy: 0.4493 - loss: 0.7101 - val_accuracy: 0.5577 - val_loss: 0.6934\n",
      "Epoch 2/10\n",
      "\u001b[1m1/1\u001b[0m \u001b[32m━━━━━━━━━━━━━━━━━━━━\u001b[0m\u001b[37m\u001b[0m \u001b[1m0s\u001b[0m 337ms/step - accuracy: 0.5072 - loss: 0.6980 - val_accuracy: 0.6731 - val_loss: 0.6889\n",
      "Epoch 3/10\n",
      "\u001b[1m1/1\u001b[0m \u001b[32m━━━━━━━━━━━━━━━━━━━━\u001b[0m\u001b[37m\u001b[0m \u001b[1m0s\u001b[0m 311ms/step - accuracy: 0.4928 - loss: 0.6946 - val_accuracy: 0.5192 - val_loss: 0.6847\n",
      "Epoch 4/10\n",
      "\u001b[1m1/1\u001b[0m \u001b[32m━━━━━━━━━━━━━━━━━━━━\u001b[0m\u001b[37m\u001b[0m \u001b[1m0s\u001b[0m 354ms/step - accuracy: 0.5652 - loss: 0.6826 - val_accuracy: 0.5385 - val_loss: 0.6810\n",
      "Epoch 5/10\n",
      "\u001b[1m1/1\u001b[0m \u001b[32m━━━━━━━━━━━━━━━━━━━━\u001b[0m\u001b[37m\u001b[0m \u001b[1m0s\u001b[0m 376ms/step - accuracy: 0.5845 - loss: 0.6712 - val_accuracy: 0.5385 - val_loss: 0.6776\n",
      "Epoch 6/10\n",
      "\u001b[1m1/1\u001b[0m \u001b[32m━━━━━━━━━━━━━━━━━━━━\u001b[0m\u001b[37m\u001b[0m \u001b[1m0s\u001b[0m 355ms/step - accuracy: 0.5990 - loss: 0.6660 - val_accuracy: 0.5192 - val_loss: 0.6743\n",
      "Epoch 7/10\n",
      "\u001b[1m1/1\u001b[0m \u001b[32m━━━━━━━━━━━━━━━━━━━━\u001b[0m\u001b[37m\u001b[0m \u001b[1m0s\u001b[0m 299ms/step - accuracy: 0.5797 - loss: 0.6666 - val_accuracy: 0.5192 - val_loss: 0.6712\n",
      "Epoch 8/10\n",
      "\u001b[1m1/1\u001b[0m \u001b[32m━━━━━━━━━━━━━━━━━━━━\u001b[0m\u001b[37m\u001b[0m \u001b[1m0s\u001b[0m 306ms/step - accuracy: 0.5942 - loss: 0.6754 - val_accuracy: 0.5192 - val_loss: 0.6680\n",
      "Epoch 9/10\n",
      "\u001b[1m1/1\u001b[0m \u001b[32m━━━━━━━━━━━━━━━━━━━━\u001b[0m\u001b[37m\u001b[0m \u001b[1m0s\u001b[0m 452ms/step - accuracy: 0.5845 - loss: 0.6519 - val_accuracy: 0.5192 - val_loss: 0.6648\n",
      "Epoch 10/10\n",
      "\u001b[1m1/1\u001b[0m \u001b[32m━━━━━━━━━━━━━━━━━━━━\u001b[0m\u001b[37m\u001b[0m \u001b[1m1s\u001b[0m 662ms/step - accuracy: 0.6039 - loss: 0.6560 - val_accuracy: 0.5192 - val_loss: 0.6614\n",
      "\n",
      "Evaluating the final model on the test set...\n",
      "\u001b[1m3/3\u001b[0m \u001b[32m━━━━━━━━━━━━━━━━━━━━\u001b[0m\u001b[37m\u001b[0m \u001b[1m14s\u001b[0m 4s/step\n",
      "\n",
      "Final LSTM Model Confusion Matrix:\n",
      "[[19 18]\n",
      " [ 7 21]]\n"
     ]
    }
   ],
   "source": [
    "from tensorflow.keras.models import Sequential\n",
    "from tensorflow.keras.layers import LSTM, Dense, Dropout\n",
    "from tensorflow.keras.callbacks import EarlyStopping\n",
    "\n",
    "# --- Step 4: Build and Train the LSTM Model ---\n",
    "\n",
    "print(\"\\nBuilding the LSTM model...\")\n",
    "model = Sequential([\n",
    "    # The LSTM layer processes the sequence. input_shape is (window_size, num_features)\n",
    "    LSTM(64, input_shape=(X_train_scaled.shape[1], X_train_scaled.shape[2]), unroll=True, name=\"lstm\"),\n",
    "    Dropout(0.5), # Dropout helps prevent overfitting\n",
    "    # The final Dense layer gives a single output (tap or no-tap)\n",
    "    Dense(1, activation='sigmoid') \n",
    "])\n",
    "\n",
    "# Compile the model\n",
    "model.compile(optimizer='adam', loss='binary_crossentropy', metrics=['accuracy'])\n",
    "model.summary()\n",
    "\n",
    "# To handle the class imbalance, calculate class weights\n",
    "# This penalizes the model more for missing the rare 'tap' events\n",
    "from sklearn.utils import class_weight\n",
    "weights = class_weight.compute_class_weight('balanced', classes=np.unique(y_train), y=y_train)\n",
    "class_weights = {i : weights[i] for i in range(len(weights))}\n",
    "\n",
    "print(\"\\nTraining the LSTM model... (This may take a long time)\")\n",
    "# EarlyStopping will stop training if the model isn't improving\n",
    "early_stopping = EarlyStopping(monitor='val_loss', patience=3, restore_best_weights=True)\n",
    "\n",
    "history = model.fit(\n",
    "    X_train_scaled,\n",
    "    y_train,\n",
    "    epochs=10,\n",
    "    batch_size=256,\n",
    "    validation_split=0.2, # Use part of the training data for validation - perhaps 20% is a good start\n",
    "    class_weight=class_weights,\n",
    "    callbacks=[early_stopping]\n",
    ")\n",
    "\n",
    "\n",
    "# --- Step 5: Evaluate the Final Model ---\n",
    "\n",
    "print(\"\\nEvaluating the final model on the test set...\")\n",
    "# We predict probabilities and use a threshold of 0.5 to get 0s and 1s\n",
    "y_pred_probs = model.predict(X_test_scaled)\n",
    "y_pred = (y_pred_probs > 0.5).astype(int)\n",
    "\n",
    "print(\"\\nFinal LSTM Model Confusion Matrix:\")\n",
    "print(confusion_matrix(y_test, y_pred))"
   ]
  },
  {
   "cell_type": "code",
   "execution_count": 9,
   "id": "40e09c34",
   "metadata": {},
   "outputs": [],
   "source": [
    "model.save('ltsm_tap_simple.keras')  # Save the model for later use"
   ]
  },
  {
   "cell_type": "code",
   "execution_count": 10,
   "id": "3bed1b6f",
   "metadata": {},
   "outputs": [
    {
     "name": "stdout",
     "output_type": "stream",
     "text": [
      "INFO:tensorflow:Assets written to: ltsm_tap_simple_exported\\assets\n"
     ]
    },
    {
     "name": "stderr",
     "output_type": "stream",
     "text": [
      "INFO:tensorflow:Assets written to: ltsm_tap_simple_exported\\assets\n"
     ]
    },
    {
     "name": "stdout",
     "output_type": "stream",
     "text": [
      "Saved artifact at 'ltsm_tap_simple_exported'. The following endpoints are available:\n",
      "\n",
      "* Endpoint 'serve'\n",
      "  args_0 (POSITIONAL_ONLY): TensorSpec(shape=(None, 100, 6), dtype=tf.float32, name='input_layer')\n",
      "Output Type:\n",
      "  TensorSpec(shape=(None, 1), dtype=tf.float32, name=None)\n",
      "Captures:\n",
      "  2473036113744: TensorSpec(shape=(), dtype=tf.resource, name=None)\n",
      "  2473176725840: TensorSpec(shape=(), dtype=tf.resource, name=None)\n",
      "  2473176724880: TensorSpec(shape=(), dtype=tf.resource, name=None)\n",
      "  2473176726416: TensorSpec(shape=(), dtype=tf.resource, name=None)\n",
      "  2473176727376: TensorSpec(shape=(), dtype=tf.resource, name=None)\n"
     ]
    }
   ],
   "source": [
    "\n",
    "# Load trained model\n",
    "model = tf.keras.models.load_model('ltsm_tap_simple.keras')\n",
    "\n",
    "# Export it to a new directory\n",
    "model.export('ltsm_tap_simple_exported')"
   ]
  },
  {
   "cell_type": "code",
   "execution_count": null,
   "id": "e8bc25f2",
   "metadata": {},
   "outputs": [
    {
     "name": "stdout",
     "output_type": "stream",
     "text": [
      "Recovered input shape: (100, 3)\n"
     ]
    },
    {
     "name": "stderr",
     "output_type": "stream",
     "text": [
      "/data/transient/ahmedszz/miniconda3/envs/tf/lib/python3.12/site-packages/keras/src/layers/rnn/rnn.py:199: UserWarning: Do not pass an `input_shape`/`input_dim` argument to a layer. When using Sequential models, prefer using an `Input(shape)` object as the first layer in the model instead.\n",
      "  super().__init__(**kwargs)\n"
     ]
    }
   ],
   "source": [
    "# Probably a better way to do this, but this is a quick fix -- unity isn't happy unless i unroll the LSTM layer..\n",
    "#redunant now, but was needed for my first model\n",
    "\n",
    "from tensorflow.keras.models import Sequential\n",
    "from tensorflow.keras.layers import LSTM, Dense, Dropout\n",
    "\n",
    "input_shape = model.input_shape[1:]  \n",
    "print(\"Recovered input shape:\", input_shape)\n",
    "\n",
    "new_model = Sequential([\n",
    "    LSTM(64, input_shape=input_shape, unroll=True, name=\"lstm\"),\n",
    "    Dropout(0.5, name=\"dropout\"),\n",
    "    Dense(1, activation='sigmoid', name=\"dense\")\n",
    "])\n",
    "\n",
    "new_model.compile(optimizer='adam', loss='binary_crossentropy', metrics=['accuracy'])"
   ]
  },
  {
   "cell_type": "code",
   "execution_count": null,
   "id": "c24fdb13",
   "metadata": {},
   "outputs": [
    {
     "name": "stdout",
     "output_type": "stream",
     "text": [
      "Transferred weights for lstm\n",
      "Transferred weights for dropout_1\n",
      "Transferred weights for dense_1\n"
     ]
    }
   ],
   "source": [
    "# I assume the new model has the same architecture as the old one\n",
    "# Transfer weights from the old model to the new model\n",
    "for old_layer, new_layer in zip(model.layers, new_model.layers):\n",
    "    try:\n",
    "        new_layer.set_weights(old_layer.get_weights())\n",
    "        print(f\"Transferred weights for {old_layer.name}\")\n",
    "    except ValueError:\n",
    "        print(f\"Skipped {old_layer.name} (shape mismatch)\")"
   ]
  },
  {
   "cell_type": "code",
   "execution_count": null,
   "id": "52e79343",
   "metadata": {},
   "outputs": [
    {
     "name": "stderr",
     "output_type": "stream",
     "text": [
      "/data/transient/ahmedszz/miniconda3/envs/tf/lib/python3.12/site-packages/keras/src/saving/saving_lib.py:802: UserWarning: Skipping variable loading for optimizer 'adam', because it has 12 variables whereas the saved optimizer has 2 variables. \n",
      "  saveable.load_own_variables(weights_store.get(inner_path))\n"
     ]
    },
    {
     "name": "stdout",
     "output_type": "stream",
     "text": [
      "INFO:tensorflow:Assets written to: ltsm_tap_detector_unrolled_25_exported/assets\n"
     ]
    },
    {
     "name": "stderr",
     "output_type": "stream",
     "text": [
      "INFO:tensorflow:Assets written to: ltsm_tap_detector_unrolled_25_exported/assets\n"
     ]
    },
    {
     "name": "stdout",
     "output_type": "stream",
     "text": [
      "Saved artifact at 'ltsm_tap_detector_unrolled_25_exported'. The following endpoints are available:\n",
      "\n",
      "* Endpoint 'serve'\n",
      "  args_0 (POSITIONAL_ONLY): TensorSpec(shape=(None, 100, 3), dtype=tf.float32, name='input_layer_2')\n",
      "Output Type:\n",
      "  TensorSpec(shape=(None, 1), dtype=tf.float32, name=None)\n",
      "Captures:\n",
      "  140012378406160: TensorSpec(shape=(), dtype=tf.resource, name=None)\n",
      "  140005534535504: TensorSpec(shape=(), dtype=tf.resource, name=None)\n",
      "  140005534541456: TensorSpec(shape=(), dtype=tf.resource, name=None)\n",
      "  140005534543760: TensorSpec(shape=(), dtype=tf.resource, name=None)\n",
      "  140005534543568: TensorSpec(shape=(), dtype=tf.resource, name=None)\n"
     ]
    }
   ],
   "source": [
    "export_path = \"/data/transient/ahmedszz/Documents/vr_text_entry_models/vr_text_entry/typing_classifier/ltsm_tap_detector_unrolled_25.keras\"\n",
    "new_model.save(export_path)\n",
    "\n",
    "\n",
    "# Load trained model\n",
    "model = tf.keras.models.load_model('ltsm_tap_detector_unrolled_25.keras')\n",
    "\n",
    "# Export it to a new directory\n",
    "model.export('ltsm_tap_detector_unrolled_25_exported')"
   ]
  },
  {
   "cell_type": "code",
   "execution_count": null,
   "id": "531d967a",
   "metadata": {},
   "outputs": [],
   "source": [
    "# Quick sanity check to see if the model is valid cortesy of chatgpt\n",
    "\n",
    "import onnx\n",
    "import onnxruntime as ort\n",
    "import numpy as np\n",
    "\n",
    "# 1. Load the ONNX model\n",
    "onnx_model_path = \"/data/transient/ahmedszz/Documents/vr_text_entry_models/vr_text_entry/typing_classifier/ltsm_tap_detector.onnx\"\n",
    "model = onnx.load(onnx_model_path)\n",
    "\n",
    "# 2. Check model structure\n",
    "onnx.checker.check_model(model)\n",
    "print(\"✅ Model is structurally valid ONNX\")\n",
    "\n",
    "# 3. Create an ONNX Runtime session\n",
    "session = ort.InferenceSession(onnx_model_path)\n",
    "\n",
    "# Print model I/O info\n",
    "print(\"Inputs:\", [(i.name, i.shape, i.type) for i in session.get_inputs()])\n",
    "print(\"Outputs:\", [(o.name, o.shape, o.type) for o in session.get_outputs()])\n",
    "\n",
    "# 4. Run a dummy inference\n",
    "# Example input shape: (1, 100, 3) -> batch of 1, 100 timesteps, 3 features\n",
    "dummy_input = np.random.rand(1, 100, 3).astype(np.float32)\n",
    "\n",
    "# Feed into the session\n",
    "input_name = session.get_inputs()[0].name\n",
    "output_name = session.get_outputs()[0].name\n",
    "\n",
    "result = session.run([output_name], {input_name: dummy_input})\n",
    "print(\"Dummy inference output:\", result)"
   ]
  },
  {
   "cell_type": "markdown",
   "id": "57d1b5d0",
   "metadata": {},
   "source": [
    "Moving from tap detection to letter detection. First producing a visualisation. "
   ]
  },
  {
   "cell_type": "code",
   "execution_count": null,
   "id": "0e88e79b",
   "metadata": {},
   "outputs": [],
   "source": [
    "import matplotlib.pyplot as plt\n",
    "import seaborn as sns\n",
    "\n",
    "# Make sure master_df is your fully processed dataframe from the previous step\n",
    "\n",
    "# 1. Create a new dataframe containing ONLY the rows where a real tap occurred\n",
    "tap_events_df = master_df[master_df['KeyPressFlag'] == 1].copy()\n",
    "\n",
    "print(f\"Found {len(tap_events_df)} tap events to visualize.\")\n",
    "\n",
    "# 2. Create a 2D scatter plot of the tap locations\n",
    "plt.figure(figsize=(12, 6))\n",
    "sns.scatterplot(\n",
    "    data=tap_events_df,\n",
    "    x='Meta_R_Index_Distal_GLOBAL_X',\n",
    "    y='Meta_R_Index_Distal_GLOBAL_Z',\n",
    "    hue='Pressed_Letter', # Color each point by the letter that was pressed\n",
    "    palette='viridis',\n",
    "    legend=False # Turning off legend for clarity as there will be many letters\n",
    ")\n",
    "\n",
    "plt.title('2D Visualization of All Detected Tap Locations')\n",
    "plt.xlabel('X Coordinate')\n",
    "plt.ylabel('Z Coordinate')\n",
    "plt.grid(True)\n",
    "plt.axis('equal') # Ensure the scaling of X and Z axes is the same\n",
    "plt.show()"
   ]
  }
 ],
 "metadata": {
  "kernelspec": {
   "display_name": "saad_classifier_312",
   "language": "python",
   "name": "python3"
  },
  "language_info": {
   "codemirror_mode": {
    "name": "ipython",
    "version": 3
   },
   "file_extension": ".py",
   "mimetype": "text/x-python",
   "name": "python",
   "nbconvert_exporter": "python",
   "pygments_lexer": "ipython3",
   "version": "3.12.11"
  }
 },
 "nbformat": 4,
 "nbformat_minor": 5
}

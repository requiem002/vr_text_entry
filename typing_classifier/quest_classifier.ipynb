{
 "cells": [
  {
   "cell_type": "markdown",
   "id": "cbe278b3",
   "metadata": {},
   "source": []
  },
  {
   "cell_type": "code",
   "execution_count": 1,
   "id": "6764e3d7",
   "metadata": {},
   "outputs": [],
   "source": [
    "data_folder = \"quest_training_data/\""
   ]
  },
  {
   "cell_type": "code",
   "execution_count": 2,
   "id": "3909ede2",
   "metadata": {},
   "outputs": [
    {
     "name": "stderr",
     "output_type": "stream",
     "text": [
      "2025-08-03 17:34:47.166116: I external/local_xla/xla/tsl/cuda/cudart_stub.cc:32] Could not find cuda drivers on your machine, GPU will not be used.\n",
      "2025-08-03 17:34:47.553446: I external/local_xla/xla/tsl/cuda/cudart_stub.cc:32] Could not find cuda drivers on your machine, GPU will not be used.\n",
      "2025-08-03 17:34:47.841444: E external/local_xla/xla/stream_executor/cuda/cuda_fft.cc:467] Unable to register cuFFT factory: Attempting to register factory for plugin cuFFT when one has already been registered\n",
      "WARNING: All log messages before absl::InitializeLog() is called are written to STDERR\n",
      "E0000 00:00:1754238888.247072   79351 cuda_dnn.cc:8579] Unable to register cuDNN factory: Attempting to register factory for plugin cuDNN when one has already been registered\n",
      "E0000 00:00:1754238888.289482   79351 cuda_blas.cc:1407] Unable to register cuBLAS factory: Attempting to register factory for plugin cuBLAS when one has already been registered\n",
      "W0000 00:00:1754238888.828923   79351 computation_placer.cc:177] computation placer already registered. Please check linkage and avoid linking the same target more than once.\n",
      "W0000 00:00:1754238888.828971   79351 computation_placer.cc:177] computation placer already registered. Please check linkage and avoid linking the same target more than once.\n",
      "W0000 00:00:1754238888.828980   79351 computation_placer.cc:177] computation placer already registered. Please check linkage and avoid linking the same target more than once.\n",
      "W0000 00:00:1754238888.828987   79351 computation_placer.cc:177] computation placer already registered. Please check linkage and avoid linking the same target more than once.\n",
      "2025-08-03 17:34:48.859652: I tensorflow/core/platform/cpu_feature_guard.cc:210] This TensorFlow binary is optimized to use available CPU instructions in performance-critical operations.\n",
      "To enable the following instructions: AVX2 FMA, in other operations, rebuild TensorFlow with the appropriate compiler flags.\n"
     ]
    },
    {
     "name": "stdout",
     "output_type": "stream",
     "text": [
      "GPUs available: []\n"
     ]
    },
    {
     "name": "stderr",
     "output_type": "stream",
     "text": [
      "2025-08-03 17:34:54.738646: E external/local_xla/xla/stream_executor/cuda/cuda_platform.cc:51] failed call to cuInit: INTERNAL: CUDA error: Failed call to cuInit: UNKNOWN ERROR (303)\n"
     ]
    }
   ],
   "source": [
    "import tensorflow as tf\n",
    "print(\"GPUs available:\", tf.config.list_physical_devices('GPU'))"
   ]
  },
  {
   "cell_type": "code",
   "execution_count": 3,
   "id": "abcb4a33",
   "metadata": {},
   "outputs": [
    {
     "name": "stdout",
     "output_type": "stream",
     "text": [
      "Found 9357 files to process...\n",
      "\n",
      "--- Processing subfolder: ptx_01_x2---\n",
      "\n",
      "--- Processing subfolder: ptx_05---\n",
      "  -> ERROR processing 31_Master_ptx_05_0deg_46_jumping_u_1_763.63.csv. Error: unsupported operand type(s) for -: 'str' and 'str'\n",
      "\n",
      "--- Processing subfolder: ptx_06---\n",
      "\n",
      "--- Processing subfolder: ptx_03---\n",
      "\n",
      "--- Processing subfolder: ptx_01---\n",
      "\n",
      "--- Processing subfolder: ptx_05 (2)---\n",
      "  -> ERROR processing 31_Master_ptx_05_0deg_46_jumping_u_1_763.63.csv. Error: unsupported operand type(s) for -: 'str' and 'str'\n",
      "\n",
      "--- Processing subfolder: ptx_999---\n",
      "\n",
      "--- Processing subfolder: ptx_02_x2---\n",
      "\n",
      "--- Processing subfolder: ptx_07---\n",
      "\n",
      "--- Processing subfolder: ptx_04_x2---\n",
      "\n",
      "--- Processing subfolder: ptx_03_x2---\n",
      "\n",
      "--- Processing Complete ---\n",
      "Shape of the final master DataFrame: (448266, 11)\n",
      "\n",
      "Class Distribution ('1' is a Tap):\n",
      "KeyPressFlag\n",
      "0    0.512593\n",
      "1    0.487407\n",
      "Name: proportion, dtype: float64\n"
     ]
    }
   ],
   "source": [
    "import pandas as pd\n",
    "import numpy as np\n",
    "import os\n",
    "import glob # Library for finding files that match a pattern\n",
    "\n",
    "def process_quest_file(file_path):\n",
    "    \"\"\"\n",
    "    Loads a single data file, downsamples it, and calculates\n",
    "    velocity and acceleration features.\n",
    "    \"\"\"\n",
    "    # low_memory=False helps prevent data type warnings\n",
    "    df = pd.read_csv(file_path, low_memory=False)\n",
    "    \n",
    "    # Downsample by a factor of 4 to speed up processing\n",
    "    df = df.iloc[::2, :].copy()\n",
    "\n",
    "    feature_cols = [\n",
    "        'TimeStamp',\n",
    "        'Meta_R_Index_Distal_GLOBAL_X',\n",
    "        'Meta_R_Index_Distal_GLOBAL_Y',\n",
    "        'Meta_R_Index_Distal_GLOBAL_Z'\n",
    "    ]\n",
    "    label_col = 'KeyPressFlag'\n",
    "    \n",
    "    # It's safer to check if columns exist before using them\n",
    "    required_cols = feature_cols + [label_col]\n",
    "    if not all(col in df.columns for col in required_cols):\n",
    "        print(f\"  -> Skipping {os.path.basename(file_path)}: missing required columns.\")\n",
    "        return None # Return nothing if a file is missing columns\n",
    "        \n",
    "    processed_df = df[required_cols].copy()\n",
    "    \n",
    "    delta_time = processed_df['TimeStamp'].diff()\n",
    "    \n",
    "    # Calculate Velocity\n",
    "    processed_df['vel_x'] = processed_df['Meta_R_Index_Distal_GLOBAL_X'].diff() / delta_time\n",
    "    processed_df['vel_y'] = processed_df['Meta_R_Index_Distal_GLOBAL_Y'].diff() / delta_time\n",
    "    processed_df['vel_z'] = processed_df['Meta_R_Index_Distal_GLOBAL_Z'].diff() / delta_time\n",
    "    \n",
    "    # Calculate Acceleration\n",
    "    processed_df['accel_x'] = processed_df['vel_x'].diff() / delta_time\n",
    "    processed_df['accel_y'] = processed_df['vel_y'].diff() / delta_time\n",
    "    processed_df['accel_z'] = processed_df['vel_z'].diff() / delta_time\n",
    "    \n",
    "    processed_df.dropna(inplace=True)\n",
    "    \n",
    "    return processed_df\n",
    "\n",
    "\n",
    "\n",
    "\n",
    "# Use glob to find all .csv files recursively\n",
    "# The '**' tells glob to search in all subdirectories\n",
    "search_pattern = os.path.join(data_folder, '**', '*.csv')\n",
    "\n",
    "\n",
    "all_files = glob.glob(search_pattern, recursive=True)\n",
    "\n",
    "all_files = [f for f in all_files if \"_0deg_\" in os.path.basename(f)]\n",
    "\n",
    "\n",
    "# A list to hold the processed data from each file\n",
    "list_of_dfs = []\n",
    "\n",
    "print(f\"Found {len(all_files)} files to process...\")\n",
    "\n",
    "current_subfolder = None\n",
    "\n",
    "for file in all_files:\n",
    "    # We'll just print the filename, not the full path, to keep the log clean\n",
    "    subfolder_name = os.path.basename(os.path.dirname(file))\n",
    "\n",
    "    if subfolder_name != current_subfolder:\n",
    "        current_subfolder = subfolder_name\n",
    "        print(f\"\\n--- Processing subfolder: {current_subfolder}---\")\n",
    "    #print(f\"Processing {os.path.basename(file)}...\")\n",
    "    try:\n",
    "        processed_df = process_quest_file(file)\n",
    "        if processed_df is not None:\n",
    "            list_of_dfs.append(processed_df)\n",
    "    except Exception as e:\n",
    "        print(f\"  -> ERROR processing {os.path.basename(file)}. Error: {e}\")\n",
    "\n",
    "# Combine all the processed data into one master DataFrame\n",
    "if list_of_dfs:\n",
    "    master_df = pd.concat(list_of_dfs, ignore_index=True)\n",
    "\n",
    "    print(\"\\n--- Processing Complete ---\")\n",
    "    print(\"Shape of the final master DataFrame:\", master_df.shape)\n",
    "    \n",
    "    print(\"\\nClass Distribution ('1' is a Tap):\")\n",
    "    # We check if 'KeyPressFlag' exists before trying to access it\n",
    "    if 'KeyPressFlag' in master_df.columns:\n",
    "        print(master_df['KeyPressFlag'].value_counts(normalize=True))\n",
    "    else:\n",
    "        print(\"Column 'KeyPressFlag' not found in the final DataFrame.\")\n",
    "else:\n",
    "    print(\"\\nNo files were processed. Please check your data_folder path and file contents.\")"
   ]
  },
  {
   "cell_type": "code",
   "execution_count": 4,
   "id": "69d4cf21",
   "metadata": {},
   "outputs": [
    {
     "name": "stdout",
     "output_type": "stream",
     "text": [
      "Correct average time between frames (after downsampling): 0.0222 seconds\n",
      "Correct estimated window duration: 2.22 seconds\n"
     ]
    }
   ],
   "source": [
    "# Choose any one of your raw data files\n",
    "single_file_path = 'quest_training_data/ptx_01/0_Master_ptx_01_0deg_6_boxing_n_13_166.80.csv'\n",
    "\n",
    "# Load the raw file\n",
    "df_sample = pd.read_csv(single_file_path, low_memory=False)\n",
    "\n",
    "# Downsample it just like in your script\n",
    "df_sample_downsampled = df_sample.iloc[::4, :].copy()\n",
    "\n",
    "# Calculate the true average time delta on the downsampled data\n",
    "true_avg_delta = df_sample_downsampled['TimeStamp'].diff().mean()\n",
    "\n",
    "# Calculate the true window duration\n",
    "window_size = 100\n",
    "true_window_duration = true_avg_delta * window_size\n",
    "\n",
    "print(f\"Correct average time between frames (after downsampling): {true_avg_delta:.4f} seconds\")\n",
    "print(f\"Correct estimated window duration: {true_window_duration:.2f} seconds\")"
   ]
  },
  {
   "cell_type": "code",
   "execution_count": 5,
   "id": "c9febd91",
   "metadata": {},
   "outputs": [
    {
     "name": "stdout",
     "output_type": "stream",
     "text": [
      " Before windowing: Each window covers ~-0.009 seconds, average delta: -0.000088985 seconds\n",
      "Creating time-series windows...\n",
      "Shape of X_windowed (samples, timesteps, features): (448166, 100, 3)\n",
      "Shape of y_windowed: (448166,)\n",
      "Each window covers ~-0.009 seconds, average delta: -0.000088985 seconds\n"
     ]
    }
   ],
   "source": [
    "import numpy as np\n",
    "import pandas as pd\n",
    "\n",
    "from sklearn.model_selection import train_test_split\n",
    "from sklearn.preprocessing import StandardScaler\n",
    "\n",
    "from sklearn.metrics import confusion_matrix\n",
    "\n",
    "# --- Step 1: Prepare Data for Windowing ---\n",
    "\n",
    "# Define the features you want to use in your model\n",
    "# We'll use position, velocity, and acceleration for the Z-axis (vertical)\n",
    "feature_columns = [\n",
    "    'Meta_R_Index_Distal_GLOBAL_Z',\n",
    "    'vel_z',\n",
    "    'accel_z'\n",
    "]\n",
    "\n",
    "# Create the final array with the label in the FIRST column\n",
    "# This is the format the windowing function expects\n",
    "timeseries_data = master_df[['KeyPressFlag'] + feature_columns].to_numpy()\n",
    "\n",
    "window_size = 100\n",
    "avg_delta = master_df['TimeStamp'].diff().mean()\n",
    "window_duration = avg_delta * window_size\n",
    "print(f\" Before windowing: Each window covers ~{window_duration:.3f} seconds, average delta: {avg_delta:.9f} seconds\")\n",
    "\n",
    "# --- Step 2: Create Time-Series Windows ---\n",
    "\n",
    "def make_timeseries_instances(time_series, window_size):\n",
    "    \"\"\"Chops the data into overlapping windows.\"\"\"\n",
    "    X = []\n",
    "    y = []\n",
    "    for i in range(window_size, time_series.shape[0]):\n",
    "        # The window is the sequence of features from the past\n",
    "        X.append(time_series[i-window_size:i, 1:])\n",
    "        # The label is the KeyPressFlag at the end of the window\n",
    "        y.append(time_series[i, 0])\n",
    "    return np.array(X), np.array(y).astype(int)\n",
    "\n",
    "# Define how many past frames the model should see\n",
    "window_size = 100\n",
    "\n",
    "print(\"Creating time-series windows...\")\n",
    "X_windowed, y_windowed = make_timeseries_instances(timeseries_data, window_size)\n",
    "print(\"Shape of X_windowed (samples, timesteps, features):\", X_windowed.shape)\n",
    "print(\"Shape of y_windowed:\", y_windowed.shape)\n",
    "\n",
    "\n",
    "# --- Step 3: Split and Scale the Data ---\n",
    "\n",
    "# Stratified split is crucial for imbalanced data\n",
    "X_train, X_test, y_train, y_test = train_test_split(\n",
    "    X_windowed, y_windowed, test_size=0.2, random_state=42, stratify=y_windowed\n",
    ")\n",
    "\n",
    "# Feature Scaling: Neural networks work best when input values are small.\n",
    "# We need to reshape the 3D data to 2D to scale it, then reshape back.\n",
    "scaler = StandardScaler()\n",
    "X_train_scaled = scaler.fit_transform(X_train.reshape(-1, X_train.shape[-1])).reshape(X_train.shape)\n",
    "X_test_scaled = scaler.transform(X_test.reshape(-1, X_test.shape[-1])).reshape(X_test.shape)\n",
    "\n",
    "avg_delta = master_df['TimeStamp'].diff().mean()\n",
    "window_duration = avg_delta * window_size\n",
    "print(f\"Each window covers ~{window_duration:.3f} seconds, average delta: {avg_delta:.9f} seconds\")\n"
   ]
  },
  {
   "cell_type": "code",
   "execution_count": null,
   "id": "fee0d784",
   "metadata": {},
   "outputs": [],
   "source": []
  },
  {
   "cell_type": "code",
   "execution_count": 7,
   "id": "0017235c",
   "metadata": {},
   "outputs": [
    {
     "name": "stdout",
     "output_type": "stream",
     "text": [
      "\n",
      "Building the LSTM model...\n"
     ]
    },
    {
     "name": "stderr",
     "output_type": "stream",
     "text": [
      "/data/transient/ahmedszz/miniconda3/envs/tf/lib/python3.12/site-packages/keras/src/layers/rnn/rnn.py:199: UserWarning: Do not pass an `input_shape`/`input_dim` argument to a layer. When using Sequential models, prefer using an `Input(shape)` object as the first layer in the model instead.\n",
      "  super().__init__(**kwargs)\n"
     ]
    },
    {
     "data": {
      "text/html": [
       "<pre style=\"white-space:pre;overflow-x:auto;line-height:normal;font-family:Menlo,'DejaVu Sans Mono',consolas,'Courier New',monospace\"><span style=\"font-weight: bold\">Model: \"sequential_1\"</span>\n",
       "</pre>\n"
      ],
      "text/plain": [
       "\u001b[1mModel: \"sequential_1\"\u001b[0m\n"
      ]
     },
     "metadata": {},
     "output_type": "display_data"
    },
    {
     "data": {
      "text/html": [
       "<pre style=\"white-space:pre;overflow-x:auto;line-height:normal;font-family:Menlo,'DejaVu Sans Mono',consolas,'Courier New',monospace\">┏━━━━━━━━━━━━━━━━━━━━━━━━━━━━━━━━━┳━━━━━━━━━━━━━━━━━━━━━━━━┳━━━━━━━━━━━━━━━┓\n",
       "┃<span style=\"font-weight: bold\"> Layer (type)                    </span>┃<span style=\"font-weight: bold\"> Output Shape           </span>┃<span style=\"font-weight: bold\">       Param # </span>┃\n",
       "┡━━━━━━━━━━━━━━━━━━━━━━━━━━━━━━━━━╇━━━━━━━━━━━━━━━━━━━━━━━━╇━━━━━━━━━━━━━━━┩\n",
       "│ lstm (<span style=\"color: #0087ff; text-decoration-color: #0087ff\">LSTM</span>)                     │ (<span style=\"color: #00d7ff; text-decoration-color: #00d7ff\">None</span>, <span style=\"color: #00af00; text-decoration-color: #00af00\">64</span>)             │        <span style=\"color: #00af00; text-decoration-color: #00af00\">17,408</span> │\n",
       "├─────────────────────────────────┼────────────────────────┼───────────────┤\n",
       "│ dropout_1 (<span style=\"color: #0087ff; text-decoration-color: #0087ff\">Dropout</span>)             │ (<span style=\"color: #00d7ff; text-decoration-color: #00d7ff\">None</span>, <span style=\"color: #00af00; text-decoration-color: #00af00\">64</span>)             │             <span style=\"color: #00af00; text-decoration-color: #00af00\">0</span> │\n",
       "├─────────────────────────────────┼────────────────────────┼───────────────┤\n",
       "│ dense_1 (<span style=\"color: #0087ff; text-decoration-color: #0087ff\">Dense</span>)                 │ (<span style=\"color: #00d7ff; text-decoration-color: #00d7ff\">None</span>, <span style=\"color: #00af00; text-decoration-color: #00af00\">1</span>)              │            <span style=\"color: #00af00; text-decoration-color: #00af00\">65</span> │\n",
       "└─────────────────────────────────┴────────────────────────┴───────────────┘\n",
       "</pre>\n"
      ],
      "text/plain": [
       "┏━━━━━━━━━━━━━━━━━━━━━━━━━━━━━━━━━┳━━━━━━━━━━━━━━━━━━━━━━━━┳━━━━━━━━━━━━━━━┓\n",
       "┃\u001b[1m \u001b[0m\u001b[1mLayer (type)                   \u001b[0m\u001b[1m \u001b[0m┃\u001b[1m \u001b[0m\u001b[1mOutput Shape          \u001b[0m\u001b[1m \u001b[0m┃\u001b[1m \u001b[0m\u001b[1m      Param #\u001b[0m\u001b[1m \u001b[0m┃\n",
       "┡━━━━━━━━━━━━━━━━━━━━━━━━━━━━━━━━━╇━━━━━━━━━━━━━━━━━━━━━━━━╇━━━━━━━━━━━━━━━┩\n",
       "│ lstm (\u001b[38;5;33mLSTM\u001b[0m)                     │ (\u001b[38;5;45mNone\u001b[0m, \u001b[38;5;34m64\u001b[0m)             │        \u001b[38;5;34m17,408\u001b[0m │\n",
       "├─────────────────────────────────┼────────────────────────┼───────────────┤\n",
       "│ dropout_1 (\u001b[38;5;33mDropout\u001b[0m)             │ (\u001b[38;5;45mNone\u001b[0m, \u001b[38;5;34m64\u001b[0m)             │             \u001b[38;5;34m0\u001b[0m │\n",
       "├─────────────────────────────────┼────────────────────────┼───────────────┤\n",
       "│ dense_1 (\u001b[38;5;33mDense\u001b[0m)                 │ (\u001b[38;5;45mNone\u001b[0m, \u001b[38;5;34m1\u001b[0m)              │            \u001b[38;5;34m65\u001b[0m │\n",
       "└─────────────────────────────────┴────────────────────────┴───────────────┘\n"
      ]
     },
     "metadata": {},
     "output_type": "display_data"
    },
    {
     "data": {
      "text/html": [
       "<pre style=\"white-space:pre;overflow-x:auto;line-height:normal;font-family:Menlo,'DejaVu Sans Mono',consolas,'Courier New',monospace\"><span style=\"font-weight: bold\"> Total params: </span><span style=\"color: #00af00; text-decoration-color: #00af00\">17,473</span> (68.25 KB)\n",
       "</pre>\n"
      ],
      "text/plain": [
       "\u001b[1m Total params: \u001b[0m\u001b[38;5;34m17,473\u001b[0m (68.25 KB)\n"
      ]
     },
     "metadata": {},
     "output_type": "display_data"
    },
    {
     "data": {
      "text/html": [
       "<pre style=\"white-space:pre;overflow-x:auto;line-height:normal;font-family:Menlo,'DejaVu Sans Mono',consolas,'Courier New',monospace\"><span style=\"font-weight: bold\"> Trainable params: </span><span style=\"color: #00af00; text-decoration-color: #00af00\">17,473</span> (68.25 KB)\n",
       "</pre>\n"
      ],
      "text/plain": [
       "\u001b[1m Trainable params: \u001b[0m\u001b[38;5;34m17,473\u001b[0m (68.25 KB)\n"
      ]
     },
     "metadata": {},
     "output_type": "display_data"
    },
    {
     "data": {
      "text/html": [
       "<pre style=\"white-space:pre;overflow-x:auto;line-height:normal;font-family:Menlo,'DejaVu Sans Mono',consolas,'Courier New',monospace\"><span style=\"font-weight: bold\"> Non-trainable params: </span><span style=\"color: #00af00; text-decoration-color: #00af00\">0</span> (0.00 B)\n",
       "</pre>\n"
      ],
      "text/plain": [
       "\u001b[1m Non-trainable params: \u001b[0m\u001b[38;5;34m0\u001b[0m (0.00 B)\n"
      ]
     },
     "metadata": {},
     "output_type": "display_data"
    },
    {
     "name": "stdout",
     "output_type": "stream",
     "text": [
      "\n",
      "Training the LSTM model... (This may take a long time)\n",
      "Epoch 1/25\n"
     ]
    },
    {
     "name": "stderr",
     "output_type": "stream",
     "text": [
      "2025-08-03 19:36:18.028143: W external/local_xla/xla/tsl/framework/cpu_allocator_impl.cc:83] Allocation of 344190000 exceeds 10% of free system memory.\n"
     ]
    },
    {
     "name": "stdout",
     "output_type": "stream",
     "text": [
      "\u001b[1m1121/1121\u001b[0m \u001b[32m━━━━━━━━━━━━━━━━━━━━\u001b[0m\u001b[37m\u001b[0m \u001b[1m69s\u001b[0m 51ms/step - accuracy: 0.5589 - loss: 0.6838 - val_accuracy: 0.5774 - val_loss: 0.6752\n",
      "Epoch 2/25\n",
      "\u001b[1m1121/1121\u001b[0m \u001b[32m━━━━━━━━━━━━━━━━━━━━\u001b[0m\u001b[37m\u001b[0m \u001b[1m59s\u001b[0m 52ms/step - accuracy: 0.5811 - loss: 0.6731 - val_accuracy: 0.5847 - val_loss: 0.6700\n",
      "Epoch 3/25\n",
      "\u001b[1m1121/1121\u001b[0m \u001b[32m━━━━━━━━━━━━━━━━━━━━\u001b[0m\u001b[37m\u001b[0m \u001b[1m59s\u001b[0m 52ms/step - accuracy: 0.5866 - loss: 0.6684 - val_accuracy: 0.5884 - val_loss: 0.6667\n",
      "Epoch 4/25\n",
      "\u001b[1m1121/1121\u001b[0m \u001b[32m━━━━━━━━━━━━━━━━━━━━\u001b[0m\u001b[37m\u001b[0m \u001b[1m58s\u001b[0m 52ms/step - accuracy: 0.5889 - loss: 0.6664 - val_accuracy: 0.5946 - val_loss: 0.6624\n",
      "Epoch 5/25\n",
      "\u001b[1m1121/1121\u001b[0m \u001b[32m━━━━━━━━━━━━━━━━━━━━\u001b[0m\u001b[37m\u001b[0m \u001b[1m59s\u001b[0m 52ms/step - accuracy: 0.5940 - loss: 0.6627 - val_accuracy: 0.5946 - val_loss: 0.6619\n",
      "Epoch 6/25\n",
      "\u001b[1m1121/1121\u001b[0m \u001b[32m━━━━━━━━━━━━━━━━━━━━\u001b[0m\u001b[37m\u001b[0m \u001b[1m59s\u001b[0m 52ms/step - accuracy: 0.5990 - loss: 0.6596 - val_accuracy: 0.6025 - val_loss: 0.6558\n",
      "Epoch 7/25\n",
      "\u001b[1m1121/1121\u001b[0m \u001b[32m━━━━━━━━━━━━━━━━━━━━\u001b[0m\u001b[37m\u001b[0m \u001b[1m59s\u001b[0m 52ms/step - accuracy: 0.6034 - loss: 0.6556 - val_accuracy: 0.5990 - val_loss: 0.6570\n",
      "Epoch 8/25\n",
      "\u001b[1m1121/1121\u001b[0m \u001b[32m━━━━━━━━━━━━━━━━━━━━\u001b[0m\u001b[37m\u001b[0m \u001b[1m60s\u001b[0m 53ms/step - accuracy: 0.6061 - loss: 0.6526 - val_accuracy: 0.6082 - val_loss: 0.6497\n",
      "Epoch 9/25\n",
      "\u001b[1m1121/1121\u001b[0m \u001b[32m━━━━━━━━━━━━━━━━━━━━\u001b[0m\u001b[37m\u001b[0m \u001b[1m59s\u001b[0m 53ms/step - accuracy: 0.6111 - loss: 0.6474 - val_accuracy: 0.6149 - val_loss: 0.6444\n",
      "Epoch 10/25\n",
      "\u001b[1m1121/1121\u001b[0m \u001b[32m━━━━━━━━━━━━━━━━━━━━\u001b[0m\u001b[37m\u001b[0m \u001b[1m60s\u001b[0m 54ms/step - accuracy: 0.6120 - loss: 0.6473 - val_accuracy: 0.6177 - val_loss: 0.6414\n",
      "Epoch 11/25\n",
      "\u001b[1m1121/1121\u001b[0m \u001b[32m━━━━━━━━━━━━━━━━━━━━\u001b[0m\u001b[37m\u001b[0m \u001b[1m59s\u001b[0m 53ms/step - accuracy: 0.6158 - loss: 0.6427 - val_accuracy: 0.6128 - val_loss: 0.6481\n",
      "Epoch 12/25\n",
      "\u001b[1m1121/1121\u001b[0m \u001b[32m━━━━━━━━━━━━━━━━━━━━\u001b[0m\u001b[37m\u001b[0m \u001b[1m60s\u001b[0m 54ms/step - accuracy: 0.6178 - loss: 0.6426 - val_accuracy: 0.6202 - val_loss: 0.6367\n",
      "Epoch 13/25\n",
      "\u001b[1m1121/1121\u001b[0m \u001b[32m━━━━━━━━━━━━━━━━━━━━\u001b[0m\u001b[37m\u001b[0m \u001b[1m60s\u001b[0m 53ms/step - accuracy: 0.6240 - loss: 0.6357 - val_accuracy: 0.6301 - val_loss: 0.6294\n",
      "Epoch 14/25\n",
      "\u001b[1m1121/1121\u001b[0m \u001b[32m━━━━━━━━━━━━━━━━━━━━\u001b[0m\u001b[37m\u001b[0m \u001b[1m60s\u001b[0m 54ms/step - accuracy: 0.6276 - loss: 0.6337 - val_accuracy: 0.6322 - val_loss: 0.6257\n",
      "Epoch 15/25\n",
      "\u001b[1m1121/1121\u001b[0m \u001b[32m━━━━━━━━━━━━━━━━━━━━\u001b[0m\u001b[37m\u001b[0m \u001b[1m60s\u001b[0m 54ms/step - accuracy: 0.6335 - loss: 0.6277 - val_accuracy: 0.6349 - val_loss: 0.6248\n",
      "Epoch 16/25\n",
      "\u001b[1m1121/1121\u001b[0m \u001b[32m━━━━━━━━━━━━━━━━━━━━\u001b[0m\u001b[37m\u001b[0m \u001b[1m60s\u001b[0m 54ms/step - accuracy: 0.6366 - loss: 0.6231 - val_accuracy: 0.6404 - val_loss: 0.6188\n",
      "Epoch 17/25\n",
      "\u001b[1m1121/1121\u001b[0m \u001b[32m━━━━━━━━━━━━━━━━━━━━\u001b[0m\u001b[37m\u001b[0m \u001b[1m60s\u001b[0m 53ms/step - accuracy: 0.6357 - loss: 0.6252 - val_accuracy: 0.6377 - val_loss: 0.6210\n",
      "Epoch 18/25\n",
      "\u001b[1m1121/1121\u001b[0m \u001b[32m━━━━━━━━━━━━━━━━━━━━\u001b[0m\u001b[37m\u001b[0m \u001b[1m60s\u001b[0m 53ms/step - accuracy: 0.6412 - loss: 0.6190 - val_accuracy: 0.6426 - val_loss: 0.6160\n",
      "Epoch 19/25\n",
      "\u001b[1m1121/1121\u001b[0m \u001b[32m━━━━━━━━━━━━━━━━━━━━\u001b[0m\u001b[37m\u001b[0m \u001b[1m60s\u001b[0m 54ms/step - accuracy: 0.6439 - loss: 0.6172 - val_accuracy: 0.6516 - val_loss: 0.6075\n",
      "Epoch 20/25\n",
      "\u001b[1m1121/1121\u001b[0m \u001b[32m━━━━━━━━━━━━━━━━━━━━\u001b[0m\u001b[37m\u001b[0m \u001b[1m61s\u001b[0m 54ms/step - accuracy: 0.6507 - loss: 0.6104 - val_accuracy: 0.6426 - val_loss: 0.6187\n",
      "Epoch 21/25\n",
      "\u001b[1m1121/1121\u001b[0m \u001b[32m━━━━━━━━━━━━━━━━━━━━\u001b[0m\u001b[37m\u001b[0m \u001b[1m60s\u001b[0m 53ms/step - accuracy: 0.6495 - loss: 0.6111 - val_accuracy: 0.6558 - val_loss: 0.6008\n",
      "Epoch 22/25\n",
      "\u001b[1m1121/1121\u001b[0m \u001b[32m━━━━━━━━━━━━━━━━━━━━\u001b[0m\u001b[37m\u001b[0m \u001b[1m60s\u001b[0m 54ms/step - accuracy: 0.6557 - loss: 0.6030 - val_accuracy: 0.6591 - val_loss: 0.5969\n",
      "Epoch 23/25\n",
      "\u001b[1m1121/1121\u001b[0m \u001b[32m━━━━━━━━━━━━━━━━━━━━\u001b[0m\u001b[37m\u001b[0m \u001b[1m60s\u001b[0m 54ms/step - accuracy: 0.6595 - loss: 0.5994 - val_accuracy: 0.6621 - val_loss: 0.5957\n",
      "Epoch 24/25\n",
      "\u001b[1m1121/1121\u001b[0m \u001b[32m━━━━━━━━━━━━━━━━━━━━\u001b[0m\u001b[37m\u001b[0m \u001b[1m60s\u001b[0m 53ms/step - accuracy: 0.6635 - loss: 0.5969 - val_accuracy: 0.6621 - val_loss: 0.5930\n",
      "Epoch 25/25\n",
      "\u001b[1m1121/1121\u001b[0m \u001b[32m━━━━━━━━━━━━━━━━━━━━\u001b[0m\u001b[37m\u001b[0m \u001b[1m60s\u001b[0m 53ms/step - accuracy: 0.6662 - loss: 0.5918 - val_accuracy: 0.6643 - val_loss: 0.5949\n",
      "\n",
      "Evaluating the final model on the test set...\n"
     ]
    },
    {
     "name": "stderr",
     "output_type": "stream",
     "text": [
      "2025-08-03 20:01:18.549313: W external/local_xla/xla/tsl/framework/cpu_allocator_impl.cc:83] Allocation of 107560800 exceeds 10% of free system memory.\n"
     ]
    },
    {
     "name": "stdout",
     "output_type": "stream",
     "text": [
      "\u001b[1m2802/2802\u001b[0m \u001b[32m━━━━━━━━━━━━━━━━━━━━\u001b[0m\u001b[37m\u001b[0m \u001b[1m17s\u001b[0m 5ms/step\n",
      "\n",
      "Final LSTM Model Confusion Matrix:\n",
      "[[32414 13527]\n",
      " [16465 27228]]\n"
     ]
    }
   ],
   "source": [
    "from tensorflow.keras.models import Sequential\n",
    "from tensorflow.keras.layers import LSTM, Dense, Dropout\n",
    "from tensorflow.keras.callbacks import EarlyStopping\n",
    "\n",
    "# --- Step 4: Build and Train the LSTM Model ---\n",
    "\n",
    "print(\"\\nBuilding the LSTM model...\")\n",
    "model = Sequential([\n",
    "    # The LSTM layer processes the sequence. input_shape is (window_size, num_features)\n",
    "    LSTM(64, input_shape=(X_train_scaled.shape[1], X_train_scaled.shape[2]), unroll=True, name=\"lstm\"),\n",
    "    Dropout(0.5), # Dropout helps prevent overfitting\n",
    "    # The final Dense layer gives a single output (tap or no-tap)\n",
    "    Dense(1, activation='sigmoid') \n",
    "])\n",
    "\n",
    "# Compile the model\n",
    "model.compile(optimizer='adam', loss='binary_crossentropy', metrics=['accuracy'])\n",
    "model.summary()\n",
    "\n",
    "# To handle the class imbalance, we calculate class weights\n",
    "# This penalizes the model more for missing the rare 'tap' events\n",
    "from sklearn.utils import class_weight\n",
    "weights = class_weight.compute_class_weight('balanced', classes=np.unique(y_train), y=y_train)\n",
    "class_weights = {i : weights[i] for i in range(len(weights))}\n",
    "\n",
    "print(\"\\nTraining the LSTM model... (This may take a long time)\")\n",
    "# EarlyStopping will stop training if the model isn't improving\n",
    "early_stopping = EarlyStopping(monitor='val_loss', patience=3, restore_best_weights=True)\n",
    "\n",
    "history = model.fit(\n",
    "    X_train_scaled,\n",
    "    y_train,\n",
    "    epochs=25,\n",
    "    batch_size=256,\n",
    "    validation_split=0.2, # Use part of the training data for validation\n",
    "    class_weight=class_weights,\n",
    "    callbacks=[early_stopping]\n",
    ")\n",
    "\n",
    "\n",
    "# --- Step 5: Evaluate the Final Model ---\n",
    "\n",
    "print(\"\\nEvaluating the final model on the test set...\")\n",
    "# We predict probabilities and use a threshold of 0.5 to get 0s and 1s\n",
    "y_pred_probs = model.predict(X_test_scaled)\n",
    "y_pred = (y_pred_probs > 0.5).astype(int)\n",
    "\n",
    "print(\"\\nFinal LSTM Model Confusion Matrix:\")\n",
    "print(confusion_matrix(y_test, y_pred))"
   ]
  },
  {
   "cell_type": "code",
   "execution_count": 9,
   "id": "40e09c34",
   "metadata": {},
   "outputs": [],
   "source": [
    "model.save('ltsm_tap_detector_25ep.keras')  # Save the model for later use"
   ]
  },
  {
   "cell_type": "code",
   "execution_count": 10,
   "id": "3bed1b6f",
   "metadata": {},
   "outputs": [
    {
     "name": "stdout",
     "output_type": "stream",
     "text": [
      "INFO:tensorflow:Assets written to: ltsm_tap_detector_25_exported/assets\n"
     ]
    },
    {
     "name": "stderr",
     "output_type": "stream",
     "text": [
      "INFO:tensorflow:Assets written to: ltsm_tap_detector_25_exported/assets\n"
     ]
    },
    {
     "name": "stdout",
     "output_type": "stream",
     "text": [
      "Saved artifact at 'ltsm_tap_detector_25_exported'. The following endpoints are available:\n",
      "\n",
      "* Endpoint 'serve'\n",
      "  args_0 (POSITIONAL_ONLY): TensorSpec(shape=(None, 100, 3), dtype=tf.float32, name='input_layer_1')\n",
      "Output Type:\n",
      "  TensorSpec(shape=(None, 1), dtype=tf.float32, name=None)\n",
      "Captures:\n",
      "  140005534537616: TensorSpec(shape=(), dtype=tf.resource, name=None)\n",
      "  140005534538384: TensorSpec(shape=(), dtype=tf.resource, name=None)\n",
      "  140005534539536: TensorSpec(shape=(), dtype=tf.resource, name=None)\n",
      "  140005534538768: TensorSpec(shape=(), dtype=tf.resource, name=None)\n",
      "  140005534539728: TensorSpec(shape=(), dtype=tf.resource, name=None)\n"
     ]
    }
   ],
   "source": [
    "import tensorflow as tf\n",
    "\n",
    "# Load trained model\n",
    "model = tf.keras.models.load_model('ltsm_tap_detector_25ep.keras')\n",
    "\n",
    "# Export it to a new directory\n",
    "model.export('ltsm_tap_detector_25_exported')"
   ]
  },
  {
   "cell_type": "code",
   "execution_count": 11,
   "id": "e8bc25f2",
   "metadata": {},
   "outputs": [
    {
     "name": "stdout",
     "output_type": "stream",
     "text": [
      "Recovered input shape: (100, 3)\n"
     ]
    },
    {
     "name": "stderr",
     "output_type": "stream",
     "text": [
      "/data/transient/ahmedszz/miniconda3/envs/tf/lib/python3.12/site-packages/keras/src/layers/rnn/rnn.py:199: UserWarning: Do not pass an `input_shape`/`input_dim` argument to a layer. When using Sequential models, prefer using an `Input(shape)` object as the first layer in the model instead.\n",
      "  super().__init__(**kwargs)\n"
     ]
    }
   ],
   "source": [
    "from tensorflow.keras.models import Sequential\n",
    "from tensorflow.keras.layers import LSTM, Dense, Dropout\n",
    "\n",
    "input_shape = model.input_shape[1:]  \n",
    "print(\"Recovered input shape:\", input_shape)\n",
    "\n",
    "new_model = Sequential([\n",
    "    LSTM(64, input_shape=input_shape, unroll=True, name=\"lstm\"),\n",
    "    Dropout(0.5, name=\"dropout\"),\n",
    "    Dense(1, activation='sigmoid', name=\"dense\")\n",
    "])\n",
    "\n",
    "new_model.compile(optimizer='adam', loss='binary_crossentropy', metrics=['accuracy'])"
   ]
  },
  {
   "cell_type": "code",
   "execution_count": 12,
   "id": "c24fdb13",
   "metadata": {},
   "outputs": [
    {
     "name": "stdout",
     "output_type": "stream",
     "text": [
      "Transferred weights for lstm\n",
      "Transferred weights for dropout_1\n",
      "Transferred weights for dense_1\n"
     ]
    }
   ],
   "source": [
    "for old_layer, new_layer in zip(model.layers, new_model.layers):\n",
    "    try:\n",
    "        new_layer.set_weights(old_layer.get_weights())\n",
    "        print(f\"Transferred weights for {old_layer.name}\")\n",
    "    except ValueError:\n",
    "        print(f\"Skipped {old_layer.name} (shape mismatch)\")"
   ]
  },
  {
   "cell_type": "code",
   "execution_count": null,
   "id": "52e79343",
   "metadata": {},
   "outputs": [],
   "source": [
    "export_path = \"/data/transient/ahmedszz/Documents/vr_text_entry_models/vr_text_entry/typing_classifier/ltsm_tap_detector_unrolled_25.keras\"\n",
    "new_model.save(export_path)\n",
    "\n",
    "\n",
    "# Load trained model\n",
    "model = tf.keras.models.load_model('ltsm_tap_detector_unrolled_25.keras')\n",
    "\n",
    "# Export it to a new directory\n",
    "model.export('ltsm_tap_detector_unrolled_25_exported')"
   ]
  },
  {
   "cell_type": "code",
   "execution_count": null,
   "id": "531d967a",
   "metadata": {},
   "outputs": [],
   "source": [
    "import onnx\n",
    "import onnxruntime as ort\n",
    "import numpy as np\n",
    "\n",
    "# 1. Load the ONNX model\n",
    "onnx_model_path = \"/data/transient/ahmedszz/Documents/vr_text_entry_models/vr_text_entry/typing_classifier/ltsm_tap_detector.onnx\"\n",
    "model = onnx.load(onnx_model_path)\n",
    "\n",
    "# 2. Check model structure\n",
    "onnx.checker.check_model(model)\n",
    "print(\"✅ Model is structurally valid ONNX\")\n",
    "\n",
    "# 3. Create an ONNX Runtime session\n",
    "session = ort.InferenceSession(onnx_model_path)\n",
    "\n",
    "# Print model I/O info\n",
    "print(\"Inputs:\", [(i.name, i.shape, i.type) for i in session.get_inputs()])\n",
    "print(\"Outputs:\", [(o.name, o.shape, o.type) for o in session.get_outputs()])\n",
    "\n",
    "# 4. Run a dummy inference\n",
    "# Example input shape: (1, 100, 3) -> batch of 1, 100 timesteps, 3 features\n",
    "dummy_input = np.random.rand(1, 100, 3).astype(np.float32)\n",
    "\n",
    "# Feed into the session\n",
    "input_name = session.get_inputs()[0].name\n",
    "output_name = session.get_outputs()[0].name\n",
    "\n",
    "result = session.run([output_name], {input_name: dummy_input})\n",
    "print(\"Dummy inference output:\", result)"
   ]
  }
 ],
 "metadata": {
  "kernelspec": {
   "display_name": "tf",
   "language": "python",
   "name": "python3"
  },
  "language_info": {
   "codemirror_mode": {
    "name": "ipython",
    "version": 3
   },
   "file_extension": ".py",
   "mimetype": "text/x-python",
   "name": "python",
   "nbconvert_exporter": "python",
   "pygments_lexer": "ipython3",
   "version": "3.12.11"
  }
 },
 "nbformat": 4,
 "nbformat_minor": 5
}

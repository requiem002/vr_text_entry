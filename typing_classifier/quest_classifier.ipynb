{
 "cells": [
  {
   "cell_type": "markdown",
   "id": "cbe278b3",
   "metadata": {},
   "source": []
  },
  {
   "cell_type": "code",
   "execution_count": null,
   "id": "6764e3d7",
   "metadata": {},
   "outputs": [],
   "source": [
    "data_folder = \"quest_training_data/\""
   ]
  },
  {
   "cell_type": "code",
   "execution_count": null,
   "id": "3909ede2",
   "metadata": {},
   "outputs": [],
   "source": [
    "import tensorflow as tf\n",
    "print(\"GPUs available:\", tf.config.list_physical_devices('GPU'))"
   ]
  },
  {
   "cell_type": "code",
   "execution_count": 4,
   "id": "abcb4a33",
   "metadata": {},
   "outputs": [
    {
     "name": "stdout",
     "output_type": "stream",
     "text": [
      "Found 3470 files to process...\n",
      "\n",
      "--- Processing subfolder: ptx_05---\n",
      "  -> ERROR processing 31_Master_ptx_05_0deg_46_jumping_u_1_763.63.csv. Error: unsupported operand type(s) for -: 'str' and 'str'\n",
      "\n",
      "--- Processing subfolder: ptx_06---\n",
      "\n",
      "--- Processing subfolder: ptx_03---\n",
      "\n",
      "--- Processing subfolder: ptx_01---\n",
      "\n",
      "--- Processing subfolder: ptx_999---\n",
      "\n",
      "--- Processing Complete ---\n",
      "Shape of the final master DataFrame: (186588, 11)\n",
      "\n",
      "Class Distribution ('1' is a Tap):\n",
      "KeyPressFlag\n",
      "1    0.505225\n",
      "0    0.494775\n",
      "Name: proportion, dtype: float64\n"
     ]
    }
   ],
   "source": [
    "import pandas as pd\n",
    "import numpy as np\n",
    "import os\n",
    "import glob # Library for finding files that match a pattern\n",
    "\n",
    "def process_quest_file(file_path):\n",
    "    \"\"\"\n",
    "    Loads a single data file, downsamples it, and calculates\n",
    "    velocity and acceleration features.\n",
    "    \"\"\"\n",
    "    # low_memory=False helps prevent data type warnings\n",
    "    df = pd.read_csv(file_path, low_memory=False)\n",
    "    \n",
    "    # Downsample by a factor of 4 to speed up processing\n",
    "    df = df.iloc[::2, :].copy()\n",
    "\n",
    "    feature_cols = [\n",
    "        'TimeStamp',\n",
    "        'Meta_R_Index_Distal_GLOBAL_X',\n",
    "        'Meta_R_Index_Distal_GLOBAL_Y',\n",
    "        'Meta_R_Index_Distal_GLOBAL_Z'\n",
    "    ]\n",
    "    label_col = 'KeyPressFlag'\n",
    "    \n",
    "    # It's safer to check if columns exist before using them\n",
    "    required_cols = feature_cols + [label_col]\n",
    "    if not all(col in df.columns for col in required_cols):\n",
    "        print(f\"  -> Skipping {os.path.basename(file_path)}: missing required columns.\")\n",
    "        return None # Return nothing if a file is missing columns\n",
    "        \n",
    "    processed_df = df[required_cols].copy()\n",
    "    \n",
    "    delta_time = processed_df['TimeStamp'].diff()\n",
    "    \n",
    "    # Calculate Velocity\n",
    "    processed_df['vel_x'] = processed_df['Meta_R_Index_Distal_GLOBAL_X'].diff() / delta_time\n",
    "    processed_df['vel_y'] = processed_df['Meta_R_Index_Distal_GLOBAL_Y'].diff() / delta_time\n",
    "    processed_df['vel_z'] = processed_df['Meta_R_Index_Distal_GLOBAL_Z'].diff() / delta_time\n",
    "    \n",
    "    # Calculate Acceleration\n",
    "    processed_df['accel_x'] = processed_df['vel_x'].diff() / delta_time\n",
    "    processed_df['accel_y'] = processed_df['vel_y'].diff() / delta_time\n",
    "    processed_df['accel_z'] = processed_df['vel_z'].diff() / delta_time\n",
    "    \n",
    "    processed_df.dropna(inplace=True)\n",
    "    \n",
    "    return processed_df\n",
    "\n",
    "\n",
    "\n",
    "\n",
    "# Use glob to find all .csv files recursively\n",
    "# The '**' tells glob to search in all subdirectories\n",
    "search_pattern = os.path.join(data_folder, '**', '*.csv')\n",
    "\n",
    "\n",
    "all_files = glob.glob(search_pattern, recursive=True)\n",
    "\n",
    "all_files = [f for f in all_files if \"_0deg_\" in os.path.basename(f)]\n",
    "\n",
    "\n",
    "# A list to hold the processed data from each file\n",
    "list_of_dfs = []\n",
    "\n",
    "print(f\"Found {len(all_files)} files to process...\")\n",
    "\n",
    "current_subfolder = None\n",
    "\n",
    "for file in all_files:\n",
    "    # We'll just print the filename, not the full path, to keep the log clean\n",
    "    subfolder_name = os.path.basename(os.path.dirname(file))\n",
    "\n",
    "    if subfolder_name != current_subfolder:\n",
    "        current_subfolder = subfolder_name\n",
    "        print(f\"\\n--- Processing subfolder: {current_subfolder}---\")\n",
    "    #print(f\"Processing {os.path.basename(file)}...\")\n",
    "    try:\n",
    "        processed_df = process_quest_file(file)\n",
    "        if processed_df is not None:\n",
    "            list_of_dfs.append(processed_df)\n",
    "    except Exception as e:\n",
    "        print(f\"  -> ERROR processing {os.path.basename(file)}. Error: {e}\")\n",
    "\n",
    "# Combine all the processed data into one master DataFrame\n",
    "if list_of_dfs:\n",
    "    master_df = pd.concat(list_of_dfs, ignore_index=True)\n",
    "\n",
    "    print(\"\\n--- Processing Complete ---\")\n",
    "    print(\"Shape of the final master DataFrame:\", master_df.shape)\n",
    "    \n",
    "    print(\"\\nClass Distribution ('1' is a Tap):\")\n",
    "    # We check if 'KeyPressFlag' exists before trying to access it\n",
    "    if 'KeyPressFlag' in master_df.columns:\n",
    "        print(master_df['KeyPressFlag'].value_counts(normalize=True))\n",
    "    else:\n",
    "        print(\"Column 'KeyPressFlag' not found in the final DataFrame.\")\n",
    "else:\n",
    "    print(\"\\nNo files were processed. Please check your data_folder path and file contents.\")"
   ]
  },
  {
   "cell_type": "code",
   "execution_count": 5,
   "id": "69d4cf21",
   "metadata": {},
   "outputs": [
    {
     "name": "stdout",
     "output_type": "stream",
     "text": [
      "Correct average time between frames (after downsampling): 0.0222 seconds\n",
      "Correct estimated window duration: 2.22 seconds\n"
     ]
    }
   ],
   "source": [
    "# Choose any one of your raw data files\n",
    "single_file_path = 'quest_training_data/ptx_01/0_Master_ptx_01_0deg_6_boxing_n_13_166.80.csv'\n",
    "\n",
    "# Load the raw file\n",
    "df_sample = pd.read_csv(single_file_path, low_memory=False)\n",
    "\n",
    "# Downsample it just like in your script\n",
    "df_sample_downsampled = df_sample.iloc[::4, :].copy()\n",
    "\n",
    "# Calculate the true average time delta on the downsampled data\n",
    "true_avg_delta = df_sample_downsampled['TimeStamp'].diff().mean()\n",
    "\n",
    "# Calculate the true window duration\n",
    "window_size = 100\n",
    "true_window_duration = true_avg_delta * window_size\n",
    "\n",
    "print(f\"Correct average time between frames (after downsampling): {true_avg_delta:.4f} seconds\")\n",
    "print(f\"Correct estimated window duration: {true_window_duration:.2f} seconds\")"
   ]
  },
  {
   "cell_type": "code",
   "execution_count": 6,
   "id": "c9febd91",
   "metadata": {},
   "outputs": [
    {
     "name": "stdout",
     "output_type": "stream",
     "text": [
      " Before windowing: Each window covers ~-0.448 seconds, average delta: -0.004480305 seconds\n",
      "Creating time-series windows...\n",
      "Shape of X_windowed (samples, timesteps, features): (186488, 100, 3)\n",
      "Shape of y_windowed: (186488,)\n",
      "Each window covers ~-0.448 seconds, average delta: -0.004480305 seconds\n"
     ]
    }
   ],
   "source": [
    "import numpy as np\n",
    "import pandas as pd\n",
    "\n",
    "from sklearn.model_selection import train_test_split\n",
    "from sklearn.preprocessing import StandardScaler\n",
    "\n",
    "from sklearn.metrics import confusion_matrix\n",
    "\n",
    "# --- Step 1: Prepare Data for Windowing ---\n",
    "\n",
    "# Define the features you want to use in your model\n",
    "# We'll use position, velocity, and acceleration for the Z-axis (vertical)\n",
    "feature_columns = [\n",
    "    'Meta_R_Index_Distal_GLOBAL_Z',\n",
    "    'vel_z',\n",
    "    'accel_z'\n",
    "]\n",
    "\n",
    "# Create the final array with the label in the FIRST column\n",
    "# This is the format the windowing function expects\n",
    "timeseries_data = master_df[['KeyPressFlag'] + feature_columns].to_numpy()\n",
    "\n",
    "avg_delta = master_df['TimeStamp'].diff().mean()\n",
    "window_duration = avg_delta * window_size\n",
    "print(f\" Before windowing: Each window covers ~{window_duration:.3f} seconds, average delta: {avg_delta:.9f} seconds\")\n",
    "\n",
    "# --- Step 2: Create Time-Series Windows ---\n",
    "\n",
    "def make_timeseries_instances(time_series, window_size):\n",
    "    \"\"\"Chops the data into overlapping windows.\"\"\"\n",
    "    X = []\n",
    "    y = []\n",
    "    for i in range(window_size, time_series.shape[0]):\n",
    "        # The window is the sequence of features from the past\n",
    "        X.append(time_series[i-window_size:i, 1:])\n",
    "        # The label is the KeyPressFlag at the end of the window\n",
    "        y.append(time_series[i, 0])\n",
    "    return np.array(X), np.array(y).astype(int)\n",
    "\n",
    "# Define how many past frames the model should see\n",
    "window_size = 100\n",
    "\n",
    "print(\"Creating time-series windows...\")\n",
    "X_windowed, y_windowed = make_timeseries_instances(timeseries_data, window_size)\n",
    "print(\"Shape of X_windowed (samples, timesteps, features):\", X_windowed.shape)\n",
    "print(\"Shape of y_windowed:\", y_windowed.shape)\n",
    "\n",
    "\n",
    "# --- Step 3: Split and Scale the Data ---\n",
    "\n",
    "# Stratified split is crucial for imbalanced data\n",
    "X_train, X_test, y_train, y_test = train_test_split(\n",
    "    X_windowed, y_windowed, test_size=0.2, random_state=42, stratify=y_windowed\n",
    ")\n",
    "\n",
    "# Feature Scaling: Neural networks work best when input values are small.\n",
    "# We need to reshape the 3D data to 2D to scale it, then reshape back.\n",
    "scaler = StandardScaler()\n",
    "X_train_scaled = scaler.fit_transform(X_train.reshape(-1, X_train.shape[-1])).reshape(X_train.shape)\n",
    "X_test_scaled = scaler.transform(X_test.reshape(-1, X_test.shape[-1])).reshape(X_test.shape)\n",
    "\n",
    "avg_delta = master_df['TimeStamp'].diff().mean()\n",
    "window_duration = avg_delta * window_size\n",
    "print(f\"Each window covers ~{window_duration:.3f} seconds, average delta: {avg_delta:.9f} seconds\")\n"
   ]
  },
  {
   "cell_type": "code",
   "execution_count": null,
   "id": "fee0d784",
   "metadata": {},
   "outputs": [],
   "source": []
  },
  {
   "cell_type": "code",
   "execution_count": 8,
   "id": "0017235c",
   "metadata": {},
   "outputs": [
    {
     "name": "stdout",
     "output_type": "stream",
     "text": [
      "\n",
      "Building the LSTM model...\n"
     ]
    },
    {
     "name": "stderr",
     "output_type": "stream",
     "text": [
      "/data/transient/ahmedszz/miniconda3/envs/tf/lib/python3.12/site-packages/keras/src/layers/rnn/rnn.py:199: UserWarning: Do not pass an `input_shape`/`input_dim` argument to a layer. When using Sequential models, prefer using an `Input(shape)` object as the first layer in the model instead.\n",
      "  super().__init__(**kwargs)\n"
     ]
    },
    {
     "data": {
      "text/html": [
       "<pre style=\"white-space:pre;overflow-x:auto;line-height:normal;font-family:Menlo,'DejaVu Sans Mono',consolas,'Courier New',monospace\"><span style=\"font-weight: bold\">Model: \"sequential_1\"</span>\n",
       "</pre>\n"
      ],
      "text/plain": [
       "\u001b[1mModel: \"sequential_1\"\u001b[0m\n"
      ]
     },
     "metadata": {},
     "output_type": "display_data"
    },
    {
     "data": {
      "text/html": [
       "<pre style=\"white-space:pre;overflow-x:auto;line-height:normal;font-family:Menlo,'DejaVu Sans Mono',consolas,'Courier New',monospace\">┏━━━━━━━━━━━━━━━━━━━━━━━━━━━━━━━━━┳━━━━━━━━━━━━━━━━━━━━━━━━┳━━━━━━━━━━━━━━━┓\n",
       "┃<span style=\"font-weight: bold\"> Layer (type)                    </span>┃<span style=\"font-weight: bold\"> Output Shape           </span>┃<span style=\"font-weight: bold\">       Param # </span>┃\n",
       "┡━━━━━━━━━━━━━━━━━━━━━━━━━━━━━━━━━╇━━━━━━━━━━━━━━━━━━━━━━━━╇━━━━━━━━━━━━━━━┩\n",
       "│ lstm_1 (<span style=\"color: #0087ff; text-decoration-color: #0087ff\">LSTM</span>)                   │ (<span style=\"color: #00d7ff; text-decoration-color: #00d7ff\">None</span>, <span style=\"color: #00af00; text-decoration-color: #00af00\">64</span>)             │        <span style=\"color: #00af00; text-decoration-color: #00af00\">17,408</span> │\n",
       "├─────────────────────────────────┼────────────────────────┼───────────────┤\n",
       "│ dropout_1 (<span style=\"color: #0087ff; text-decoration-color: #0087ff\">Dropout</span>)             │ (<span style=\"color: #00d7ff; text-decoration-color: #00d7ff\">None</span>, <span style=\"color: #00af00; text-decoration-color: #00af00\">64</span>)             │             <span style=\"color: #00af00; text-decoration-color: #00af00\">0</span> │\n",
       "├─────────────────────────────────┼────────────────────────┼───────────────┤\n",
       "│ dense_1 (<span style=\"color: #0087ff; text-decoration-color: #0087ff\">Dense</span>)                 │ (<span style=\"color: #00d7ff; text-decoration-color: #00d7ff\">None</span>, <span style=\"color: #00af00; text-decoration-color: #00af00\">1</span>)              │            <span style=\"color: #00af00; text-decoration-color: #00af00\">65</span> │\n",
       "└─────────────────────────────────┴────────────────────────┴───────────────┘\n",
       "</pre>\n"
      ],
      "text/plain": [
       "┏━━━━━━━━━━━━━━━━━━━━━━━━━━━━━━━━━┳━━━━━━━━━━━━━━━━━━━━━━━━┳━━━━━━━━━━━━━━━┓\n",
       "┃\u001b[1m \u001b[0m\u001b[1mLayer (type)                   \u001b[0m\u001b[1m \u001b[0m┃\u001b[1m \u001b[0m\u001b[1mOutput Shape          \u001b[0m\u001b[1m \u001b[0m┃\u001b[1m \u001b[0m\u001b[1m      Param #\u001b[0m\u001b[1m \u001b[0m┃\n",
       "┡━━━━━━━━━━━━━━━━━━━━━━━━━━━━━━━━━╇━━━━━━━━━━━━━━━━━━━━━━━━╇━━━━━━━━━━━━━━━┩\n",
       "│ lstm_1 (\u001b[38;5;33mLSTM\u001b[0m)                   │ (\u001b[38;5;45mNone\u001b[0m, \u001b[38;5;34m64\u001b[0m)             │        \u001b[38;5;34m17,408\u001b[0m │\n",
       "├─────────────────────────────────┼────────────────────────┼───────────────┤\n",
       "│ dropout_1 (\u001b[38;5;33mDropout\u001b[0m)             │ (\u001b[38;5;45mNone\u001b[0m, \u001b[38;5;34m64\u001b[0m)             │             \u001b[38;5;34m0\u001b[0m │\n",
       "├─────────────────────────────────┼────────────────────────┼───────────────┤\n",
       "│ dense_1 (\u001b[38;5;33mDense\u001b[0m)                 │ (\u001b[38;5;45mNone\u001b[0m, \u001b[38;5;34m1\u001b[0m)              │            \u001b[38;5;34m65\u001b[0m │\n",
       "└─────────────────────────────────┴────────────────────────┴───────────────┘\n"
      ]
     },
     "metadata": {},
     "output_type": "display_data"
    },
    {
     "data": {
      "text/html": [
       "<pre style=\"white-space:pre;overflow-x:auto;line-height:normal;font-family:Menlo,'DejaVu Sans Mono',consolas,'Courier New',monospace\"><span style=\"font-weight: bold\"> Total params: </span><span style=\"color: #00af00; text-decoration-color: #00af00\">17,473</span> (68.25 KB)\n",
       "</pre>\n"
      ],
      "text/plain": [
       "\u001b[1m Total params: \u001b[0m\u001b[38;5;34m17,473\u001b[0m (68.25 KB)\n"
      ]
     },
     "metadata": {},
     "output_type": "display_data"
    },
    {
     "data": {
      "text/html": [
       "<pre style=\"white-space:pre;overflow-x:auto;line-height:normal;font-family:Menlo,'DejaVu Sans Mono',consolas,'Courier New',monospace\"><span style=\"font-weight: bold\"> Trainable params: </span><span style=\"color: #00af00; text-decoration-color: #00af00\">17,473</span> (68.25 KB)\n",
       "</pre>\n"
      ],
      "text/plain": [
       "\u001b[1m Trainable params: \u001b[0m\u001b[38;5;34m17,473\u001b[0m (68.25 KB)\n"
      ]
     },
     "metadata": {},
     "output_type": "display_data"
    },
    {
     "data": {
      "text/html": [
       "<pre style=\"white-space:pre;overflow-x:auto;line-height:normal;font-family:Menlo,'DejaVu Sans Mono',consolas,'Courier New',monospace\"><span style=\"font-weight: bold\"> Non-trainable params: </span><span style=\"color: #00af00; text-decoration-color: #00af00\">0</span> (0.00 B)\n",
       "</pre>\n"
      ],
      "text/plain": [
       "\u001b[1m Non-trainable params: \u001b[0m\u001b[38;5;34m0\u001b[0m (0.00 B)\n"
      ]
     },
     "metadata": {},
     "output_type": "display_data"
    },
    {
     "name": "stdout",
     "output_type": "stream",
     "text": [
      "\n",
      "Training the LSTM model... (This may take a long time)\n",
      "Epoch 1/15\n"
     ]
    },
    {
     "name": "stderr",
     "output_type": "stream",
     "text": [
      "2025-07-30 16:14:55.796426: W external/local_xla/xla/tsl/framework/cpu_allocator_impl.cc:83] Allocation of 143222400 exceeds 10% of free system memory.\n"
     ]
    },
    {
     "name": "stdout",
     "output_type": "stream",
     "text": [
      "\u001b[1m466/467\u001b[0m \u001b[32m━━━━━━━━━━━━━━━━━━━\u001b[0m\u001b[37m━\u001b[0m \u001b[1m0s\u001b[0m 48ms/step - accuracy: 0.5588 - loss: 0.6837"
     ]
    },
    {
     "name": "stderr",
     "output_type": "stream",
     "text": [
      "2025-07-30 16:15:19.697050: W external/local_xla/xla/tsl/framework/cpu_allocator_impl.cc:83] Allocation of 35805600 exceeds 10% of free system memory.\n"
     ]
    },
    {
     "name": "stdout",
     "output_type": "stream",
     "text": [
      "\u001b[1m467/467\u001b[0m \u001b[32m━━━━━━━━━━━━━━━━━━━━\u001b[0m\u001b[37m\u001b[0m \u001b[1m27s\u001b[0m 54ms/step - accuracy: 0.5588 - loss: 0.6837 - val_accuracy: 0.5938 - val_loss: 0.6677\n",
      "Epoch 2/15\n",
      "\u001b[1m467/467\u001b[0m \u001b[32m━━━━━━━━━━━━━━━━━━━━\u001b[0m\u001b[37m\u001b[0m \u001b[1m26s\u001b[0m 56ms/step - accuracy: 0.5894 - loss: 0.6711 - val_accuracy: 0.5911 - val_loss: 0.6704\n",
      "Epoch 3/15\n",
      "\u001b[1m467/467\u001b[0m \u001b[32m━━━━━━━━━━━━━━━━━━━━\u001b[0m\u001b[37m\u001b[0m \u001b[1m27s\u001b[0m 57ms/step - accuracy: 0.5906 - loss: 0.6701 - val_accuracy: 0.6024 - val_loss: 0.6659\n",
      "Epoch 4/15\n",
      "\u001b[1m467/467\u001b[0m \u001b[32m━━━━━━━━━━━━━━━━━━━━\u001b[0m\u001b[37m\u001b[0m \u001b[1m27s\u001b[0m 57ms/step - accuracy: 0.5981 - loss: 0.6643 - val_accuracy: 0.6100 - val_loss: 0.6554\n",
      "Epoch 5/15\n",
      "\u001b[1m467/467\u001b[0m \u001b[32m━━━━━━━━━━━━━━━━━━━━\u001b[0m\u001b[37m\u001b[0m \u001b[1m26s\u001b[0m 56ms/step - accuracy: 0.6025 - loss: 0.6598 - val_accuracy: 0.6176 - val_loss: 0.6493\n",
      "Epoch 6/15\n",
      "\u001b[1m467/467\u001b[0m \u001b[32m━━━━━━━━━━━━━━━━━━━━\u001b[0m\u001b[37m\u001b[0m \u001b[1m27s\u001b[0m 57ms/step - accuracy: 0.6115 - loss: 0.6555 - val_accuracy: 0.6195 - val_loss: 0.6479\n",
      "Epoch 7/15\n",
      "\u001b[1m467/467\u001b[0m \u001b[32m━━━━━━━━━━━━━━━━━━━━\u001b[0m\u001b[37m\u001b[0m \u001b[1m26s\u001b[0m 56ms/step - accuracy: 0.6172 - loss: 0.6514 - val_accuracy: 0.6297 - val_loss: 0.6424\n",
      "Epoch 8/15\n",
      "\u001b[1m467/467\u001b[0m \u001b[32m━━━━━━━━━━━━━━━━━━━━\u001b[0m\u001b[37m\u001b[0m \u001b[1m26s\u001b[0m 57ms/step - accuracy: 0.6244 - loss: 0.6449 - val_accuracy: 0.6332 - val_loss: 0.6368\n",
      "Epoch 9/15\n",
      "\u001b[1m467/467\u001b[0m \u001b[32m━━━━━━━━━━━━━━━━━━━━\u001b[0m\u001b[37m\u001b[0m \u001b[1m26s\u001b[0m 56ms/step - accuracy: 0.6283 - loss: 0.6398 - val_accuracy: 0.6309 - val_loss: 0.6355\n",
      "Epoch 10/15\n",
      "\u001b[1m467/467\u001b[0m \u001b[32m━━━━━━━━━━━━━━━━━━━━\u001b[0m\u001b[37m\u001b[0m \u001b[1m26s\u001b[0m 57ms/step - accuracy: 0.6339 - loss: 0.6369 - val_accuracy: 0.6470 - val_loss: 0.6265\n",
      "Epoch 11/15\n",
      "\u001b[1m467/467\u001b[0m \u001b[32m━━━━━━━━━━━━━━━━━━━━\u001b[0m\u001b[37m\u001b[0m \u001b[1m27s\u001b[0m 57ms/step - accuracy: 0.6412 - loss: 0.6306 - val_accuracy: 0.6503 - val_loss: 0.6219\n",
      "Epoch 12/15\n",
      "\u001b[1m467/467\u001b[0m \u001b[32m━━━━━━━━━━━━━━━━━━━━\u001b[0m\u001b[37m\u001b[0m \u001b[1m27s\u001b[0m 58ms/step - accuracy: 0.6477 - loss: 0.6235 - val_accuracy: 0.6485 - val_loss: 0.6201\n",
      "Epoch 13/15\n",
      "\u001b[1m467/467\u001b[0m \u001b[32m━━━━━━━━━━━━━━━━━━━━\u001b[0m\u001b[37m\u001b[0m \u001b[1m29s\u001b[0m 63ms/step - accuracy: 0.6515 - loss: 0.6179 - val_accuracy: 0.6653 - val_loss: 0.6085\n",
      "Epoch 14/15\n",
      "\u001b[1m467/467\u001b[0m \u001b[32m━━━━━━━━━━━━━━━━━━━━\u001b[0m\u001b[37m\u001b[0m \u001b[1m27s\u001b[0m 58ms/step - accuracy: 0.6619 - loss: 0.6104 - val_accuracy: 0.6667 - val_loss: 0.6087\n",
      "Epoch 15/15\n",
      "\u001b[1m467/467\u001b[0m \u001b[32m━━━━━━━━━━━━━━━━━━━━\u001b[0m\u001b[37m\u001b[0m \u001b[1m27s\u001b[0m 58ms/step - accuracy: 0.6695 - loss: 0.6056 - val_accuracy: 0.6716 - val_loss: 0.6007\n",
      "\n",
      "Evaluating the final model on the test set...\n",
      "\u001b[1m   1/1166\u001b[0m \u001b[37m━━━━━━━━━━━━━━━━━━━━\u001b[0m \u001b[1m2:42\u001b[0m 139ms/step"
     ]
    },
    {
     "name": "stderr",
     "output_type": "stream",
     "text": [
      "2025-07-30 16:21:38.103241: W external/local_xla/xla/tsl/framework/cpu_allocator_impl.cc:83] Allocation of 44757600 exceeds 10% of free system memory.\n"
     ]
    },
    {
     "name": "stdout",
     "output_type": "stream",
     "text": [
      "\u001b[1m1166/1166\u001b[0m \u001b[32m━━━━━━━━━━━━━━━━━━━━\u001b[0m\u001b[37m\u001b[0m \u001b[1m7s\u001b[0m 6ms/step\n",
      "\n",
      "Final LSTM Model Confusion Matrix:\n",
      "[[11063  7393]\n",
      " [ 4651 14191]]\n"
     ]
    }
   ],
   "source": [
    "from tensorflow.keras.models import Sequential\n",
    "from tensorflow.keras.layers import LSTM, Dense, Dropout\n",
    "from tensorflow.keras.callbacks import EarlyStopping\n",
    "\n",
    "# --- Step 4: Build and Train the LSTM Model ---\n",
    "\n",
    "print(\"\\nBuilding the LSTM model...\")\n",
    "model = Sequential([\n",
    "    # The LSTM layer processes the sequence. input_shape is (window_size, num_features)\n",
    "    LSTM(64, input_shape=(X_train_scaled.shape[1], X_train_scaled.shape[2])),\n",
    "    Dropout(0.5), # Dropout helps prevent overfitting\n",
    "    # The final Dense layer gives a single output (tap or no-tap)\n",
    "    Dense(1, activation='sigmoid') \n",
    "])\n",
    "\n",
    "# Compile the model\n",
    "model.compile(optimizer='adam', loss='binary_crossentropy', metrics=['accuracy'])\n",
    "model.summary()\n",
    "\n",
    "# To handle the class imbalance, we calculate class weights\n",
    "# This penalizes the model more for missing the rare 'tap' events\n",
    "from sklearn.utils import class_weight\n",
    "weights = class_weight.compute_class_weight('balanced', classes=np.unique(y_train), y=y_train)\n",
    "class_weights = {i : weights[i] for i in range(len(weights))}\n",
    "\n",
    "print(\"\\nTraining the LSTM model... (This may take a long time)\")\n",
    "# EarlyStopping will stop training if the model isn't improving\n",
    "early_stopping = EarlyStopping(monitor='val_loss', patience=3, restore_best_weights=True)\n",
    "\n",
    "history = model.fit(\n",
    "    X_train_scaled,\n",
    "    y_train,\n",
    "    epochs=15,\n",
    "    batch_size=256,\n",
    "    validation_split=0.2, # Use part of the training data for validation\n",
    "    class_weight=class_weights,\n",
    "    callbacks=[early_stopping]\n",
    ")\n",
    "\n",
    "\n",
    "# --- Step 5: Evaluate the Final Model ---\n",
    "\n",
    "print(\"\\nEvaluating the final model on the test set...\")\n",
    "# We predict probabilities and use a threshold of 0.5 to get 0s and 1s\n",
    "y_pred_probs = model.predict(X_test_scaled)\n",
    "y_pred = (y_pred_probs > 0.5).astype(int)\n",
    "\n",
    "print(\"\\nFinal LSTM Model Confusion Matrix:\")\n",
    "print(confusion_matrix(y_test, y_pred))"
   ]
  },
  {
   "cell_type": "code",
   "execution_count": null,
   "id": "40e09c34",
   "metadata": {},
   "outputs": [],
   "source": [
    "model.save('ltsm_tap_detector')  # Save the model for later use"
   ]
  },
  {
   "cell_type": "code",
   "execution_count": null,
   "id": "3bed1b6f",
   "metadata": {},
   "outputs": [],
   "source": [
    "import tensorflow as tf\n",
    "\n",
    "# Load trained model\n",
    "model = tf.keras.models.load_model('ltsm_tap_detector.keras')\n",
    "\n",
    "# Export it to a new directory\n",
    "model.export('ltsm_tap_detector_exported')"
   ]
  },
  {
   "cell_type": "code",
   "execution_count": null,
   "id": "531d967a",
   "metadata": {},
   "outputs": [],
   "source": [
    "import onnx\n",
    "import onnxruntime as ort\n",
    "import numpy as np\n",
    "\n",
    "# 1. Load the ONNX model\n",
    "onnx_model_path = \"/data/transient/ahmedszz/Documents/vr_text_entry_models/vr_text_entry/typing_classifier/ltsm_tap_detector.onnx\"\n",
    "model = onnx.load(onnx_model_path)\n",
    "\n",
    "# 2. Check model structure\n",
    "onnx.checker.check_model(model)\n",
    "print(\"✅ Model is structurally valid ONNX\")\n",
    "\n",
    "# 3. Create an ONNX Runtime session\n",
    "session = ort.InferenceSession(onnx_model_path)\n",
    "\n",
    "# Print model I/O info\n",
    "print(\"Inputs:\", [(i.name, i.shape, i.type) for i in session.get_inputs()])\n",
    "print(\"Outputs:\", [(o.name, o.shape, o.type) for o in session.get_outputs()])\n",
    "\n",
    "# 4. Run a dummy inference\n",
    "# Example input shape: (1, 100, 3) -> batch of 1, 100 timesteps, 3 features\n",
    "dummy_input = np.random.rand(1, 100, 3).astype(np.float32)\n",
    "\n",
    "# Feed into the session\n",
    "input_name = session.get_inputs()[0].name\n",
    "output_name = session.get_outputs()[0].name\n",
    "\n",
    "result = session.run([output_name], {input_name: dummy_input})\n",
    "print(\"Dummy inference output:\", result)"
   ]
  }
 ],
 "metadata": {
  "kernelspec": {
   "display_name": "tf",
   "language": "python",
   "name": "python3"
  },
  "language_info": {
   "codemirror_mode": {
    "name": "ipython",
    "version": 3
   },
   "file_extension": ".py",
   "mimetype": "text/x-python",
   "name": "python",
   "nbconvert_exporter": "python",
   "pygments_lexer": "ipython3",
   "version": "3.12.11"
  }
 },
 "nbformat": 4,
 "nbformat_minor": 5
}

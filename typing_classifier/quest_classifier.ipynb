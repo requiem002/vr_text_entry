{
 "cells": [
  {
   "cell_type": "markdown",
   "id": "cbe278b3",
   "metadata": {},
   "source": []
  },
  {
   "cell_type": "code",
   "execution_count": 2,
   "id": "6764e3d7",
   "metadata": {},
   "outputs": [],
   "source": [
    "data_folder = \"quest_training_data/\""
   ]
  },
  {
   "cell_type": "code",
   "execution_count": 3,
   "id": "3909ede2",
   "metadata": {},
   "outputs": [
    {
     "name": "stderr",
     "output_type": "stream",
     "text": [
      "2025-07-30 14:07:04.482659: I external/local_xla/xla/tsl/cuda/cudart_stub.cc:32] Could not find cuda drivers on your machine, GPU will not be used.\n",
      "2025-07-30 14:07:04.613994: I external/local_xla/xla/tsl/cuda/cudart_stub.cc:32] Could not find cuda drivers on your machine, GPU will not be used.\n",
      "2025-07-30 14:07:04.743074: E external/local_xla/xla/stream_executor/cuda/cuda_fft.cc:467] Unable to register cuFFT factory: Attempting to register factory for plugin cuFFT when one has already been registered\n",
      "WARNING: All log messages before absl::InitializeLog() is called are written to STDERR\n",
      "E0000 00:00:1753880824.850037  833130 cuda_dnn.cc:8579] Unable to register cuDNN factory: Attempting to register factory for plugin cuDNN when one has already been registered\n",
      "E0000 00:00:1753880824.881123  833130 cuda_blas.cc:1407] Unable to register cuBLAS factory: Attempting to register factory for plugin cuBLAS when one has already been registered\n",
      "W0000 00:00:1753880825.151998  833130 computation_placer.cc:177] computation placer already registered. Please check linkage and avoid linking the same target more than once.\n",
      "W0000 00:00:1753880825.152079  833130 computation_placer.cc:177] computation placer already registered. Please check linkage and avoid linking the same target more than once.\n",
      "W0000 00:00:1753880825.152100  833130 computation_placer.cc:177] computation placer already registered. Please check linkage and avoid linking the same target more than once.\n",
      "W0000 00:00:1753880825.152119  833130 computation_placer.cc:177] computation placer already registered. Please check linkage and avoid linking the same target more than once.\n",
      "2025-07-30 14:07:05.187328: I tensorflow/core/platform/cpu_feature_guard.cc:210] This TensorFlow binary is optimized to use available CPU instructions in performance-critical operations.\n",
      "To enable the following instructions: AVX2 FMA, in other operations, rebuild TensorFlow with the appropriate compiler flags.\n"
     ]
    },
    {
     "name": "stdout",
     "output_type": "stream",
     "text": [
      "GPUs available: []\n"
     ]
    },
    {
     "name": "stderr",
     "output_type": "stream",
     "text": [
      "2025-07-30 14:07:08.395747: E external/local_xla/xla/stream_executor/cuda/cuda_platform.cc:51] failed call to cuInit: INTERNAL: CUDA error: Failed call to cuInit: UNKNOWN ERROR (303)\n"
     ]
    }
   ],
   "source": [
    "import tensorflow as tf\n",
    "print(\"GPUs available:\", tf.config.list_physical_devices('GPU'))"
   ]
  },
  {
   "cell_type": "code",
   "execution_count": 4,
   "id": "abcb4a33",
   "metadata": {},
   "outputs": [
    {
     "name": "stdout",
     "output_type": "stream",
     "text": [
      "Found 15470 files to process...\n",
      "\n",
      "--- Processing subfolder: ptx_05---\n",
      "  -> ERROR processing 2_Master_ptx_05_10deg_1_fox_x_18_113.62.csv. Error: unsupported operand type(s) for -: 'str' and 'str'\n",
      "  -> ERROR processing 31_Master_ptx_05_0deg_46_jumping_u_1_763.63.csv. Error: unsupported operand type(s) for -: 'str' and 'str'\n",
      "\n",
      "--- Processing subfolder: ptx_06---\n",
      "\n",
      "--- Processing subfolder: ptx_03---\n",
      "\n",
      "--- Processing subfolder: ptx_01---\n",
      "\n",
      "--- Processing subfolder: ptx_999---\n",
      "\n",
      "--- Processing subfolder: ptx_02---\n",
      "\n",
      "--- Processing Complete ---\n",
      "Shape of the final master DataFrame: (786081, 11)\n",
      "\n",
      "Class Distribution ('1' is a Tap):\n",
      "KeyPressFlag\n",
      "0    0.534395\n",
      "1    0.465605\n",
      "Name: proportion, dtype: float64\n"
     ]
    }
   ],
   "source": [
    "import pandas as pd\n",
    "import numpy as np\n",
    "import os\n",
    "import glob # Library for finding files that match a pattern\n",
    "\n",
    "def process_quest_file(file_path):\n",
    "    \"\"\"\n",
    "    Loads a single data file, downsamples it, and calculates\n",
    "    velocity and acceleration features.\n",
    "    \"\"\"\n",
    "    # low_memory=False helps prevent data type warnings\n",
    "    df = pd.read_csv(file_path, low_memory=False)\n",
    "    \n",
    "    # Downsample by a factor of 4 to speed up processing\n",
    "    df = df.iloc[::2, :].copy()\n",
    "\n",
    "    feature_cols = [\n",
    "        'TimeStamp',\n",
    "        'Meta_R_Index_Distal_GLOBAL_X',\n",
    "        'Meta_R_Index_Distal_GLOBAL_Y',\n",
    "        'Meta_R_Index_Distal_GLOBAL_Z'\n",
    "    ]\n",
    "    label_col = 'KeyPressFlag'\n",
    "    \n",
    "    # It's safer to check if columns exist before using them\n",
    "    required_cols = feature_cols + [label_col]\n",
    "    if not all(col in df.columns for col in required_cols):\n",
    "        print(f\"  -> Skipping {os.path.basename(file_path)}: missing required columns.\")\n",
    "        return None # Return nothing if a file is missing columns\n",
    "        \n",
    "    processed_df = df[required_cols].copy()\n",
    "    \n",
    "    delta_time = processed_df['TimeStamp'].diff()\n",
    "    \n",
    "    # Calculate Velocity\n",
    "    processed_df['vel_x'] = processed_df['Meta_R_Index_Distal_GLOBAL_X'].diff() / delta_time\n",
    "    processed_df['vel_y'] = processed_df['Meta_R_Index_Distal_GLOBAL_Y'].diff() / delta_time\n",
    "    processed_df['vel_z'] = processed_df['Meta_R_Index_Distal_GLOBAL_Z'].diff() / delta_time\n",
    "    \n",
    "    # Calculate Acceleration\n",
    "    processed_df['accel_x'] = processed_df['vel_x'].diff() / delta_time\n",
    "    processed_df['accel_y'] = processed_df['vel_y'].diff() / delta_time\n",
    "    processed_df['accel_z'] = processed_df['vel_z'].diff() / delta_time\n",
    "    \n",
    "    processed_df.dropna(inplace=True)\n",
    "    \n",
    "    return processed_df\n",
    "\n",
    "\n",
    "\n",
    "\n",
    "# Use glob to find all .csv files recursively\n",
    "# The '**' tells glob to search in all subdirectories\n",
    "search_pattern = os.path.join(data_folder, '**', '*.csv')\n",
    "all_files = glob.glob(search_pattern, recursive=True)\n",
    "\n",
    "# A list to hold the processed data from each file\n",
    "list_of_dfs = []\n",
    "\n",
    "print(f\"Found {len(all_files)} files to process...\")\n",
    "\n",
    "current_subfolder = None\n",
    "\n",
    "for file in all_files:\n",
    "    # We'll just print the filename, not the full path, to keep the log clean\n",
    "    subfolder_name = os.path.basename(os.path.dirname(file))\n",
    "\n",
    "    if subfolder_name != current_subfolder:\n",
    "        current_subfolder = subfolder_name\n",
    "        print(f\"\\n--- Processing subfolder: {current_subfolder}---\")\n",
    "    #print(f\"Processing {os.path.basename(file)}...\")\n",
    "    try:\n",
    "        processed_df = process_quest_file(file)\n",
    "        if processed_df is not None:\n",
    "            list_of_dfs.append(processed_df)\n",
    "    except Exception as e:\n",
    "        print(f\"  -> ERROR processing {os.path.basename(file)}. Error: {e}\")\n",
    "\n",
    "# Combine all the processed data into one master DataFrame\n",
    "if list_of_dfs:\n",
    "    master_df = pd.concat(list_of_dfs, ignore_index=True)\n",
    "\n",
    "    print(\"\\n--- Processing Complete ---\")\n",
    "    print(\"Shape of the final master DataFrame:\", master_df.shape)\n",
    "    \n",
    "    print(\"\\nClass Distribution ('1' is a Tap):\")\n",
    "    # We check if 'KeyPressFlag' exists before trying to access it\n",
    "    if 'KeyPressFlag' in master_df.columns:\n",
    "        print(master_df['KeyPressFlag'].value_counts(normalize=True))\n",
    "    else:\n",
    "        print(\"Column 'KeyPressFlag' not found in the final DataFrame.\")\n",
    "else:\n",
    "    print(\"\\nNo files were processed. Please check your data_folder path and file contents.\")"
   ]
  },
  {
   "cell_type": "code",
   "execution_count": 6,
   "id": "69d4cf21",
   "metadata": {},
   "outputs": [
    {
     "name": "stdout",
     "output_type": "stream",
     "text": [
      "Correct average time between frames (after downsampling): 0.0222 seconds\n",
      "Correct estimated window duration: 2.22 seconds\n"
     ]
    }
   ],
   "source": [
    "# Choose any one of your raw data files\n",
    "single_file_path = 'quest_training_data/ptx_01/0_Master_ptx_01_0deg_6_boxing_n_13_166.80.csv'\n",
    "\n",
    "# Load the raw file\n",
    "df_sample = pd.read_csv(single_file_path, low_memory=False)\n",
    "\n",
    "# Downsample it just like in your script\n",
    "df_sample_downsampled = df_sample.iloc[::4, :].copy()\n",
    "\n",
    "# Calculate the true average time delta on the downsampled data\n",
    "true_avg_delta = df_sample_downsampled['TimeStamp'].diff().mean()\n",
    "\n",
    "# Calculate the true window duration\n",
    "window_size = 100\n",
    "true_window_duration = true_avg_delta * window_size\n",
    "\n",
    "print(f\"Correct average time between frames (after downsampling): {true_avg_delta:.4f} seconds\")\n",
    "print(f\"Correct estimated window duration: {true_window_duration:.2f} seconds\")"
   ]
  },
  {
   "cell_type": "code",
   "execution_count": 7,
   "id": "c9febd91",
   "metadata": {},
   "outputs": [
    {
     "name": "stdout",
     "output_type": "stream",
     "text": [
      " Before windowing: Each window covers ~0.014 seconds, average delta: 0.000141744 seconds\n",
      "Creating time-series windows...\n",
      "Shape of X_windowed (samples, timesteps, features): (785981, 100, 3)\n",
      "Shape of y_windowed: (785981,)\n",
      "Each window covers ~0.014 seconds, average delta: 0.000141744 seconds\n"
     ]
    }
   ],
   "source": [
    "import numpy as np\n",
    "import pandas as pd\n",
    "\n",
    "from sklearn.model_selection import train_test_split\n",
    "from sklearn.preprocessing import StandardScaler\n",
    "\n",
    "from sklearn.metrics import confusion_matrix\n",
    "\n",
    "# --- Step 1: Prepare Data for Windowing ---\n",
    "\n",
    "# Define the features you want to use in your model\n",
    "# We'll use position, velocity, and acceleration for the Z-axis (vertical)\n",
    "feature_columns = [\n",
    "    'Meta_R_Index_Distal_GLOBAL_Z',\n",
    "    'vel_z',\n",
    "    'accel_z'\n",
    "]\n",
    "\n",
    "# Create the final array with the label in the FIRST column\n",
    "# This is the format the windowing function expects\n",
    "timeseries_data = master_df[['KeyPressFlag'] + feature_columns].to_numpy()\n",
    "\n",
    "avg_delta = master_df['TimeStamp'].diff().mean()\n",
    "window_duration = avg_delta * window_size\n",
    "print(f\" Before windowing: Each window covers ~{window_duration:.3f} seconds, average delta: {avg_delta:.9f} seconds\")\n",
    "\n",
    "# --- Step 2: Create Time-Series Windows ---\n",
    "\n",
    "def make_timeseries_instances(time_series, window_size):\n",
    "    \"\"\"Chops the data into overlapping windows.\"\"\"\n",
    "    X = []\n",
    "    y = []\n",
    "    for i in range(window_size, time_series.shape[0]):\n",
    "        # The window is the sequence of features from the past\n",
    "        X.append(time_series[i-window_size:i, 1:])\n",
    "        # The label is the KeyPressFlag at the end of the window\n",
    "        y.append(time_series[i, 0])\n",
    "    return np.array(X), np.array(y).astype(int)\n",
    "\n",
    "# Define how many past frames the model should see\n",
    "window_size = 100\n",
    "\n",
    "print(\"Creating time-series windows...\")\n",
    "X_windowed, y_windowed = make_timeseries_instances(timeseries_data, window_size)\n",
    "print(\"Shape of X_windowed (samples, timesteps, features):\", X_windowed.shape)\n",
    "print(\"Shape of y_windowed:\", y_windowed.shape)\n",
    "\n",
    "\n",
    "# --- Step 3: Split and Scale the Data ---\n",
    "\n",
    "# Stratified split is crucial for imbalanced data\n",
    "X_train, X_test, y_train, y_test = train_test_split(\n",
    "    X_windowed, y_windowed, test_size=0.2, random_state=42, stratify=y_windowed\n",
    ")\n",
    "\n",
    "# Feature Scaling: Neural networks work best when input values are small.\n",
    "# We need to reshape the 3D data to 2D to scale it, then reshape back.\n",
    "scaler = StandardScaler()\n",
    "X_train_scaled = scaler.fit_transform(X_train.reshape(-1, X_train.shape[-1])).reshape(X_train.shape)\n",
    "X_test_scaled = scaler.transform(X_test.reshape(-1, X_test.shape[-1])).reshape(X_test.shape)\n",
    "\n",
    "avg_delta = master_df['TimeStamp'].diff().mean()\n",
    "window_duration = avg_delta * window_size\n",
    "print(f\"Each window covers ~{window_duration:.3f} seconds, average delta: {avg_delta:.9f} seconds\")\n"
   ]
  },
  {
   "cell_type": "code",
   "execution_count": null,
   "id": "fee0d784",
   "metadata": {},
   "outputs": [],
   "source": []
  },
  {
   "cell_type": "code",
   "execution_count": 8,
   "id": "0017235c",
   "metadata": {},
   "outputs": [
    {
     "name": "stdout",
     "output_type": "stream",
     "text": [
      "\n",
      "Building the LSTM model...\n"
     ]
    },
    {
     "name": "stderr",
     "output_type": "stream",
     "text": [
      "/data/transient/ahmedszz/miniconda3/envs/tf/lib/python3.12/site-packages/keras/src/layers/rnn/rnn.py:199: UserWarning: Do not pass an `input_shape`/`input_dim` argument to a layer. When using Sequential models, prefer using an `Input(shape)` object as the first layer in the model instead.\n",
      "  super().__init__(**kwargs)\n"
     ]
    },
    {
     "data": {
      "text/html": [
       "<pre style=\"white-space:pre;overflow-x:auto;line-height:normal;font-family:Menlo,'DejaVu Sans Mono',consolas,'Courier New',monospace\"><span style=\"font-weight: bold\">Model: \"sequential\"</span>\n",
       "</pre>\n"
      ],
      "text/plain": [
       "\u001b[1mModel: \"sequential\"\u001b[0m\n"
      ]
     },
     "metadata": {},
     "output_type": "display_data"
    },
    {
     "data": {
      "text/html": [
       "<pre style=\"white-space:pre;overflow-x:auto;line-height:normal;font-family:Menlo,'DejaVu Sans Mono',consolas,'Courier New',monospace\">┏━━━━━━━━━━━━━━━━━━━━━━━━━━━━━━━━━┳━━━━━━━━━━━━━━━━━━━━━━━━┳━━━━━━━━━━━━━━━┓\n",
       "┃<span style=\"font-weight: bold\"> Layer (type)                    </span>┃<span style=\"font-weight: bold\"> Output Shape           </span>┃<span style=\"font-weight: bold\">       Param # </span>┃\n",
       "┡━━━━━━━━━━━━━━━━━━━━━━━━━━━━━━━━━╇━━━━━━━━━━━━━━━━━━━━━━━━╇━━━━━━━━━━━━━━━┩\n",
       "│ lstm (<span style=\"color: #0087ff; text-decoration-color: #0087ff\">LSTM</span>)                     │ (<span style=\"color: #00d7ff; text-decoration-color: #00d7ff\">None</span>, <span style=\"color: #00af00; text-decoration-color: #00af00\">64</span>)             │        <span style=\"color: #00af00; text-decoration-color: #00af00\">17,408</span> │\n",
       "├─────────────────────────────────┼────────────────────────┼───────────────┤\n",
       "│ dropout (<span style=\"color: #0087ff; text-decoration-color: #0087ff\">Dropout</span>)               │ (<span style=\"color: #00d7ff; text-decoration-color: #00d7ff\">None</span>, <span style=\"color: #00af00; text-decoration-color: #00af00\">64</span>)             │             <span style=\"color: #00af00; text-decoration-color: #00af00\">0</span> │\n",
       "├─────────────────────────────────┼────────────────────────┼───────────────┤\n",
       "│ dense (<span style=\"color: #0087ff; text-decoration-color: #0087ff\">Dense</span>)                   │ (<span style=\"color: #00d7ff; text-decoration-color: #00d7ff\">None</span>, <span style=\"color: #00af00; text-decoration-color: #00af00\">1</span>)              │            <span style=\"color: #00af00; text-decoration-color: #00af00\">65</span> │\n",
       "└─────────────────────────────────┴────────────────────────┴───────────────┘\n",
       "</pre>\n"
      ],
      "text/plain": [
       "┏━━━━━━━━━━━━━━━━━━━━━━━━━━━━━━━━━┳━━━━━━━━━━━━━━━━━━━━━━━━┳━━━━━━━━━━━━━━━┓\n",
       "┃\u001b[1m \u001b[0m\u001b[1mLayer (type)                   \u001b[0m\u001b[1m \u001b[0m┃\u001b[1m \u001b[0m\u001b[1mOutput Shape          \u001b[0m\u001b[1m \u001b[0m┃\u001b[1m \u001b[0m\u001b[1m      Param #\u001b[0m\u001b[1m \u001b[0m┃\n",
       "┡━━━━━━━━━━━━━━━━━━━━━━━━━━━━━━━━━╇━━━━━━━━━━━━━━━━━━━━━━━━╇━━━━━━━━━━━━━━━┩\n",
       "│ lstm (\u001b[38;5;33mLSTM\u001b[0m)                     │ (\u001b[38;5;45mNone\u001b[0m, \u001b[38;5;34m64\u001b[0m)             │        \u001b[38;5;34m17,408\u001b[0m │\n",
       "├─────────────────────────────────┼────────────────────────┼───────────────┤\n",
       "│ dropout (\u001b[38;5;33mDropout\u001b[0m)               │ (\u001b[38;5;45mNone\u001b[0m, \u001b[38;5;34m64\u001b[0m)             │             \u001b[38;5;34m0\u001b[0m │\n",
       "├─────────────────────────────────┼────────────────────────┼───────────────┤\n",
       "│ dense (\u001b[38;5;33mDense\u001b[0m)                   │ (\u001b[38;5;45mNone\u001b[0m, \u001b[38;5;34m1\u001b[0m)              │            \u001b[38;5;34m65\u001b[0m │\n",
       "└─────────────────────────────────┴────────────────────────┴───────────────┘\n"
      ]
     },
     "metadata": {},
     "output_type": "display_data"
    },
    {
     "data": {
      "text/html": [
       "<pre style=\"white-space:pre;overflow-x:auto;line-height:normal;font-family:Menlo,'DejaVu Sans Mono',consolas,'Courier New',monospace\"><span style=\"font-weight: bold\"> Total params: </span><span style=\"color: #00af00; text-decoration-color: #00af00\">17,473</span> (68.25 KB)\n",
       "</pre>\n"
      ],
      "text/plain": [
       "\u001b[1m Total params: \u001b[0m\u001b[38;5;34m17,473\u001b[0m (68.25 KB)\n"
      ]
     },
     "metadata": {},
     "output_type": "display_data"
    },
    {
     "data": {
      "text/html": [
       "<pre style=\"white-space:pre;overflow-x:auto;line-height:normal;font-family:Menlo,'DejaVu Sans Mono',consolas,'Courier New',monospace\"><span style=\"font-weight: bold\"> Trainable params: </span><span style=\"color: #00af00; text-decoration-color: #00af00\">17,473</span> (68.25 KB)\n",
       "</pre>\n"
      ],
      "text/plain": [
       "\u001b[1m Trainable params: \u001b[0m\u001b[38;5;34m17,473\u001b[0m (68.25 KB)\n"
      ]
     },
     "metadata": {},
     "output_type": "display_data"
    },
    {
     "data": {
      "text/html": [
       "<pre style=\"white-space:pre;overflow-x:auto;line-height:normal;font-family:Menlo,'DejaVu Sans Mono',consolas,'Courier New',monospace\"><span style=\"font-weight: bold\"> Non-trainable params: </span><span style=\"color: #00af00; text-decoration-color: #00af00\">0</span> (0.00 B)\n",
       "</pre>\n"
      ],
      "text/plain": [
       "\u001b[1m Non-trainable params: \u001b[0m\u001b[38;5;34m0\u001b[0m (0.00 B)\n"
      ]
     },
     "metadata": {},
     "output_type": "display_data"
    },
    {
     "name": "stdout",
     "output_type": "stream",
     "text": [
      "\n",
      "Training the LSTM model... (This may take a long time)\n",
      "Epoch 1/15\n"
     ]
    },
    {
     "name": "stderr",
     "output_type": "stream",
     "text": [
      "2025-07-30 14:14:10.654116: W external/local_xla/xla/tsl/framework/cpu_allocator_impl.cc:83] Allocation of 603632400 exceeds 10% of free system memory.\n"
     ]
    },
    {
     "name": "stdout",
     "output_type": "stream",
     "text": [
      "\u001b[1m1965/1965\u001b[0m \u001b[32m━━━━━━━━━━━━━━━━━━━━\u001b[0m\u001b[37m\u001b[0m \u001b[1m0s\u001b[0m 53ms/step - accuracy: 0.5765 - loss: 0.6765"
     ]
    },
    {
     "name": "stderr",
     "output_type": "stream",
     "text": [
      "2025-07-30 14:15:57.511758: W external/local_xla/xla/tsl/framework/cpu_allocator_impl.cc:83] Allocation of 150908400 exceeds 10% of free system memory.\n"
     ]
    },
    {
     "name": "stdout",
     "output_type": "stream",
     "text": [
      "\u001b[1m1965/1965\u001b[0m \u001b[32m━━━━━━━━━━━━━━━━━━━━\u001b[0m\u001b[37m\u001b[0m \u001b[1m118s\u001b[0m 59ms/step - accuracy: 0.5765 - loss: 0.6765 - val_accuracy: 0.5935 - val_loss: 0.6643\n",
      "Epoch 2/15\n",
      "\u001b[1m1965/1965\u001b[0m \u001b[32m━━━━━━━━━━━━━━━━━━━━\u001b[0m\u001b[37m\u001b[0m \u001b[1m122s\u001b[0m 62ms/step - accuracy: 0.6045 - loss: 0.6578 - val_accuracy: 0.6183 - val_loss: 0.6455\n",
      "Epoch 3/15\n",
      "\u001b[1m1965/1965\u001b[0m \u001b[32m━━━━━━━━━━━━━━━━━━━━\u001b[0m\u001b[37m\u001b[0m \u001b[1m123s\u001b[0m 63ms/step - accuracy: 0.6197 - loss: 0.6465 - val_accuracy: 0.6239 - val_loss: 0.6393\n",
      "Epoch 4/15\n",
      "\u001b[1m1965/1965\u001b[0m \u001b[32m━━━━━━━━━━━━━━━━━━━━\u001b[0m\u001b[37m\u001b[0m \u001b[1m128s\u001b[0m 65ms/step - accuracy: 0.6312 - loss: 0.6380 - val_accuracy: 0.6398 - val_loss: 0.6279\n",
      "Epoch 5/15\n",
      "\u001b[1m1965/1965\u001b[0m \u001b[32m━━━━━━━━━━━━━━━━━━━━\u001b[0m\u001b[37m\u001b[0m \u001b[1m117s\u001b[0m 60ms/step - accuracy: 0.6386 - loss: 0.6316 - val_accuracy: 0.6450 - val_loss: 0.6236\n",
      "Epoch 6/15\n",
      "\u001b[1m1965/1965\u001b[0m \u001b[32m━━━━━━━━━━━━━━━━━━━━\u001b[0m\u001b[37m\u001b[0m \u001b[1m115s\u001b[0m 58ms/step - accuracy: 0.6465 - loss: 0.6248 - val_accuracy: 0.6454 - val_loss: 0.6221\n",
      "Epoch 7/15\n",
      "\u001b[1m1965/1965\u001b[0m \u001b[32m━━━━━━━━━━━━━━━━━━━━\u001b[0m\u001b[37m\u001b[0m \u001b[1m116s\u001b[0m 59ms/step - accuracy: 0.6519 - loss: 0.6203 - val_accuracy: 0.6593 - val_loss: 0.6114\n",
      "Epoch 8/15\n",
      "\u001b[1m1965/1965\u001b[0m \u001b[32m━━━━━━━━━━━━━━━━━━━━\u001b[0m\u001b[37m\u001b[0m \u001b[1m113s\u001b[0m 58ms/step - accuracy: 0.6574 - loss: 0.6154 - val_accuracy: 0.6587 - val_loss: 0.6098\n",
      "Epoch 9/15\n",
      "\u001b[1m1965/1965\u001b[0m \u001b[32m━━━━━━━━━━━━━━━━━━━━\u001b[0m\u001b[37m\u001b[0m \u001b[1m116s\u001b[0m 59ms/step - accuracy: 0.6608 - loss: 0.6115 - val_accuracy: 0.6640 - val_loss: 0.6040\n",
      "Epoch 10/15\n",
      "\u001b[1m1965/1965\u001b[0m \u001b[32m━━━━━━━━━━━━━━━━━━━━\u001b[0m\u001b[37m\u001b[0m \u001b[1m118s\u001b[0m 60ms/step - accuracy: 0.6659 - loss: 0.6070 - val_accuracy: 0.6683 - val_loss: 0.5995\n",
      "Epoch 11/15\n",
      "\u001b[1m1965/1965\u001b[0m \u001b[32m━━━━━━━━━━━━━━━━━━━━\u001b[0m\u001b[37m\u001b[0m \u001b[1m121s\u001b[0m 62ms/step - accuracy: 0.6696 - loss: 0.6034 - val_accuracy: 0.6734 - val_loss: 0.5958\n",
      "Epoch 12/15\n",
      "\u001b[1m1965/1965\u001b[0m \u001b[32m━━━━━━━━━━━━━━━━━━━━\u001b[0m\u001b[37m\u001b[0m \u001b[1m117s\u001b[0m 59ms/step - accuracy: 0.6722 - loss: 0.6008 - val_accuracy: 0.6754 - val_loss: 0.5932\n",
      "Epoch 13/15\n",
      "\u001b[1m1965/1965\u001b[0m \u001b[32m━━━━━━━━━━━━━━━━━━━━\u001b[0m\u001b[37m\u001b[0m \u001b[1m114s\u001b[0m 58ms/step - accuracy: 0.6764 - loss: 0.5963 - val_accuracy: 0.6786 - val_loss: 0.5899\n",
      "Epoch 14/15\n",
      "\u001b[1m1965/1965\u001b[0m \u001b[32m━━━━━━━━━━━━━━━━━━━━\u001b[0m\u001b[37m\u001b[0m \u001b[1m120s\u001b[0m 61ms/step - accuracy: 0.6790 - loss: 0.5939 - val_accuracy: 0.6795 - val_loss: 0.5905\n",
      "Epoch 15/15\n",
      "\u001b[1m1965/1965\u001b[0m \u001b[32m━━━━━━━━━━━━━━━━━━━━\u001b[0m\u001b[37m\u001b[0m \u001b[1m127s\u001b[0m 65ms/step - accuracy: 0.6831 - loss: 0.5889 - val_accuracy: 0.6846 - val_loss: 0.5860\n",
      "\n",
      "Evaluating the final model on the test set...\n"
     ]
    },
    {
     "name": "stderr",
     "output_type": "stream",
     "text": [
      "2025-07-30 14:43:57.760424: W external/local_xla/xla/tsl/framework/cpu_allocator_impl.cc:83] Allocation of 188636400 exceeds 10% of free system memory.\n"
     ]
    },
    {
     "name": "stdout",
     "output_type": "stream",
     "text": [
      "\u001b[1m4913/4913\u001b[0m \u001b[32m━━━━━━━━━━━━━━━━━━━━\u001b[0m\u001b[37m\u001b[0m \u001b[1m30s\u001b[0m 6ms/step\n",
      "\n",
      "Final LSTM Model Confusion Matrix:\n",
      "[[56534 27475]\n",
      " [21823 51365]]\n"
     ]
    }
   ],
   "source": [
    "from tensorflow.keras.models import Sequential\n",
    "from tensorflow.keras.layers import LSTM, Dense, Dropout\n",
    "from tensorflow.keras.callbacks import EarlyStopping\n",
    "\n",
    "# --- Step 4: Build and Train the LSTM Model ---\n",
    "\n",
    "print(\"\\nBuilding the LSTM model...\")\n",
    "model = Sequential([\n",
    "    # The LSTM layer processes the sequence. input_shape is (window_size, num_features)\n",
    "    LSTM(64, input_shape=(X_train_scaled.shape[1], X_train_scaled.shape[2])),\n",
    "    Dropout(0.5), # Dropout helps prevent overfitting\n",
    "    # The final Dense layer gives a single output (tap or no-tap)\n",
    "    Dense(1, activation='sigmoid') \n",
    "])\n",
    "\n",
    "# Compile the model\n",
    "model.compile(optimizer='adam', loss='binary_crossentropy', metrics=['accuracy'])\n",
    "model.summary()\n",
    "\n",
    "# To handle the class imbalance, we calculate class weights\n",
    "# This penalizes the model more for missing the rare 'tap' events\n",
    "from sklearn.utils import class_weight\n",
    "weights = class_weight.compute_class_weight('balanced', classes=np.unique(y_train), y=y_train)\n",
    "class_weights = {i : weights[i] for i in range(len(weights))}\n",
    "\n",
    "print(\"\\nTraining the LSTM model... (This may take a long time)\")\n",
    "# EarlyStopping will stop training if the model isn't improving\n",
    "early_stopping = EarlyStopping(monitor='val_loss', patience=3, restore_best_weights=True)\n",
    "\n",
    "history = model.fit(\n",
    "    X_train_scaled,\n",
    "    y_train,\n",
    "    epochs=15,\n",
    "    batch_size=256,\n",
    "    validation_split=0.2, # Use part of the training data for validation\n",
    "    class_weight=class_weights,\n",
    "    callbacks=[early_stopping]\n",
    ")\n",
    "\n",
    "\n",
    "# --- Step 5: Evaluate the Final Model ---\n",
    "\n",
    "print(\"\\nEvaluating the final model on the test set...\")\n",
    "# We predict probabilities and use a threshold of 0.5 to get 0s and 1s\n",
    "y_pred_probs = model.predict(X_test_scaled)\n",
    "y_pred = (y_pred_probs > 0.5).astype(int)\n",
    "\n",
    "print(\"\\nFinal LSTM Model Confusion Matrix:\")\n",
    "print(confusion_matrix(y_test, y_pred))"
   ]
  },
  {
   "cell_type": "code",
   "execution_count": null,
   "id": "40e09c34",
   "metadata": {},
   "outputs": [
    {
     "ename": "AttributeError",
     "evalue": "'Sequential' object has no attribute 'output_names'",
     "output_type": "error",
     "traceback": [
      "\u001b[31m---------------------------------------------------------------------------\u001b[39m",
      "\u001b[31mAttributeError\u001b[39m                            Traceback (most recent call last)",
      "\u001b[36mCell\u001b[39m\u001b[36m \u001b[39m\u001b[32mIn[14]\u001b[39m\u001b[32m, line 9\u001b[39m\n\u001b[32m      7\u001b[39m input_signature = [tf.TensorSpec([\u001b[32m3\u001b[39m, \u001b[32m3\u001b[39m], tf.float32, name=\u001b[33m'\u001b[39m\u001b[33mx\u001b[39m\u001b[33m'\u001b[39m)]\n\u001b[32m      8\u001b[39m \u001b[38;5;66;03m# Use from_function for tf functions\u001b[39;00m\n\u001b[32m----> \u001b[39m\u001b[32m9\u001b[39m onnx_model, _ = \u001b[43mtf2onnx\u001b[49m\u001b[43m.\u001b[49m\u001b[43mconvert\u001b[49m\u001b[43m.\u001b[49m\u001b[43mfrom_keras\u001b[49m\u001b[43m(\u001b[49m\u001b[43mmodel\u001b[49m\u001b[43m,\u001b[49m\u001b[43m \u001b[49m\u001b[43minput_signature\u001b[49m\u001b[43m,\u001b[49m\u001b[43m \u001b[49m\u001b[43mopset\u001b[49m\u001b[43m=\u001b[49m\u001b[32;43m13\u001b[39;49m\u001b[43m)\u001b[49m\n\u001b[32m     10\u001b[39m onnx.save(onnx_model, \u001b[33m\"\u001b[39m\u001b[33mdst/path/model.onnx\u001b[39m\u001b[33m\"\u001b[39m)\n",
      "\u001b[36mFile \u001b[39m\u001b[32m~/miniconda3/envs/tf/lib/python3.12/site-packages/tf2onnx/convert.py:442\u001b[39m, in \u001b[36mfrom_keras\u001b[39m\u001b[34m(model, input_signature, opset, custom_ops, custom_op_handlers, custom_rewriter, inputs_as_nchw, outputs_as_nchw, extra_opset, shape_override, target, large_model, output_path, optimizers)\u001b[39m\n\u001b[32m    438\u001b[39m \u001b[38;5;28;01mif\u001b[39;00m get_tf_version() < Version(\u001b[33m\"\u001b[39m\u001b[33m2.0\u001b[39m\u001b[33m\"\u001b[39m):\n\u001b[32m    439\u001b[39m     \u001b[38;5;28;01mreturn\u001b[39;00m _from_keras_tf1(model, opset, custom_ops, custom_op_handlers, custom_rewriter, inputs_as_nchw,\n\u001b[32m    440\u001b[39m                            outputs_as_nchw, extra_opset, shape_override, target, large_model, output_path)\n\u001b[32m--> \u001b[39m\u001b[32m442\u001b[39m old_out_names = \u001b[43m_rename_duplicate_keras_model_names\u001b[49m\u001b[43m(\u001b[49m\u001b[43mmodel\u001b[49m\u001b[43m)\u001b[49m\n\u001b[32m    443\u001b[39m \u001b[38;5;28;01mfrom\u001b[39;00m\u001b[38;5;250m \u001b[39m\u001b[34;01mtensorflow\u001b[39;00m\u001b[34;01m.\u001b[39;00m\u001b[34;01mpython\u001b[39;00m\u001b[34;01m.\u001b[39;00m\u001b[34;01mkeras\u001b[39;00m\u001b[34;01m.\u001b[39;00m\u001b[34;01msaving\u001b[39;00m\u001b[38;5;250m \u001b[39m\u001b[38;5;28;01mimport\u001b[39;00m saving_utils \u001b[38;5;28;01mas\u001b[39;00m _saving_utils \u001b[38;5;66;03m# pylint: disable=import-outside-toplevel\u001b[39;00m\n\u001b[32m    445\u001b[39m \u001b[38;5;66;03m# let tensorflow do the checking if model is a valid model\u001b[39;00m\n",
      "\u001b[36mFile \u001b[39m\u001b[32m~/miniconda3/envs/tf/lib/python3.12/site-packages/tf2onnx/convert.py:331\u001b[39m, in \u001b[36m_rename_duplicate_keras_model_names\u001b[39m\u001b[34m(model)\u001b[39m\n\u001b[32m    325\u001b[39m \u001b[38;5;250m\u001b[39m\u001b[33;03m\"\"\"\u001b[39;00m\n\u001b[32m    326\u001b[39m \u001b[33;03mIn very rare cases, keras has a bug where it will give multiple outputs the same name.\u001b[39;00m\n\u001b[32m    327\u001b[39m \u001b[33;03mWe must edit the model or the TF trace will fail. Returns old_out_names (or None if no edit was made).\u001b[39;00m\n\u001b[32m    328\u001b[39m \u001b[33;03mIMPORTANT: model may be edited. Assign model.output_names to old_out_names to restore.\u001b[39;00m\n\u001b[32m    329\u001b[39m \u001b[33;03m\"\"\"\u001b[39;00m\n\u001b[32m    330\u001b[39m old_out_names = \u001b[38;5;28;01mNone\u001b[39;00m\n\u001b[32m--> \u001b[39m\u001b[32m331\u001b[39m \u001b[38;5;28;01mif\u001b[39;00m \u001b[43mmodel\u001b[49m\u001b[43m.\u001b[49m\u001b[43moutput_names\u001b[49m \u001b[38;5;129;01mand\u001b[39;00m \u001b[38;5;28mlen\u001b[39m(\u001b[38;5;28mset\u001b[39m(model.output_names)) != \u001b[38;5;28mlen\u001b[39m(model.output_names):\n\u001b[32m    332\u001b[39m     \u001b[38;5;66;03m# In very rare cases, keras has a bug where it will give multiple outputs the same name\u001b[39;00m\n\u001b[32m    333\u001b[39m     \u001b[38;5;66;03m# We must edit the model or the TF trace will fail\u001b[39;00m\n\u001b[32m    334\u001b[39m     old_out_names = model.output_names\n\u001b[32m    335\u001b[39m     used_names = \u001b[38;5;28mset\u001b[39m()\n",
      "\u001b[31mAttributeError\u001b[39m: 'Sequential' object has no attribute 'output_names'"
     ]
    }
   ],
   "source": [
    "model.save('ltsm_tap_detector')  # Save the model for later use"
   ]
  },
  {
   "cell_type": "code",
   "execution_count": 17,
   "id": "3bed1b6f",
   "metadata": {},
   "outputs": [
    {
     "name": "stdout",
     "output_type": "stream",
     "text": [
      "INFO:tensorflow:Assets written to: ltsm_tap_detector_exported/assets\n"
     ]
    },
    {
     "name": "stderr",
     "output_type": "stream",
     "text": [
      "INFO:tensorflow:Assets written to: ltsm_tap_detector_exported/assets\n"
     ]
    },
    {
     "name": "stdout",
     "output_type": "stream",
     "text": [
      "Saved artifact at 'ltsm_tap_detector_exported'. The following endpoints are available:\n",
      "\n",
      "* Endpoint 'serve'\n",
      "  args_0 (POSITIONAL_ONLY): TensorSpec(shape=(None, 100, 3), dtype=tf.float32, name='input_layer')\n",
      "Output Type:\n",
      "  TensorSpec(shape=(None, 1), dtype=tf.float32, name=None)\n",
      "Captures:\n",
      "  139625029675984: TensorSpec(shape=(), dtype=tf.resource, name=None)\n",
      "  139625029677328: TensorSpec(shape=(), dtype=tf.resource, name=None)\n",
      "  139625029674256: TensorSpec(shape=(), dtype=tf.resource, name=None)\n",
      "  139625029677520: TensorSpec(shape=(), dtype=tf.resource, name=None)\n",
      "  139625029675792: TensorSpec(shape=(), dtype=tf.resource, name=None)\n"
     ]
    }
   ],
   "source": [
    "import tensorflow as tf\n",
    "\n",
    "# Load your trained model\n",
    "model = tf.keras.models.load_model('ltsm_tap_detector.keras')\n",
    "\n",
    "# Export it to a new directory\n",
    "model.export('ltsm_tap_detector_exported')"
   ]
  },
  {
   "cell_type": "code",
   "execution_count": 20,
   "id": "531d967a",
   "metadata": {},
   "outputs": [
    {
     "name": "stdout",
     "output_type": "stream",
     "text": [
      "✅ Model is structurally valid ONNX\n",
      "Inputs: [('input_layer', ['unk__248', 100, 3], 'tensor(float)')]\n",
      "Outputs: [('output_0', ['unk__249', 1], 'tensor(float)')]\n",
      "Dummy inference output: [array([[0.22932497]], dtype=float32)]\n"
     ]
    }
   ],
   "source": [
    "import onnx\n",
    "import onnxruntime as ort\n",
    "import numpy as np\n",
    "\n",
    "# 1. Load the ONNX model\n",
    "onnx_model_path = \"/data/transient/ahmedszz/Documents/vr_text_entry_models/vr_text_entry/typing_classifier/ltsm_tap_detector.onnx\"\n",
    "model = onnx.load(onnx_model_path)\n",
    "\n",
    "# 2. Check model structure\n",
    "onnx.checker.check_model(model)\n",
    "print(\"✅ Model is structurally valid ONNX\")\n",
    "\n",
    "# 3. Create an ONNX Runtime session\n",
    "session = ort.InferenceSession(onnx_model_path)\n",
    "\n",
    "# Print model I/O info\n",
    "print(\"Inputs:\", [(i.name, i.shape, i.type) for i in session.get_inputs()])\n",
    "print(\"Outputs:\", [(o.name, o.shape, o.type) for o in session.get_outputs()])\n",
    "\n",
    "# 4. Run a dummy inference\n",
    "# Example input shape: (1, 100, 3) -> batch of 1, 100 timesteps, 3 features\n",
    "dummy_input = np.random.rand(1, 100, 3).astype(np.float32)\n",
    "\n",
    "# Feed into the session\n",
    "input_name = session.get_inputs()[0].name\n",
    "output_name = session.get_outputs()[0].name\n",
    "\n",
    "result = session.run([output_name], {input_name: dummy_input})\n",
    "print(\"Dummy inference output:\", result)"
   ]
  }
 ],
 "metadata": {
  "kernelspec": {
   "display_name": "tf",
   "language": "python",
   "name": "python3"
  },
  "language_info": {
   "codemirror_mode": {
    "name": "ipython",
    "version": 3
   },
   "file_extension": ".py",
   "mimetype": "text/x-python",
   "name": "python",
   "nbconvert_exporter": "python",
   "pygments_lexer": "ipython3",
   "version": "3.12.11"
  }
 },
 "nbformat": 4,
 "nbformat_minor": 5
}
